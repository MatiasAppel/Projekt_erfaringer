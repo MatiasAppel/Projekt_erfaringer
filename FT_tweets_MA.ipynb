{
 "cells": [
  {
   "cell_type": "markdown",
   "id": "94e0ff09-ce2e-4439-bac4-e1edffabb241",
   "metadata": {},
   "source": [
    "# Datahåndtering og -wrangling af MF'eres tweets"
   ]
  },
  {
   "cell_type": "code",
   "execution_count": 1,
   "id": "7c5c0bae-4f20-41a8-a7ef-5ac1e8363182",
   "metadata": {
    "execution": {
     "iopub.execute_input": "2022-12-15T21:21:06.261706Z",
     "iopub.status.busy": "2022-12-15T21:21:06.260831Z",
     "iopub.status.idle": "2022-12-15T21:21:23.013535Z",
     "shell.execute_reply": "2022-12-15T21:21:23.012191Z",
     "shell.execute_reply.started": "2022-12-15T21:21:06.261656Z"
    },
    "tags": []
   },
   "outputs": [
    {
     "name": "stdout",
     "output_type": "stream",
     "text": [
      "Requirement already satisfied: plotnine in /opt/conda/lib/python3.9/site-packages (0.10.1)\n",
      "Requirement already satisfied: patsy>=0.5.1 in /opt/conda/lib/python3.9/site-packages (from plotnine) (0.5.3)\n",
      "Requirement already satisfied: pandas>=1.3.5 in /opt/conda/lib/python3.9/site-packages (from plotnine) (1.5.2)\n",
      "Requirement already satisfied: mizani>=0.8.1 in /opt/conda/lib/python3.9/site-packages (from plotnine) (0.8.1)\n",
      "Requirement already satisfied: matplotlib>=3.5.0 in /opt/conda/lib/python3.9/site-packages (from plotnine) (3.5.2)\n",
      "Requirement already satisfied: statsmodels>=0.13.2 in /opt/conda/lib/python3.9/site-packages (from plotnine) (0.13.5)\n",
      "Requirement already satisfied: numpy>=1.19.0 in /opt/conda/lib/python3.9/site-packages (from plotnine) (1.22.4)\n",
      "Requirement already satisfied: scipy>=1.5.0 in /opt/conda/lib/python3.9/site-packages (from plotnine) (1.9.3)\n",
      "Requirement already satisfied: fonttools>=4.22.0 in /opt/conda/lib/python3.9/site-packages (from matplotlib>=3.5.0->plotnine) (4.33.3)\n",
      "Requirement already satisfied: pyparsing>=2.2.1 in /opt/conda/lib/python3.9/site-packages (from matplotlib>=3.5.0->plotnine) (3.0.9)\n",
      "Requirement already satisfied: packaging>=20.0 in /opt/conda/lib/python3.9/site-packages (from matplotlib>=3.5.0->plotnine) (21.3)\n",
      "Requirement already satisfied: kiwisolver>=1.0.1 in /opt/conda/lib/python3.9/site-packages (from matplotlib>=3.5.0->plotnine) (1.4.2)\n",
      "Requirement already satisfied: python-dateutil>=2.7 in /opt/conda/lib/python3.9/site-packages (from matplotlib>=3.5.0->plotnine) (2.8.2)\n",
      "Requirement already satisfied: cycler>=0.10 in /opt/conda/lib/python3.9/site-packages (from matplotlib>=3.5.0->plotnine) (0.11.0)\n",
      "Requirement already satisfied: pillow>=6.2.0 in /opt/conda/lib/python3.9/site-packages (from matplotlib>=3.5.0->plotnine) (9.1.1)\n",
      "Requirement already satisfied: palettable in /opt/conda/lib/python3.9/site-packages (from mizani>=0.8.1->plotnine) (3.3.0)\n",
      "Requirement already satisfied: pytz>=2020.1 in /opt/conda/lib/python3.9/site-packages (from pandas>=1.3.5->plotnine) (2022.1)\n",
      "Requirement already satisfied: six in /opt/conda/lib/python3.9/site-packages (from patsy>=0.5.1->plotnine) (1.16.0)\n"
     ]
    },
    {
     "name": "stderr",
     "output_type": "stream",
     "text": [
      "[nltk_data] Downloading package punkt to /home/ucloud/nltk_data...\n",
      "[nltk_data]   Unzipping tokenizers/punkt.zip.\n"
     ]
    },
    {
     "name": "stdout",
     "output_type": "stream",
     "text": [
      "Collecting scikit-learn\n",
      "  Downloading scikit_learn-1.2.0-cp39-cp39-manylinux_2_17_x86_64.manylinux2014_x86_64.whl (9.5 MB)\n",
      "\u001b[2K     \u001b[90m━━━━━━━━━━━━━━━━━━━━━━━━━━━━━━━━━━━━━━━━\u001b[0m \u001b[32m9.5/9.5 MB\u001b[0m \u001b[31m19.2 MB/s\u001b[0m eta \u001b[36m0:00:00\u001b[0m00:01\u001b[0m00:01\u001b[0m\n",
      "\u001b[?25hRequirement already satisfied: joblib>=1.1.1 in /opt/conda/lib/python3.9/site-packages (from scikit-learn) (1.2.0)\n",
      "Collecting threadpoolctl>=2.0.0\n",
      "  Downloading threadpoolctl-3.1.0-py3-none-any.whl (14 kB)\n",
      "Requirement already satisfied: scipy>=1.3.2 in /opt/conda/lib/python3.9/site-packages (from scikit-learn) (1.9.3)\n",
      "Requirement already satisfied: numpy>=1.17.3 in /opt/conda/lib/python3.9/site-packages (from scikit-learn) (1.22.4)\n",
      "Installing collected packages: threadpoolctl, scikit-learn\n",
      "Successfully installed scikit-learn-1.2.0 threadpoolctl-3.1.0\n"
     ]
    }
   ],
   "source": [
    "import pandas as pd\n",
    "import json\n",
    "import os\n",
    "import re\n",
    "import datetime\n",
    "import sys\n",
    "import numpy as np #bruges til tal og grafer\n",
    "import matplotlib.pyplot as plt #bruges til grafer\n",
    "!{sys.executable} -m pip install plotnine\n",
    "from plotnine import *\n",
    "import spacy\n",
    "import nltk \n",
    "nltk.download('punkt')\n",
    "!{sys.executable} -m pip install scikit-learn\n",
    "from sklearn.feature_extraction.text import CountVectorizer\n",
    "from sklearn.feature_extraction.text import TfidfVectorizer\n",
    "from sklearn.cluster import KMeans\n",
    "from sklearn.decomposition import PCA"
   ]
  },
  {
   "cell_type": "code",
   "execution_count": 2,
   "id": "83295028-d0da-4b98-9925-b9613c2c9221",
   "metadata": {
    "execution": {
     "iopub.execute_input": "2022-12-15T21:21:33.166778Z",
     "iopub.status.busy": "2022-12-15T21:21:33.166088Z",
     "iopub.status.idle": "2022-12-15T21:21:33.173051Z",
     "shell.execute_reply": "2022-12-15T21:21:33.172239Z",
     "shell.execute_reply.started": "2022-12-15T21:21:33.166732Z"
    },
    "tags": []
   },
   "outputs": [],
   "source": [
    "data_path = os.path.join(\"..\", \"data\")\n",
    "tw_file_name = \"poltweet_set.gz\"\n",
    "df_path = os.path.join(data_path, tw_file_name)"
   ]
  },
  {
   "cell_type": "code",
   "execution_count": 3,
   "id": "eaa63b5c-6876-42d8-842e-3665d30850c1",
   "metadata": {
    "execution": {
     "iopub.execute_input": "2022-12-15T21:21:33.449012Z",
     "iopub.status.busy": "2022-12-15T21:21:33.448530Z",
     "iopub.status.idle": "2022-12-15T21:22:04.870243Z",
     "shell.execute_reply": "2022-12-15T21:22:04.869226Z",
     "shell.execute_reply.started": "2022-12-15T21:21:33.448980Z"
    },
    "tags": []
   },
   "outputs": [
    {
     "name": "stderr",
     "output_type": "stream",
     "text": [
      "/tmp/ipykernel_325/1355655951.py:1: DtypeWarning: Columns (19,20,36,37,38,87) have mixed types. Specify dtype option on import or set low_memory=False.\n"
     ]
    }
   ],
   "source": [
    "tweet_df = pd.read_csv(df_path)\n",
    "parl_mem = pd.read_csv(os.path.join(data_path, \"Folketinget_twitter.csv\"), sep = \";\")"
   ]
  },
  {
   "cell_type": "code",
   "execution_count": 4,
   "id": "593cbdf3-3a5d-4eff-8fde-2ffbd3cebff4",
   "metadata": {
    "execution": {
     "iopub.execute_input": "2022-12-15T21:22:04.893873Z",
     "iopub.status.busy": "2022-12-15T21:22:04.893671Z",
     "iopub.status.idle": "2022-12-15T21:22:04.917841Z",
     "shell.execute_reply": "2022-12-15T21:22:04.917147Z",
     "shell.execute_reply.started": "2022-12-15T21:22:04.893855Z"
    },
    "tags": []
   },
   "outputs": [
    {
     "data": {
      "text/html": [
       "<div>\n",
       "<style scoped>\n",
       "    .dataframe tbody tr th:only-of-type {\n",
       "        vertical-align: middle;\n",
       "    }\n",
       "\n",
       "    .dataframe tbody tr th {\n",
       "        vertical-align: top;\n",
       "    }\n",
       "\n",
       "    .dataframe thead th {\n",
       "        text-align: right;\n",
       "    }\n",
       "</style>\n",
       "<table border=\"1\" class=\"dataframe\">\n",
       "  <thead>\n",
       "    <tr style=\"text-align: right;\">\n",
       "      <th></th>\n",
       "      <th>Unnamed: 0.2</th>\n",
       "      <th>level_0</th>\n",
       "      <th>Unnamed: 0.1</th>\n",
       "      <th>index</th>\n",
       "      <th>Unnamed: 0</th>\n",
       "      <th>created_at</th>\n",
       "      <th>id</th>\n",
       "      <th>id_str</th>\n",
       "      <th>full_text</th>\n",
       "      <th>truncated</th>\n",
       "      <th>...</th>\n",
       "      <th>user_following</th>\n",
       "      <th>user_follow_request_sent</th>\n",
       "      <th>user_notifications</th>\n",
       "      <th>user_translator_type</th>\n",
       "      <th>user_withheld_in_countries</th>\n",
       "      <th>hashtags.1</th>\n",
       "      <th>symbols.1</th>\n",
       "      <th>user_mentions.1</th>\n",
       "      <th>urls.1</th>\n",
       "      <th>media.1</th>\n",
       "    </tr>\n",
       "  </thead>\n",
       "  <tbody>\n",
       "    <tr>\n",
       "      <th>0</th>\n",
       "      <td>0</td>\n",
       "      <td>0</td>\n",
       "      <td>0</td>\n",
       "      <td>0</td>\n",
       "      <td>0</td>\n",
       "      <td>Tue Apr 06 20:55:45 +0000 2021</td>\n",
       "      <td>1379538341528494000</td>\n",
       "      <td>1379538341528494083</td>\n",
       "      <td>RT @PoulHoi: FTs opgørelse over overdødelighed...</td>\n",
       "      <td>False</td>\n",
       "      <td>...</td>\n",
       "      <td>NaN</td>\n",
       "      <td>NaN</td>\n",
       "      <td>NaN</td>\n",
       "      <td>none</td>\n",
       "      <td>NaN</td>\n",
       "      <td>NaN</td>\n",
       "      <td>[]</td>\n",
       "      <td>[{'screen_name': 'PoulHoi', 'name': 'Poul Hoi'...</td>\n",
       "      <td>[]</td>\n",
       "      <td>NaN</td>\n",
       "    </tr>\n",
       "    <tr>\n",
       "      <th>1</th>\n",
       "      <td>1</td>\n",
       "      <td>1</td>\n",
       "      <td>1</td>\n",
       "      <td>1</td>\n",
       "      <td>1</td>\n",
       "      <td>Tue Apr 06 06:29:14 +0000 2021</td>\n",
       "      <td>1379320273313407000</td>\n",
       "      <td>1379320273313406978</td>\n",
       "      <td>@mikker Hej Mikkel. Ping modtaget. Håber, at h...</td>\n",
       "      <td>False</td>\n",
       "      <td>...</td>\n",
       "      <td>NaN</td>\n",
       "      <td>NaN</td>\n",
       "      <td>NaN</td>\n",
       "      <td>none</td>\n",
       "      <td>NaN</td>\n",
       "      <td>NaN</td>\n",
       "      <td>[]</td>\n",
       "      <td>[{'screen_name': 'mikker', 'name': 'Mikkel Mal...</td>\n",
       "      <td>[]</td>\n",
       "      <td>NaN</td>\n",
       "    </tr>\n",
       "    <tr>\n",
       "      <th>2</th>\n",
       "      <td>2</td>\n",
       "      <td>2</td>\n",
       "      <td>2</td>\n",
       "      <td>2</td>\n",
       "      <td>2</td>\n",
       "      <td>Mon Apr 05 06:18:35 +0000 2021</td>\n",
       "      <td>1378955203941109800</td>\n",
       "      <td>1378955203941109762</td>\n",
       "      <td>@veloropa Flotte, sigende fotos. Fedt, at Saga...</td>\n",
       "      <td>False</td>\n",
       "      <td>...</td>\n",
       "      <td>NaN</td>\n",
       "      <td>NaN</td>\n",
       "      <td>NaN</td>\n",
       "      <td>none</td>\n",
       "      <td>NaN</td>\n",
       "      <td>NaN</td>\n",
       "      <td>[]</td>\n",
       "      <td>[{'screen_name': 'veloropa', 'name': 'Veloropa...</td>\n",
       "      <td>[]</td>\n",
       "      <td>NaN</td>\n",
       "    </tr>\n",
       "    <tr>\n",
       "      <th>3</th>\n",
       "      <td>3</td>\n",
       "      <td>3</td>\n",
       "      <td>3</td>\n",
       "      <td>3</td>\n",
       "      <td>3</td>\n",
       "      <td>Sun Apr 04 20:25:07 +0000 2021</td>\n",
       "      <td>1378805855357956000</td>\n",
       "      <td>1378805855357956103</td>\n",
       "      <td>@jakobherskind @Kildegaardens Ja, måske. Men m...</td>\n",
       "      <td>False</td>\n",
       "      <td>...</td>\n",
       "      <td>NaN</td>\n",
       "      <td>NaN</td>\n",
       "      <td>NaN</td>\n",
       "      <td>none</td>\n",
       "      <td>NaN</td>\n",
       "      <td>NaN</td>\n",
       "      <td>[]</td>\n",
       "      <td>[{'screen_name': 'jakobherskind', 'name': 'Jak...</td>\n",
       "      <td>[]</td>\n",
       "      <td>NaN</td>\n",
       "    </tr>\n",
       "    <tr>\n",
       "      <th>4</th>\n",
       "      <td>4</td>\n",
       "      <td>4</td>\n",
       "      <td>4</td>\n",
       "      <td>4</td>\n",
       "      <td>4</td>\n",
       "      <td>Sun Apr 04 19:07:07 +0000 2021</td>\n",
       "      <td>1378786226367557600</td>\n",
       "      <td>1378786226367557633</td>\n",
       "      <td>@veloropa Er der en egentligt nederlands/flams...</td>\n",
       "      <td>False</td>\n",
       "      <td>...</td>\n",
       "      <td>NaN</td>\n",
       "      <td>NaN</td>\n",
       "      <td>NaN</td>\n",
       "      <td>none</td>\n",
       "      <td>NaN</td>\n",
       "      <td>NaN</td>\n",
       "      <td>[]</td>\n",
       "      <td>[{'screen_name': 'veloropa', 'name': 'Veloropa...</td>\n",
       "      <td>[]</td>\n",
       "      <td>NaN</td>\n",
       "    </tr>\n",
       "    <tr>\n",
       "      <th>5</th>\n",
       "      <td>5</td>\n",
       "      <td>5</td>\n",
       "      <td>5</td>\n",
       "      <td>5</td>\n",
       "      <td>5</td>\n",
       "      <td>Sun Apr 04 14:46:05 +0000 2021</td>\n",
       "      <td>1378720534326820900</td>\n",
       "      <td>1378720534326820869</td>\n",
       "      <td>Send fregatterne på søen og F16 i luften! Kasp...</td>\n",
       "      <td>False</td>\n",
       "      <td>...</td>\n",
       "      <td>NaN</td>\n",
       "      <td>NaN</td>\n",
       "      <td>NaN</td>\n",
       "      <td>none</td>\n",
       "      <td>NaN</td>\n",
       "      <td>NaN</td>\n",
       "      <td>[]</td>\n",
       "      <td>[]</td>\n",
       "      <td>[]</td>\n",
       "      <td>[{'id': 1378720528949727200, 'id_str': '137872...</td>\n",
       "    </tr>\n",
       "    <tr>\n",
       "      <th>6</th>\n",
       "      <td>6</td>\n",
       "      <td>6</td>\n",
       "      <td>6</td>\n",
       "      <td>6</td>\n",
       "      <td>6</td>\n",
       "      <td>Wed Mar 31 16:16:25 +0000 2021</td>\n",
       "      <td>1377293715472015400</td>\n",
       "      <td>1377293715472015363</td>\n",
       "      <td>@MikkelFrey “Det er en syg høne, der har lagt ...</td>\n",
       "      <td>False</td>\n",
       "      <td>...</td>\n",
       "      <td>NaN</td>\n",
       "      <td>NaN</td>\n",
       "      <td>NaN</td>\n",
       "      <td>none</td>\n",
       "      <td>NaN</td>\n",
       "      <td>NaN</td>\n",
       "      <td>[]</td>\n",
       "      <td>[{'screen_name': 'MikkelFrey', 'name': 'Mikkel...</td>\n",
       "      <td>[]</td>\n",
       "      <td>NaN</td>\n",
       "    </tr>\n",
       "    <tr>\n",
       "      <th>7</th>\n",
       "      <td>7</td>\n",
       "      <td>7</td>\n",
       "      <td>7</td>\n",
       "      <td>7</td>\n",
       "      <td>7</td>\n",
       "      <td>Wed Mar 31 09:08:50 +0000 2021</td>\n",
       "      <td>1377186110124683300</td>\n",
       "      <td>1377186110124683278</td>\n",
       "      <td>@LAggerstroem Tillykke. Og tak for det sidste ...</td>\n",
       "      <td>False</td>\n",
       "      <td>...</td>\n",
       "      <td>NaN</td>\n",
       "      <td>NaN</td>\n",
       "      <td>NaN</td>\n",
       "      <td>none</td>\n",
       "      <td>NaN</td>\n",
       "      <td>NaN</td>\n",
       "      <td>[]</td>\n",
       "      <td>[{'screen_name': 'LAggerstroem', 'name': 'Loui...</td>\n",
       "      <td>[]</td>\n",
       "      <td>NaN</td>\n",
       "    </tr>\n",
       "    <tr>\n",
       "      <th>8</th>\n",
       "      <td>8</td>\n",
       "      <td>8</td>\n",
       "      <td>8</td>\n",
       "      <td>8</td>\n",
       "      <td>8</td>\n",
       "      <td>Tue Aug 02 17:45:32 +0000 2022</td>\n",
       "      <td>1554523811470577700</td>\n",
       "      <td>1554523811470577670</td>\n",
       "      <td>@MadsAakjaer Nej, beregningerne er ikke lavet ...</td>\n",
       "      <td>False</td>\n",
       "      <td>...</td>\n",
       "      <td>NaN</td>\n",
       "      <td>NaN</td>\n",
       "      <td>NaN</td>\n",
       "      <td>none</td>\n",
       "      <td>NaN</td>\n",
       "      <td>NaN</td>\n",
       "      <td>[]</td>\n",
       "      <td>[{'screen_name': 'MadsAakjaer', 'name': 'Mads ...</td>\n",
       "      <td>[]</td>\n",
       "      <td>NaN</td>\n",
       "    </tr>\n",
       "    <tr>\n",
       "      <th>9</th>\n",
       "      <td>9</td>\n",
       "      <td>9</td>\n",
       "      <td>9</td>\n",
       "      <td>9</td>\n",
       "      <td>9</td>\n",
       "      <td>Tue Aug 02 15:01:36 +0000 2022</td>\n",
       "      <td>1554482555893809200</td>\n",
       "      <td>1554482555893809153</td>\n",
       "      <td>@MadsAakjaer Ikke sandt. https://t.co/RoXPw4TGOf</td>\n",
       "      <td>False</td>\n",
       "      <td>...</td>\n",
       "      <td>NaN</td>\n",
       "      <td>NaN</td>\n",
       "      <td>NaN</td>\n",
       "      <td>none</td>\n",
       "      <td>NaN</td>\n",
       "      <td>NaN</td>\n",
       "      <td>[]</td>\n",
       "      <td>[{'screen_name': 'MadsAakjaer', 'name': 'Mads ...</td>\n",
       "      <td>[{'url': 'https://t.co/RoXPw4TGOf', 'expanded_...</td>\n",
       "      <td>NaN</td>\n",
       "    </tr>\n",
       "    <tr>\n",
       "      <th>10</th>\n",
       "      <td>10</td>\n",
       "      <td>10</td>\n",
       "      <td>10</td>\n",
       "      <td>10</td>\n",
       "      <td>10</td>\n",
       "      <td>Tue Aug 02 15:00:24 +0000 2022</td>\n",
       "      <td>1554482250984611800</td>\n",
       "      <td>1554482250984611840</td>\n",
       "      <td>@PerTolboll Jeg ved det ikke. Vores bil er fra...</td>\n",
       "      <td>False</td>\n",
       "      <td>...</td>\n",
       "      <td>NaN</td>\n",
       "      <td>NaN</td>\n",
       "      <td>NaN</td>\n",
       "      <td>none</td>\n",
       "      <td>NaN</td>\n",
       "      <td>NaN</td>\n",
       "      <td>[]</td>\n",
       "      <td>[{'screen_name': 'PerTolboll', 'name': 'Per To...</td>\n",
       "      <td>[]</td>\n",
       "      <td>NaN</td>\n",
       "    </tr>\n",
       "    <tr>\n",
       "      <th>11</th>\n",
       "      <td>11</td>\n",
       "      <td>11</td>\n",
       "      <td>11</td>\n",
       "      <td>11</td>\n",
       "      <td>11</td>\n",
       "      <td>Tue Aug 02 06:55:06 +0000 2022</td>\n",
       "      <td>1554360122511605800</td>\n",
       "      <td>1554360122511605760</td>\n",
       "      <td>@LindgaardMl “Man kan ikke fremstille boliger,...</td>\n",
       "      <td>False</td>\n",
       "      <td>...</td>\n",
       "      <td>NaN</td>\n",
       "      <td>NaN</td>\n",
       "      <td>NaN</td>\n",
       "      <td>none</td>\n",
       "      <td>NaN</td>\n",
       "      <td>NaN</td>\n",
       "      <td>[]</td>\n",
       "      <td>[{'screen_name': 'LindgaardMl', 'name': 'Marti...</td>\n",
       "      <td>[]</td>\n",
       "      <td>NaN</td>\n",
       "    </tr>\n",
       "    <tr>\n",
       "      <th>12</th>\n",
       "      <td>12</td>\n",
       "      <td>12</td>\n",
       "      <td>12</td>\n",
       "      <td>12</td>\n",
       "      <td>12</td>\n",
       "      <td>Tue Aug 02 06:20:34 +0000 2022</td>\n",
       "      <td>1554351432731467800</td>\n",
       "      <td>1554351432731467776</td>\n",
       "      <td>@LindgaardMl Der er 1,4 mia. biler på verdensp...</td>\n",
       "      <td>False</td>\n",
       "      <td>...</td>\n",
       "      <td>NaN</td>\n",
       "      <td>NaN</td>\n",
       "      <td>NaN</td>\n",
       "      <td>none</td>\n",
       "      <td>NaN</td>\n",
       "      <td>NaN</td>\n",
       "      <td>[]</td>\n",
       "      <td>[{'screen_name': 'LindgaardMl', 'name': 'Marti...</td>\n",
       "      <td>[]</td>\n",
       "      <td>NaN</td>\n",
       "    </tr>\n",
       "    <tr>\n",
       "      <th>13</th>\n",
       "      <td>13</td>\n",
       "      <td>13</td>\n",
       "      <td>13</td>\n",
       "      <td>13</td>\n",
       "      <td>13</td>\n",
       "      <td>Mon Aug 01 20:21:06 +0000 2022</td>\n",
       "      <td>1554200569279021000</td>\n",
       "      <td>1554200569279021062</td>\n",
       "      <td>@ugleberg https://t.co/OwdTV9xnJp</td>\n",
       "      <td>False</td>\n",
       "      <td>...</td>\n",
       "      <td>NaN</td>\n",
       "      <td>NaN</td>\n",
       "      <td>NaN</td>\n",
       "      <td>none</td>\n",
       "      <td>NaN</td>\n",
       "      <td>NaN</td>\n",
       "      <td>[]</td>\n",
       "      <td>[{'screen_name': 'ugleberg', 'name': 'Henrik U...</td>\n",
       "      <td>[{'url': 'https://t.co/OwdTV9xnJp', 'expanded_...</td>\n",
       "      <td>NaN</td>\n",
       "    </tr>\n",
       "    <tr>\n",
       "      <th>14</th>\n",
       "      <td>14</td>\n",
       "      <td>14</td>\n",
       "      <td>14</td>\n",
       "      <td>14</td>\n",
       "      <td>14</td>\n",
       "      <td>Mon Aug 01 07:32:56 +0000 2022</td>\n",
       "      <td>1554007255607033900</td>\n",
       "      <td>1554007255607033856</td>\n",
       "      <td>Vi var på kør selv-ferie i Sydfrankrig med elb...</td>\n",
       "      <td>False</td>\n",
       "      <td>...</td>\n",
       "      <td>NaN</td>\n",
       "      <td>NaN</td>\n",
       "      <td>NaN</td>\n",
       "      <td>none</td>\n",
       "      <td>NaN</td>\n",
       "      <td>NaN</td>\n",
       "      <td>[]</td>\n",
       "      <td>[]</td>\n",
       "      <td>[]</td>\n",
       "      <td>[{'id': 1554007249231675400, 'id_str': '155400...</td>\n",
       "    </tr>\n",
       "    <tr>\n",
       "      <th>15</th>\n",
       "      <td>15</td>\n",
       "      <td>15</td>\n",
       "      <td>15</td>\n",
       "      <td>15</td>\n",
       "      <td>15</td>\n",
       "      <td>Sun Jul 31 16:14:31 +0000 2022</td>\n",
       "      <td>1553776129206587400</td>\n",
       "      <td>1553776129206587392</td>\n",
       "      <td>@mignon_dann Terrænet er noget mere kuperet he...</td>\n",
       "      <td>False</td>\n",
       "      <td>...</td>\n",
       "      <td>NaN</td>\n",
       "      <td>NaN</td>\n",
       "      <td>NaN</td>\n",
       "      <td>none</td>\n",
       "      <td>NaN</td>\n",
       "      <td>NaN</td>\n",
       "      <td>[]</td>\n",
       "      <td>[{'screen_name': 'mignon_dann', 'name': 'Dann ...</td>\n",
       "      <td>[]</td>\n",
       "      <td>NaN</td>\n",
       "    </tr>\n",
       "    <tr>\n",
       "      <th>16</th>\n",
       "      <td>16</td>\n",
       "      <td>16</td>\n",
       "      <td>16</td>\n",
       "      <td>16</td>\n",
       "      <td>16</td>\n",
       "      <td>Sun Jul 31 15:32:00 +0000 2022</td>\n",
       "      <td>1553765428966695000</td>\n",
       "      <td>1553765428966694914</td>\n",
       "      <td>Her på egnen bruges geder til at holde krattet...</td>\n",
       "      <td>False</td>\n",
       "      <td>...</td>\n",
       "      <td>NaN</td>\n",
       "      <td>NaN</td>\n",
       "      <td>NaN</td>\n",
       "      <td>none</td>\n",
       "      <td>NaN</td>\n",
       "      <td>NaN</td>\n",
       "      <td>[]</td>\n",
       "      <td>[]</td>\n",
       "      <td>[]</td>\n",
       "      <td>[{'id': 1553765414685008000, 'id_str': '155376...</td>\n",
       "    </tr>\n",
       "    <tr>\n",
       "      <th>17</th>\n",
       "      <td>17</td>\n",
       "      <td>17</td>\n",
       "      <td>17</td>\n",
       "      <td>17</td>\n",
       "      <td>17</td>\n",
       "      <td>Sun Jul 31 12:50:26 +0000 2022</td>\n",
       "      <td>1553724767701721000</td>\n",
       "      <td>1553724767701721088</td>\n",
       "      <td>@AnnettRios9 @SorenFaaborg @JoachimBOlsen @MrM...</td>\n",
       "      <td>False</td>\n",
       "      <td>...</td>\n",
       "      <td>NaN</td>\n",
       "      <td>NaN</td>\n",
       "      <td>NaN</td>\n",
       "      <td>none</td>\n",
       "      <td>NaN</td>\n",
       "      <td>NaN</td>\n",
       "      <td>[]</td>\n",
       "      <td>[{'screen_name': 'AnnettRios9', 'name': 'Annet...</td>\n",
       "      <td>[]</td>\n",
       "      <td>NaN</td>\n",
       "    </tr>\n",
       "    <tr>\n",
       "      <th>18</th>\n",
       "      <td>18</td>\n",
       "      <td>18</td>\n",
       "      <td>18</td>\n",
       "      <td>18</td>\n",
       "      <td>18</td>\n",
       "      <td>Sun Jul 31 07:08:39 +0000 2022</td>\n",
       "      <td>1553638755461906400</td>\n",
       "      <td>1553638755461906432</td>\n",
       "      <td>@SorenFaaborg @JoachimBOlsen @MrMesserschmidt ...</td>\n",
       "      <td>False</td>\n",
       "      <td>...</td>\n",
       "      <td>NaN</td>\n",
       "      <td>NaN</td>\n",
       "      <td>NaN</td>\n",
       "      <td>none</td>\n",
       "      <td>NaN</td>\n",
       "      <td>NaN</td>\n",
       "      <td>[]</td>\n",
       "      <td>[{'screen_name': 'SorenFaaborg', 'name': 'Søre...</td>\n",
       "      <td>[{'url': 'https://t.co/m7N8wO2amT', 'expanded_...</td>\n",
       "      <td>NaN</td>\n",
       "    </tr>\n",
       "    <tr>\n",
       "      <th>19</th>\n",
       "      <td>19</td>\n",
       "      <td>19</td>\n",
       "      <td>19</td>\n",
       "      <td>19</td>\n",
       "      <td>19</td>\n",
       "      <td>Sat Jul 30 19:00:25 +0000 2022</td>\n",
       "      <td>1553455489161334800</td>\n",
       "      <td>1553455489161334785</td>\n",
       "      <td>@KlausAndersen9 Det er mere en sæl, ikke?</td>\n",
       "      <td>False</td>\n",
       "      <td>...</td>\n",
       "      <td>NaN</td>\n",
       "      <td>NaN</td>\n",
       "      <td>NaN</td>\n",
       "      <td>none</td>\n",
       "      <td>NaN</td>\n",
       "      <td>NaN</td>\n",
       "      <td>[]</td>\n",
       "      <td>[{'screen_name': 'KlausAndersen9', 'name': 'Kl...</td>\n",
       "      <td>[]</td>\n",
       "      <td>NaN</td>\n",
       "    </tr>\n",
       "    <tr>\n",
       "      <th>20</th>\n",
       "      <td>20</td>\n",
       "      <td>20</td>\n",
       "      <td>20</td>\n",
       "      <td>20</td>\n",
       "      <td>20</td>\n",
       "      <td>Sat Jul 30 13:11:35 +0000 2022</td>\n",
       "      <td>1553367704609988600</td>\n",
       "      <td>1553367704609988615</td>\n",
       "      <td>Hele den opsigtsvækkende historie: https://t.c...</td>\n",
       "      <td>False</td>\n",
       "      <td>...</td>\n",
       "      <td>NaN</td>\n",
       "      <td>NaN</td>\n",
       "      <td>NaN</td>\n",
       "      <td>none</td>\n",
       "      <td>NaN</td>\n",
       "      <td>NaN</td>\n",
       "      <td>[]</td>\n",
       "      <td>[]</td>\n",
       "      <td>[{'url': 'https://t.co/SYOVVB6w58', 'expanded_...</td>\n",
       "      <td>NaN</td>\n",
       "    </tr>\n",
       "    <tr>\n",
       "      <th>21</th>\n",
       "      <td>21</td>\n",
       "      <td>21</td>\n",
       "      <td>21</td>\n",
       "      <td>21</td>\n",
       "      <td>21</td>\n",
       "      <td>Sat Jul 30 13:11:34 +0000 2022</td>\n",
       "      <td>1553367701959090200</td>\n",
       "      <td>1553367701959090177</td>\n",
       "      <td>“På den mindste af de to knolde har Bent Juhl ...</td>\n",
       "      <td>False</td>\n",
       "      <td>...</td>\n",
       "      <td>NaN</td>\n",
       "      <td>NaN</td>\n",
       "      <td>NaN</td>\n",
       "      <td>none</td>\n",
       "      <td>NaN</td>\n",
       "      <td>NaN</td>\n",
       "      <td>[]</td>\n",
       "      <td>[]</td>\n",
       "      <td>[]</td>\n",
       "      <td>[{'id': 1553367694392664000, 'id_str': '155336...</td>\n",
       "    </tr>\n",
       "    <tr>\n",
       "      <th>22</th>\n",
       "      <td>22</td>\n",
       "      <td>22</td>\n",
       "      <td>22</td>\n",
       "      <td>22</td>\n",
       "      <td>22</td>\n",
       "      <td>Fri Jul 29 05:47:59 +0000 2022</td>\n",
       "      <td>1552893678959706000</td>\n",
       "      <td>1552893678959706112</td>\n",
       "      <td>@StigMcShane @JohnniePedersen 20 pct. af bolig...</td>\n",
       "      <td>False</td>\n",
       "      <td>...</td>\n",
       "      <td>NaN</td>\n",
       "      <td>NaN</td>\n",
       "      <td>NaN</td>\n",
       "      <td>none</td>\n",
       "      <td>NaN</td>\n",
       "      <td>NaN</td>\n",
       "      <td>[]</td>\n",
       "      <td>[{'screen_name': 'StigMcShane', 'name': 'Stig ...</td>\n",
       "      <td>[]</td>\n",
       "      <td>NaN</td>\n",
       "    </tr>\n",
       "    <tr>\n",
       "      <th>23</th>\n",
       "      <td>23</td>\n",
       "      <td>23</td>\n",
       "      <td>23</td>\n",
       "      <td>23</td>\n",
       "      <td>23</td>\n",
       "      <td>Thu Jul 28 19:22:12 +0000 2022</td>\n",
       "      <td>1552736195125338000</td>\n",
       "      <td>1552736195125338112</td>\n",
       "      <td>Den enkelte uddannelsessøgende bliver midlet, ...</td>\n",
       "      <td>False</td>\n",
       "      <td>...</td>\n",
       "      <td>NaN</td>\n",
       "      <td>NaN</td>\n",
       "      <td>NaN</td>\n",
       "      <td>none</td>\n",
       "      <td>NaN</td>\n",
       "      <td>NaN</td>\n",
       "      <td>[]</td>\n",
       "      <td>[]</td>\n",
       "      <td>[]</td>\n",
       "      <td>NaN</td>\n",
       "    </tr>\n",
       "    <tr>\n",
       "      <th>24</th>\n",
       "      <td>24</td>\n",
       "      <td>24</td>\n",
       "      <td>24</td>\n",
       "      <td>24</td>\n",
       "      <td>24</td>\n",
       "      <td>Thu Jul 28 19:22:11 +0000 2022</td>\n",
       "      <td>1552736193548370000</td>\n",
       "      <td>1552736193548369921</td>\n",
       "      <td>Astas uddannelse gøres til et redskab for rød ...</td>\n",
       "      <td>False</td>\n",
       "      <td>...</td>\n",
       "      <td>NaN</td>\n",
       "      <td>NaN</td>\n",
       "      <td>NaN</td>\n",
       "      <td>none</td>\n",
       "      <td>NaN</td>\n",
       "      <td>NaN</td>\n",
       "      <td>[]</td>\n",
       "      <td>[]</td>\n",
       "      <td>[]</td>\n",
       "      <td>NaN</td>\n",
       "    </tr>\n",
       "  </tbody>\n",
       "</table>\n",
       "<p>25 rows × 93 columns</p>\n",
       "</div>"
      ],
      "text/plain": [
       "    Unnamed: 0.2  level_0  Unnamed: 0.1  index  Unnamed: 0  \\\n",
       "0              0        0             0      0           0   \n",
       "1              1        1             1      1           1   \n",
       "2              2        2             2      2           2   \n",
       "3              3        3             3      3           3   \n",
       "4              4        4             4      4           4   \n",
       "5              5        5             5      5           5   \n",
       "6              6        6             6      6           6   \n",
       "7              7        7             7      7           7   \n",
       "8              8        8             8      8           8   \n",
       "9              9        9             9      9           9   \n",
       "10            10       10            10     10          10   \n",
       "11            11       11            11     11          11   \n",
       "12            12       12            12     12          12   \n",
       "13            13       13            13     13          13   \n",
       "14            14       14            14     14          14   \n",
       "15            15       15            15     15          15   \n",
       "16            16       16            16     16          16   \n",
       "17            17       17            17     17          17   \n",
       "18            18       18            18     18          18   \n",
       "19            19       19            19     19          19   \n",
       "20            20       20            20     20          20   \n",
       "21            21       21            21     21          21   \n",
       "22            22       22            22     22          22   \n",
       "23            23       23            23     23          23   \n",
       "24            24       24            24     24          24   \n",
       "\n",
       "                        created_at                   id               id_str  \\\n",
       "0   Tue Apr 06 20:55:45 +0000 2021  1379538341528494000  1379538341528494083   \n",
       "1   Tue Apr 06 06:29:14 +0000 2021  1379320273313407000  1379320273313406978   \n",
       "2   Mon Apr 05 06:18:35 +0000 2021  1378955203941109800  1378955203941109762   \n",
       "3   Sun Apr 04 20:25:07 +0000 2021  1378805855357956000  1378805855357956103   \n",
       "4   Sun Apr 04 19:07:07 +0000 2021  1378786226367557600  1378786226367557633   \n",
       "5   Sun Apr 04 14:46:05 +0000 2021  1378720534326820900  1378720534326820869   \n",
       "6   Wed Mar 31 16:16:25 +0000 2021  1377293715472015400  1377293715472015363   \n",
       "7   Wed Mar 31 09:08:50 +0000 2021  1377186110124683300  1377186110124683278   \n",
       "8   Tue Aug 02 17:45:32 +0000 2022  1554523811470577700  1554523811470577670   \n",
       "9   Tue Aug 02 15:01:36 +0000 2022  1554482555893809200  1554482555893809153   \n",
       "10  Tue Aug 02 15:00:24 +0000 2022  1554482250984611800  1554482250984611840   \n",
       "11  Tue Aug 02 06:55:06 +0000 2022  1554360122511605800  1554360122511605760   \n",
       "12  Tue Aug 02 06:20:34 +0000 2022  1554351432731467800  1554351432731467776   \n",
       "13  Mon Aug 01 20:21:06 +0000 2022  1554200569279021000  1554200569279021062   \n",
       "14  Mon Aug 01 07:32:56 +0000 2022  1554007255607033900  1554007255607033856   \n",
       "15  Sun Jul 31 16:14:31 +0000 2022  1553776129206587400  1553776129206587392   \n",
       "16  Sun Jul 31 15:32:00 +0000 2022  1553765428966695000  1553765428966694914   \n",
       "17  Sun Jul 31 12:50:26 +0000 2022  1553724767701721000  1553724767701721088   \n",
       "18  Sun Jul 31 07:08:39 +0000 2022  1553638755461906400  1553638755461906432   \n",
       "19  Sat Jul 30 19:00:25 +0000 2022  1553455489161334800  1553455489161334785   \n",
       "20  Sat Jul 30 13:11:35 +0000 2022  1553367704609988600  1553367704609988615   \n",
       "21  Sat Jul 30 13:11:34 +0000 2022  1553367701959090200  1553367701959090177   \n",
       "22  Fri Jul 29 05:47:59 +0000 2022  1552893678959706000  1552893678959706112   \n",
       "23  Thu Jul 28 19:22:12 +0000 2022  1552736195125338000  1552736195125338112   \n",
       "24  Thu Jul 28 19:22:11 +0000 2022  1552736193548370000  1552736193548369921   \n",
       "\n",
       "                                            full_text  truncated  ...  \\\n",
       "0   RT @PoulHoi: FTs opgørelse over overdødelighed...      False  ...   \n",
       "1   @mikker Hej Mikkel. Ping modtaget. Håber, at h...      False  ...   \n",
       "2   @veloropa Flotte, sigende fotos. Fedt, at Saga...      False  ...   \n",
       "3   @jakobherskind @Kildegaardens Ja, måske. Men m...      False  ...   \n",
       "4   @veloropa Er der en egentligt nederlands/flams...      False  ...   \n",
       "5   Send fregatterne på søen og F16 i luften! Kasp...      False  ...   \n",
       "6   @MikkelFrey “Det er en syg høne, der har lagt ...      False  ...   \n",
       "7   @LAggerstroem Tillykke. Og tak for det sidste ...      False  ...   \n",
       "8   @MadsAakjaer Nej, beregningerne er ikke lavet ...      False  ...   \n",
       "9    @MadsAakjaer Ikke sandt. https://t.co/RoXPw4TGOf      False  ...   \n",
       "10  @PerTolboll Jeg ved det ikke. Vores bil er fra...      False  ...   \n",
       "11  @LindgaardMl “Man kan ikke fremstille boliger,...      False  ...   \n",
       "12  @LindgaardMl Der er 1,4 mia. biler på verdensp...      False  ...   \n",
       "13                  @ugleberg https://t.co/OwdTV9xnJp      False  ...   \n",
       "14  Vi var på kør selv-ferie i Sydfrankrig med elb...      False  ...   \n",
       "15  @mignon_dann Terrænet er noget mere kuperet he...      False  ...   \n",
       "16  Her på egnen bruges geder til at holde krattet...      False  ...   \n",
       "17  @AnnettRios9 @SorenFaaborg @JoachimBOlsen @MrM...      False  ...   \n",
       "18  @SorenFaaborg @JoachimBOlsen @MrMesserschmidt ...      False  ...   \n",
       "19          @KlausAndersen9 Det er mere en sæl, ikke?      False  ...   \n",
       "20  Hele den opsigtsvækkende historie: https://t.c...      False  ...   \n",
       "21  “På den mindste af de to knolde har Bent Juhl ...      False  ...   \n",
       "22  @StigMcShane @JohnniePedersen 20 pct. af bolig...      False  ...   \n",
       "23  Den enkelte uddannelsessøgende bliver midlet, ...      False  ...   \n",
       "24  Astas uddannelse gøres til et redskab for rød ...      False  ...   \n",
       "\n",
       "   user_following user_follow_request_sent user_notifications  \\\n",
       "0             NaN                      NaN                NaN   \n",
       "1             NaN                      NaN                NaN   \n",
       "2             NaN                      NaN                NaN   \n",
       "3             NaN                      NaN                NaN   \n",
       "4             NaN                      NaN                NaN   \n",
       "5             NaN                      NaN                NaN   \n",
       "6             NaN                      NaN                NaN   \n",
       "7             NaN                      NaN                NaN   \n",
       "8             NaN                      NaN                NaN   \n",
       "9             NaN                      NaN                NaN   \n",
       "10            NaN                      NaN                NaN   \n",
       "11            NaN                      NaN                NaN   \n",
       "12            NaN                      NaN                NaN   \n",
       "13            NaN                      NaN                NaN   \n",
       "14            NaN                      NaN                NaN   \n",
       "15            NaN                      NaN                NaN   \n",
       "16            NaN                      NaN                NaN   \n",
       "17            NaN                      NaN                NaN   \n",
       "18            NaN                      NaN                NaN   \n",
       "19            NaN                      NaN                NaN   \n",
       "20            NaN                      NaN                NaN   \n",
       "21            NaN                      NaN                NaN   \n",
       "22            NaN                      NaN                NaN   \n",
       "23            NaN                      NaN                NaN   \n",
       "24            NaN                      NaN                NaN   \n",
       "\n",
       "    user_translator_type  user_withheld_in_countries  hashtags.1  symbols.1  \\\n",
       "0                   none                         NaN         NaN         []   \n",
       "1                   none                         NaN         NaN         []   \n",
       "2                   none                         NaN         NaN         []   \n",
       "3                   none                         NaN         NaN         []   \n",
       "4                   none                         NaN         NaN         []   \n",
       "5                   none                         NaN         NaN         []   \n",
       "6                   none                         NaN         NaN         []   \n",
       "7                   none                         NaN         NaN         []   \n",
       "8                   none                         NaN         NaN         []   \n",
       "9                   none                         NaN         NaN         []   \n",
       "10                  none                         NaN         NaN         []   \n",
       "11                  none                         NaN         NaN         []   \n",
       "12                  none                         NaN         NaN         []   \n",
       "13                  none                         NaN         NaN         []   \n",
       "14                  none                         NaN         NaN         []   \n",
       "15                  none                         NaN         NaN         []   \n",
       "16                  none                         NaN         NaN         []   \n",
       "17                  none                         NaN         NaN         []   \n",
       "18                  none                         NaN         NaN         []   \n",
       "19                  none                         NaN         NaN         []   \n",
       "20                  none                         NaN         NaN         []   \n",
       "21                  none                         NaN         NaN         []   \n",
       "22                  none                         NaN         NaN         []   \n",
       "23                  none                         NaN         NaN         []   \n",
       "24                  none                         NaN         NaN         []   \n",
       "\n",
       "                                      user_mentions.1  \\\n",
       "0   [{'screen_name': 'PoulHoi', 'name': 'Poul Hoi'...   \n",
       "1   [{'screen_name': 'mikker', 'name': 'Mikkel Mal...   \n",
       "2   [{'screen_name': 'veloropa', 'name': 'Veloropa...   \n",
       "3   [{'screen_name': 'jakobherskind', 'name': 'Jak...   \n",
       "4   [{'screen_name': 'veloropa', 'name': 'Veloropa...   \n",
       "5                                                  []   \n",
       "6   [{'screen_name': 'MikkelFrey', 'name': 'Mikkel...   \n",
       "7   [{'screen_name': 'LAggerstroem', 'name': 'Loui...   \n",
       "8   [{'screen_name': 'MadsAakjaer', 'name': 'Mads ...   \n",
       "9   [{'screen_name': 'MadsAakjaer', 'name': 'Mads ...   \n",
       "10  [{'screen_name': 'PerTolboll', 'name': 'Per To...   \n",
       "11  [{'screen_name': 'LindgaardMl', 'name': 'Marti...   \n",
       "12  [{'screen_name': 'LindgaardMl', 'name': 'Marti...   \n",
       "13  [{'screen_name': 'ugleberg', 'name': 'Henrik U...   \n",
       "14                                                 []   \n",
       "15  [{'screen_name': 'mignon_dann', 'name': 'Dann ...   \n",
       "16                                                 []   \n",
       "17  [{'screen_name': 'AnnettRios9', 'name': 'Annet...   \n",
       "18  [{'screen_name': 'SorenFaaborg', 'name': 'Søre...   \n",
       "19  [{'screen_name': 'KlausAndersen9', 'name': 'Kl...   \n",
       "20                                                 []   \n",
       "21                                                 []   \n",
       "22  [{'screen_name': 'StigMcShane', 'name': 'Stig ...   \n",
       "23                                                 []   \n",
       "24                                                 []   \n",
       "\n",
       "                                               urls.1  \\\n",
       "0                                                  []   \n",
       "1                                                  []   \n",
       "2                                                  []   \n",
       "3                                                  []   \n",
       "4                                                  []   \n",
       "5                                                  []   \n",
       "6                                                  []   \n",
       "7                                                  []   \n",
       "8                                                  []   \n",
       "9   [{'url': 'https://t.co/RoXPw4TGOf', 'expanded_...   \n",
       "10                                                 []   \n",
       "11                                                 []   \n",
       "12                                                 []   \n",
       "13  [{'url': 'https://t.co/OwdTV9xnJp', 'expanded_...   \n",
       "14                                                 []   \n",
       "15                                                 []   \n",
       "16                                                 []   \n",
       "17                                                 []   \n",
       "18  [{'url': 'https://t.co/m7N8wO2amT', 'expanded_...   \n",
       "19                                                 []   \n",
       "20  [{'url': 'https://t.co/SYOVVB6w58', 'expanded_...   \n",
       "21                                                 []   \n",
       "22                                                 []   \n",
       "23                                                 []   \n",
       "24                                                 []   \n",
       "\n",
       "                                              media.1  \n",
       "0                                                 NaN  \n",
       "1                                                 NaN  \n",
       "2                                                 NaN  \n",
       "3                                                 NaN  \n",
       "4                                                 NaN  \n",
       "5   [{'id': 1378720528949727200, 'id_str': '137872...  \n",
       "6                                                 NaN  \n",
       "7                                                 NaN  \n",
       "8                                                 NaN  \n",
       "9                                                 NaN  \n",
       "10                                                NaN  \n",
       "11                                                NaN  \n",
       "12                                                NaN  \n",
       "13                                                NaN  \n",
       "14  [{'id': 1554007249231675400, 'id_str': '155400...  \n",
       "15                                                NaN  \n",
       "16  [{'id': 1553765414685008000, 'id_str': '155376...  \n",
       "17                                                NaN  \n",
       "18                                                NaN  \n",
       "19                                                NaN  \n",
       "20                                                NaN  \n",
       "21  [{'id': 1553367694392664000, 'id_str': '155336...  \n",
       "22                                                NaN  \n",
       "23                                                NaN  \n",
       "24                                                NaN  \n",
       "\n",
       "[25 rows x 93 columns]"
      ]
     },
     "execution_count": 4,
     "metadata": {},
     "output_type": "execute_result"
    }
   ],
   "source": [
    "tweet_df.head(25)"
   ]
  },
  {
   "cell_type": "code",
   "execution_count": 5,
   "id": "7b1ae10f-def6-4199-a9bd-d2170cfc7144",
   "metadata": {
    "execution": {
     "iopub.execute_input": "2022-12-15T21:22:04.920465Z",
     "iopub.status.busy": "2022-12-15T21:22:04.920076Z",
     "iopub.status.idle": "2022-12-15T21:22:04.924300Z",
     "shell.execute_reply": "2022-12-15T21:22:04.923690Z",
     "shell.execute_reply.started": "2022-12-15T21:22:04.920445Z"
    },
    "tags": []
   },
   "outputs": [],
   "source": [
    "# opretter liste med centrale variabler\n",
    "central_vars = ['level_0', 'created_at', 'id', 'id_str', 'full_text', \n",
    "                  'user_screen_name', 'user_name', \n",
    "                  'user_description', 'user_lang', \"in_reply_to_status_id\", \n",
    "                  \"in_reply_to_status_id_str\", \"in_reply_to_user_id\", \n",
    "                  \"in_reply_to_user_id_str\", \"in_reply_to_screen_name\", \n",
    "                  'display_text_range']"
   ]
  },
  {
   "cell_type": "code",
   "execution_count": 6,
   "id": "b75bb4d9-01f4-42e8-b6fb-e2e0e5425f18",
   "metadata": {
    "execution": {
     "iopub.execute_input": "2022-12-15T21:22:04.925146Z",
     "iopub.status.busy": "2022-12-15T21:22:04.924957Z",
     "iopub.status.idle": "2022-12-15T21:22:05.001842Z",
     "shell.execute_reply": "2022-12-15T21:22:05.001214Z",
     "shell.execute_reply.started": "2022-12-15T21:22:04.925130Z"
    },
    "tags": []
   },
   "outputs": [],
   "source": [
    "tweet_sub = tweet_df[central_vars]"
   ]
  },
  {
   "cell_type": "code",
   "execution_count": 7,
   "id": "91d0fb31-6a73-421e-98fe-07ea1006f8ae",
   "metadata": {
    "execution": {
     "iopub.execute_input": "2022-12-15T21:22:05.002971Z",
     "iopub.status.busy": "2022-12-15T21:22:05.002774Z",
     "iopub.status.idle": "2022-12-15T21:22:05.035959Z",
     "shell.execute_reply": "2022-12-15T21:22:05.034662Z",
     "shell.execute_reply.started": "2022-12-15T21:22:05.002953Z"
    },
    "tags": []
   },
   "outputs": [
    {
     "data": {
      "text/plain": [
       "['level_0',\n",
       " 'created_at',\n",
       " 'id',\n",
       " 'id_str',\n",
       " 'full_text',\n",
       " 'user_screen_name',\n",
       " 'user_name',\n",
       " 'user_description',\n",
       " 'user_lang',\n",
       " 'in_reply_to_status_id',\n",
       " 'in_reply_to_status_id_str',\n",
       " 'in_reply_to_user_id',\n",
       " 'in_reply_to_user_id_str',\n",
       " 'in_reply_to_screen_name',\n",
       " 'display_text_range']"
      ]
     },
     "execution_count": 7,
     "metadata": {},
     "output_type": "execute_result"
    }
   ],
   "source": [
    "list(tweet_sub.columns)"
   ]
  },
  {
   "cell_type": "code",
   "execution_count": 8,
   "id": "d4ced899-1fde-4514-bd47-b1bfb4d08373",
   "metadata": {
    "execution": {
     "iopub.execute_input": "2022-12-15T21:22:05.039018Z",
     "iopub.status.busy": "2022-12-15T21:22:05.038234Z",
     "iopub.status.idle": "2022-12-15T21:22:05.056699Z",
     "shell.execute_reply": "2022-12-15T21:22:05.055204Z",
     "shell.execute_reply.started": "2022-12-15T21:22:05.038963Z"
    },
    "tags": []
   },
   "outputs": [
    {
     "data": {
      "text/plain": [
       "'Tue Apr 06 06:29:14 +0000 2021'"
      ]
     },
     "execution_count": 8,
     "metadata": {},
     "output_type": "execute_result"
    }
   ],
   "source": [
    "# tjekker tidspunkt for første indsamlede tweet\n",
    "tweet_sub['created_at'][1]"
   ]
  },
  {
   "cell_type": "code",
   "execution_count": 9,
   "id": "8208a7d0-1d88-4d42-8c5f-68a85fcfce40",
   "metadata": {
    "execution": {
     "iopub.execute_input": "2022-12-15T21:22:05.059342Z",
     "iopub.status.busy": "2022-12-15T21:22:05.058724Z",
     "iopub.status.idle": "2022-12-15T21:22:09.857617Z",
     "shell.execute_reply": "2022-12-15T21:22:09.856240Z",
     "shell.execute_reply.started": "2022-12-15T21:22:05.059301Z"
    },
    "tags": []
   },
   "outputs": [
    {
     "name": "stderr",
     "output_type": "stream",
     "text": [
      "/tmp/ipykernel_325/2676644498.py:2: SettingWithCopyWarning: \n",
      "A value is trying to be set on a copy of a slice from a DataFrame.\n",
      "Try using .loc[row_indexer,col_indexer] = value instead\n",
      "\n",
      "See the caveats in the documentation: https://pandas.pydata.org/pandas-docs/stable/user_guide/indexing.html#returning-a-view-versus-a-copy\n"
     ]
    }
   ],
   "source": [
    "# laver \"created_at\" om til et rigtigt datetime-format\n",
    "tweet_sub['datetime'] = pd.to_datetime(tweet_sub['created_at'], format = \"%a %b %d %H:%M:%S %z %Y\")"
   ]
  },
  {
   "cell_type": "code",
   "execution_count": 10,
   "id": "b75744f6-2605-46ab-af5f-f565d21feba7",
   "metadata": {
    "execution": {
     "iopub.execute_input": "2022-12-15T21:22:09.860259Z",
     "iopub.status.busy": "2022-12-15T21:22:09.859551Z",
     "iopub.status.idle": "2022-12-15T21:22:09.907758Z",
     "shell.execute_reply": "2022-12-15T21:22:09.906967Z",
     "shell.execute_reply.started": "2022-12-15T21:22:09.860217Z"
    },
    "tags": []
   },
   "outputs": [],
   "source": [
    "tweet_sub_cut = tweet_sub.loc[(tweet_sub['datetime'] >= '2019-09-01')] # opretter subset, der beskærer d. 1/9-2019"
   ]
  },
  {
   "cell_type": "code",
   "execution_count": 11,
   "id": "68b0b128-9a25-4b56-8296-5f6cb0bc1613",
   "metadata": {
    "execution": {
     "iopub.execute_input": "2022-12-15T21:22:09.911012Z",
     "iopub.status.busy": "2022-12-15T21:22:09.910782Z",
     "iopub.status.idle": "2022-12-15T21:22:09.953399Z",
     "shell.execute_reply": "2022-12-15T21:22:09.952773Z",
     "shell.execute_reply.started": "2022-12-15T21:22:09.910993Z"
    },
    "tags": []
   },
   "outputs": [
    {
     "name": "stderr",
     "output_type": "stream",
     "text": [
      "/tmp/ipykernel_325/2154804406.py:1: FutureWarning: Treating datetime data as categorical rather than numeric in `.describe` is deprecated and will be removed in a future version of pandas. Specify `datetime_is_numeric=True` to silence this warning and adopt the future behavior now.\n"
     ]
    },
    {
     "data": {
      "text/plain": [
       "count                        251240\n",
       "unique                       249376\n",
       "top       2020-11-20 11:59:54+00:00\n",
       "freq                              8\n",
       "first     2019-09-01 03:17:42+00:00\n",
       "last      2022-10-05 09:58:21+00:00\n",
       "Name: datetime, dtype: object"
      ]
     },
     "execution_count": 11,
     "metadata": {},
     "output_type": "execute_result"
    }
   ],
   "source": [
    "tweet_sub_cut['datetime'].describe() # Der er 1864 tweets, der ikke har et unikt timestamp. Altså er der 1864 gange, hvor mindst to tweets er blevet tweetet på præcis samme tidspunkt."
   ]
  },
  {
   "cell_type": "code",
   "execution_count": 12,
   "id": "f5631b43-e2ce-4798-82f7-b040473075f5",
   "metadata": {
    "execution": {
     "iopub.execute_input": "2022-12-15T21:22:09.954534Z",
     "iopub.status.busy": "2022-12-15T21:22:09.954325Z",
     "iopub.status.idle": "2022-12-15T21:22:10.108496Z",
     "shell.execute_reply": "2022-12-15T21:22:10.107444Z",
     "shell.execute_reply.started": "2022-12-15T21:22:09.954516Z"
    },
    "tags": []
   },
   "outputs": [],
   "source": [
    "tweet_merged = tweet_sub_cut.merge(parl_mem, left_on = 'user_screen_name', right_on = 'handle')"
   ]
  },
  {
   "cell_type": "code",
   "execution_count": 13,
   "id": "5c3c181a-678f-4a0b-82e8-90a2733232cc",
   "metadata": {
    "execution": {
     "iopub.execute_input": "2022-12-15T21:22:10.109569Z",
     "iopub.status.busy": "2022-12-15T21:22:10.109365Z",
     "iopub.status.idle": "2022-12-15T21:22:10.114994Z",
     "shell.execute_reply": "2022-12-15T21:22:10.114454Z",
     "shell.execute_reply.started": "2022-12-15T21:22:10.109551Z"
    },
    "tags": []
   },
   "outputs": [
    {
     "data": {
      "text/plain": [
       "['level_0',\n",
       " 'created_at',\n",
       " 'id',\n",
       " 'id_str',\n",
       " 'full_text',\n",
       " 'user_screen_name',\n",
       " 'user_name',\n",
       " 'user_description',\n",
       " 'user_lang',\n",
       " 'in_reply_to_status_id',\n",
       " 'in_reply_to_status_id_str',\n",
       " 'in_reply_to_user_id',\n",
       " 'in_reply_to_user_id_str',\n",
       " 'in_reply_to_screen_name',\n",
       " 'display_text_range',\n",
       " 'datetime',\n",
       " 'party',\n",
       " 'f_name',\n",
       " 'l_name',\n",
       " 'name',\n",
       " 'handle',\n",
       " 'gndr_fem',\n",
       " 'memb_since',\n",
       " 'memb_to']"
      ]
     },
     "execution_count": 13,
     "metadata": {},
     "output_type": "execute_result"
    }
   ],
   "source": [
    "list(tweet_merged.columns)"
   ]
  },
  {
   "cell_type": "code",
   "execution_count": 14,
   "id": "01dedf0a-a0f9-433f-85b7-ae65d5206e2f",
   "metadata": {
    "execution": {
     "iopub.execute_input": "2022-12-15T21:22:10.115885Z",
     "iopub.status.busy": "2022-12-15T21:22:10.115705Z",
     "iopub.status.idle": "2022-12-15T21:22:10.252399Z",
     "shell.execute_reply": "2022-12-15T21:22:10.251710Z",
     "shell.execute_reply.started": "2022-12-15T21:22:10.115868Z"
    },
    "tags": []
   },
   "outputs": [
    {
     "data": {
      "text/plain": [
       "count     238492\n",
       "unique        14\n",
       "top            s\n",
       "freq       54519\n",
       "Name: party, dtype: object"
      ]
     },
     "execution_count": 14,
     "metadata": {},
     "output_type": "execute_result"
    }
   ],
   "source": [
    "tweet_merged['party'].describe()"
   ]
  },
  {
   "cell_type": "code",
   "execution_count": 15,
   "id": "fd30e882-0878-4fc5-a25b-3e3d41629fe5",
   "metadata": {
    "execution": {
     "iopub.execute_input": "2022-12-15T21:22:10.253451Z",
     "iopub.status.busy": "2022-12-15T21:22:10.253247Z",
     "iopub.status.idle": "2022-12-15T21:22:10.600952Z",
     "shell.execute_reply": "2022-12-15T21:22:10.600220Z",
     "shell.execute_reply.started": "2022-12-15T21:22:10.253433Z"
    },
    "tags": []
   },
   "outputs": [
    {
     "data": {
      "text/html": [
       "<div>\n",
       "<style scoped>\n",
       "    .dataframe tbody tr th:only-of-type {\n",
       "        vertical-align: middle;\n",
       "    }\n",
       "\n",
       "    .dataframe tbody tr th {\n",
       "        vertical-align: top;\n",
       "    }\n",
       "\n",
       "    .dataframe thead th {\n",
       "        text-align: right;\n",
       "    }\n",
       "</style>\n",
       "<table border=\"1\" class=\"dataframe\">\n",
       "  <thead>\n",
       "    <tr style=\"text-align: right;\">\n",
       "      <th></th>\n",
       "      <th>handle</th>\n",
       "      <th>user_screen_name</th>\n",
       "    </tr>\n",
       "  </thead>\n",
       "  <tbody>\n",
       "    <tr>\n",
       "      <th>count</th>\n",
       "      <td>238492</td>\n",
       "      <td>238492</td>\n",
       "    </tr>\n",
       "    <tr>\n",
       "      <th>unique</th>\n",
       "      <td>148</td>\n",
       "      <td>148</td>\n",
       "    </tr>\n",
       "    <tr>\n",
       "      <th>top</th>\n",
       "      <td>uffeelbaek</td>\n",
       "      <td>uffeelbaek</td>\n",
       "    </tr>\n",
       "    <tr>\n",
       "      <th>freq</th>\n",
       "      <td>15836</td>\n",
       "      <td>15836</td>\n",
       "    </tr>\n",
       "  </tbody>\n",
       "</table>\n",
       "</div>"
      ],
      "text/plain": [
       "            handle user_screen_name\n",
       "count       238492           238492\n",
       "unique         148              148\n",
       "top     uffeelbaek       uffeelbaek\n",
       "freq         15836            15836"
      ]
     },
     "execution_count": 15,
     "metadata": {},
     "output_type": "execute_result"
    }
   ],
   "source": [
    "tweet_merged[['handle', 'user_screen_name']].describe()"
   ]
  },
  {
   "cell_type": "markdown",
   "id": "943177be-7478-49fc-9ec8-f5e1e00069ae",
   "metadata": {},
   "source": [
    "## Pre-processing"
   ]
  },
  {
   "cell_type": "code",
   "execution_count": 16,
   "id": "29190a99-d2dd-49c5-83e5-c107fdbf68c0",
   "metadata": {
    "execution": {
     "iopub.execute_input": "2022-12-15T21:22:10.601933Z",
     "iopub.status.busy": "2022-12-15T21:22:10.601735Z",
     "iopub.status.idle": "2022-12-15T21:22:11.649935Z",
     "shell.execute_reply": "2022-12-15T21:22:11.648591Z",
     "shell.execute_reply.started": "2022-12-15T21:22:10.601915Z"
    },
    "tags": []
   },
   "outputs": [],
   "source": [
    "l = tweet_merged['full_text']\n",
    "l_2 = []\n",
    "for i in l:\n",
    "    temp = re.sub(r\"@[A-Za-z0-9_]+[\\.|\\,|\\?|\\:|\\;|\\!]?\\s\", \"\", i) #fjerner fjenrer handles\n",
    "    temp = re.sub(r'https?://\\S.co/[A-Z][a-z][A-Z]*.[0-9]?[A-Za-z]*.', '', temp) #fjerner links\n",
    "    temp = re.sub(r'RT', '', temp) #fjerner RT-mærkat\n",
    "    temp = re.sub(r\"@ditoverblik.dk\", \"\", temp) #fjerner specifikt handle der ryger med i tokenisering\n",
    "    l_2.append(temp)"
   ]
  },
  {
   "cell_type": "code",
   "execution_count": 17,
   "id": "08b96e8b-7287-481c-8970-c6eea0f5efdb",
   "metadata": {
    "execution": {
     "iopub.execute_input": "2022-12-15T21:22:11.651023Z",
     "iopub.status.busy": "2022-12-15T21:22:11.650808Z",
     "iopub.status.idle": "2022-12-15T21:22:11.703957Z",
     "shell.execute_reply": "2022-12-15T21:22:11.703210Z",
     "shell.execute_reply.started": "2022-12-15T21:22:11.651004Z"
    },
    "tags": []
   },
   "outputs": [],
   "source": [
    "tweet_merged['full_text_2'] = l_2"
   ]
  },
  {
   "cell_type": "code",
   "execution_count": 18,
   "id": "33e4468f-6b9d-4a4c-bc6a-2aa241fc3e60",
   "metadata": {
    "execution": {
     "iopub.execute_input": "2022-12-15T21:22:11.705243Z",
     "iopub.status.busy": "2022-12-15T21:22:11.704902Z",
     "iopub.status.idle": "2022-12-15T21:22:11.995869Z",
     "shell.execute_reply": "2022-12-15T21:22:11.995182Z",
     "shell.execute_reply.started": "2022-12-15T21:22:11.705223Z"
    },
    "tags": []
   },
   "outputs": [
    {
     "data": {
      "text/plain": [
       "count     238492\n",
       "unique    217996\n",
       "top            😂\n",
       "freq         214\n",
       "Name: full_text_2, dtype: object"
      ]
     },
     "execution_count": 18,
     "metadata": {},
     "output_type": "execute_result"
    }
   ],
   "source": [
    "tweet_merged['full_text_2'].describe()"
   ]
  },
  {
   "cell_type": "code",
   "execution_count": 19,
   "id": "518de8ce-ed73-4b08-9010-627dbec7ffa0",
   "metadata": {
    "execution": {
     "iopub.execute_input": "2022-12-15T21:22:11.996923Z",
     "iopub.status.busy": "2022-12-15T21:22:11.996709Z",
     "iopub.status.idle": "2022-12-15T21:22:12.089024Z",
     "shell.execute_reply": "2022-12-15T21:22:12.088327Z",
     "shell.execute_reply.started": "2022-12-15T21:22:11.996905Z"
    },
    "tags": []
   },
   "outputs": [
    {
     "data": {
      "text/html": [
       "<div>\n",
       "<style scoped>\n",
       "    .dataframe tbody tr th:only-of-type {\n",
       "        vertical-align: middle;\n",
       "    }\n",
       "\n",
       "    .dataframe tbody tr th {\n",
       "        vertical-align: top;\n",
       "    }\n",
       "\n",
       "    .dataframe thead th {\n",
       "        text-align: right;\n",
       "    }\n",
       "</style>\n",
       "<table border=\"1\" class=\"dataframe\">\n",
       "  <thead>\n",
       "    <tr style=\"text-align: right;\">\n",
       "      <th></th>\n",
       "      <th>full_text_2</th>\n",
       "      <th>full_text</th>\n",
       "    </tr>\n",
       "  </thead>\n",
       "  <tbody>\n",
       "    <tr>\n",
       "      <th>0</th>\n",
       "      <td>Nej, beregningerne er ikke lavet på den strøm,...</td>\n",
       "      <td>@MadsAakjaer Nej, beregningerne er ikke lavet ...</td>\n",
       "    </tr>\n",
       "    <tr>\n",
       "      <th>1</th>\n",
       "      <td>Ikke sandt.</td>\n",
       "      <td>@MadsAakjaer Ikke sandt. https://t.co/RoXPw4TGOf</td>\n",
       "    </tr>\n",
       "    <tr>\n",
       "      <th>2</th>\n",
       "      <td>Jeg ved det ikke. Vores bil er fra 2015, hvor ...</td>\n",
       "      <td>@PerTolboll Jeg ved det ikke. Vores bil er fra...</td>\n",
       "    </tr>\n",
       "    <tr>\n",
       "      <th>3</th>\n",
       "      <td>“Man kan ikke fremstille boliger, uden at det ...</td>\n",
       "      <td>@LindgaardMl “Man kan ikke fremstille boliger,...</td>\n",
       "    </tr>\n",
       "    <tr>\n",
       "      <th>4</th>\n",
       "      <td>Der er 1,4 mia. biler på verdensplan. Om ikke ...</td>\n",
       "      <td>@LindgaardMl Der er 1,4 mia. biler på verdensp...</td>\n",
       "    </tr>\n",
       "  </tbody>\n",
       "</table>\n",
       "</div>"
      ],
      "text/plain": [
       "                                         full_text_2  \\\n",
       "0  Nej, beregningerne er ikke lavet på den strøm,...   \n",
       "1                                       Ikke sandt.    \n",
       "2  Jeg ved det ikke. Vores bil er fra 2015, hvor ...   \n",
       "3  “Man kan ikke fremstille boliger, uden at det ...   \n",
       "4  Der er 1,4 mia. biler på verdensplan. Om ikke ...   \n",
       "\n",
       "                                           full_text  \n",
       "0  @MadsAakjaer Nej, beregningerne er ikke lavet ...  \n",
       "1   @MadsAakjaer Ikke sandt. https://t.co/RoXPw4TGOf  \n",
       "2  @PerTolboll Jeg ved det ikke. Vores bil er fra...  \n",
       "3  @LindgaardMl “Man kan ikke fremstille boliger,...  \n",
       "4  @LindgaardMl Der er 1,4 mia. biler på verdensp...  "
      ]
     },
     "execution_count": 19,
     "metadata": {},
     "output_type": "execute_result"
    }
   ],
   "source": [
    "tweet_merged[['full_text_2', 'full_text']].head()"
   ]
  },
  {
   "cell_type": "markdown",
   "id": "469282c4-7deb-48b7-9e7d-ad43542f20cb",
   "metadata": {},
   "source": [
    "### Deskriptiv tal og figurer"
   ]
  },
  {
   "cell_type": "code",
   "execution_count": 20,
   "id": "32b0d827-31c3-461b-b471-cc52b78e2167",
   "metadata": {
    "execution": {
     "iopub.execute_input": "2022-12-15T21:22:12.090089Z",
     "iopub.status.busy": "2022-12-15T21:22:12.089885Z",
     "iopub.status.idle": "2022-12-15T21:22:12.135541Z",
     "shell.execute_reply": "2022-12-15T21:22:12.134907Z",
     "shell.execute_reply.started": "2022-12-15T21:22:12.090070Z"
    },
    "tags": []
   },
   "outputs": [
    {
     "data": {
      "text/html": [
       "<div>\n",
       "<style scoped>\n",
       "    .dataframe tbody tr th:only-of-type {\n",
       "        vertical-align: middle;\n",
       "    }\n",
       "\n",
       "    .dataframe tbody tr th {\n",
       "        vertical-align: top;\n",
       "    }\n",
       "\n",
       "    .dataframe thead th {\n",
       "        text-align: right;\n",
       "    }\n",
       "</style>\n",
       "<table border=\"1\" class=\"dataframe\">\n",
       "  <thead>\n",
       "    <tr style=\"text-align: right;\">\n",
       "      <th></th>\n",
       "      <th>handle</th>\n",
       "      <th>party</th>\n",
       "    </tr>\n",
       "  </thead>\n",
       "  <tbody>\n",
       "    <tr>\n",
       "      <th>count</th>\n",
       "      <td>238492</td>\n",
       "      <td>238492</td>\n",
       "    </tr>\n",
       "    <tr>\n",
       "      <th>unique</th>\n",
       "      <td>148</td>\n",
       "      <td>14</td>\n",
       "    </tr>\n",
       "    <tr>\n",
       "      <th>top</th>\n",
       "      <td>uffeelbaek</td>\n",
       "      <td>s</td>\n",
       "    </tr>\n",
       "    <tr>\n",
       "      <th>freq</th>\n",
       "      <td>15836</td>\n",
       "      <td>54519</td>\n",
       "    </tr>\n",
       "  </tbody>\n",
       "</table>\n",
       "</div>"
      ],
      "text/plain": [
       "            handle   party\n",
       "count       238492  238492\n",
       "unique         148      14\n",
       "top     uffeelbaek       s\n",
       "freq         15836   54519"
      ]
     },
     "execution_count": 20,
     "metadata": {},
     "output_type": "execute_result"
    }
   ],
   "source": [
    "tweet_merged[['handle', 'party']].describe()"
   ]
  },
  {
   "cell_type": "code",
   "execution_count": 21,
   "id": "e41fff99-f193-482d-af1a-f6b5c6004005",
   "metadata": {
    "execution": {
     "iopub.execute_input": "2022-12-15T21:22:12.136416Z",
     "iopub.status.busy": "2022-12-15T21:22:12.136221Z",
     "iopub.status.idle": "2022-12-15T21:22:12.413175Z",
     "shell.execute_reply": "2022-12-15T21:22:12.412452Z",
     "shell.execute_reply.started": "2022-12-15T21:22:12.136391Z"
    },
    "tags": []
   },
   "outputs": [
    {
     "data": {
      "text/plain": [
       "count                                                238492\n",
       "unique                                               224288\n",
       "top       RT @Spolitik: Vi er altid på børnenes hold❤\\n#...\n",
       "freq                                                     12\n",
       "Name: full_text, dtype: object"
      ]
     },
     "execution_count": 21,
     "metadata": {},
     "output_type": "execute_result"
    }
   ],
   "source": [
    "tweet_merged['full_text'].describe()"
   ]
  },
  {
   "cell_type": "code",
   "execution_count": 22,
   "id": "42577011-03fa-454c-8563-600f873e9000",
   "metadata": {
    "execution": {
     "iopub.execute_input": "2022-12-15T21:22:12.414297Z",
     "iopub.status.busy": "2022-12-15T21:22:12.414073Z",
     "iopub.status.idle": "2022-12-15T21:22:12.881748Z",
     "shell.execute_reply": "2022-12-15T21:22:12.880933Z",
     "shell.execute_reply.started": "2022-12-15T21:22:12.414279Z"
    },
    "tags": []
   },
   "outputs": [],
   "source": [
    "deskriptiv = tweet_merged.groupby('party').describe()"
   ]
  },
  {
   "cell_type": "code",
   "execution_count": 23,
   "id": "59f491b5-bf12-4469-a685-46760d1cb2ca",
   "metadata": {
    "execution": {
     "iopub.execute_input": "2022-12-15T21:22:12.882968Z",
     "iopub.status.busy": "2022-12-15T21:22:12.882631Z",
     "iopub.status.idle": "2022-12-15T21:22:12.905884Z",
     "shell.execute_reply": "2022-12-15T21:22:12.905320Z",
     "shell.execute_reply.started": "2022-12-15T21:22:12.882948Z"
    },
    "tags": []
   },
   "outputs": [
    {
     "data": {
      "text/html": [
       "<div>\n",
       "<style scoped>\n",
       "    .dataframe tbody tr th:only-of-type {\n",
       "        vertical-align: middle;\n",
       "    }\n",
       "\n",
       "    .dataframe tbody tr th {\n",
       "        vertical-align: top;\n",
       "    }\n",
       "\n",
       "    .dataframe thead tr th {\n",
       "        text-align: left;\n",
       "    }\n",
       "\n",
       "    .dataframe thead tr:last-of-type th {\n",
       "        text-align: right;\n",
       "    }\n",
       "</style>\n",
       "<table border=\"1\" class=\"dataframe\">\n",
       "  <thead>\n",
       "    <tr>\n",
       "      <th></th>\n",
       "      <th colspan=\"8\" halign=\"left\">level_0</th>\n",
       "      <th colspan=\"2\" halign=\"left\">id</th>\n",
       "      <th>...</th>\n",
       "      <th colspan=\"2\" halign=\"left\">in_reply_to_user_id_str</th>\n",
       "      <th colspan=\"8\" halign=\"left\">gndr_fem</th>\n",
       "    </tr>\n",
       "    <tr>\n",
       "      <th></th>\n",
       "      <th>count</th>\n",
       "      <th>mean</th>\n",
       "      <th>std</th>\n",
       "      <th>min</th>\n",
       "      <th>25%</th>\n",
       "      <th>50%</th>\n",
       "      <th>75%</th>\n",
       "      <th>max</th>\n",
       "      <th>count</th>\n",
       "      <th>mean</th>\n",
       "      <th>...</th>\n",
       "      <th>75%</th>\n",
       "      <th>max</th>\n",
       "      <th>count</th>\n",
       "      <th>mean</th>\n",
       "      <th>std</th>\n",
       "      <th>min</th>\n",
       "      <th>25%</th>\n",
       "      <th>50%</th>\n",
       "      <th>75%</th>\n",
       "      <th>max</th>\n",
       "    </tr>\n",
       "    <tr>\n",
       "      <th>party</th>\n",
       "      <th></th>\n",
       "      <th></th>\n",
       "      <th></th>\n",
       "      <th></th>\n",
       "      <th></th>\n",
       "      <th></th>\n",
       "      <th></th>\n",
       "      <th></th>\n",
       "      <th></th>\n",
       "      <th></th>\n",
       "      <th></th>\n",
       "      <th></th>\n",
       "      <th></th>\n",
       "      <th></th>\n",
       "      <th></th>\n",
       "      <th></th>\n",
       "      <th></th>\n",
       "      <th></th>\n",
       "      <th></th>\n",
       "      <th></th>\n",
       "      <th></th>\n",
       "    </tr>\n",
       "  </thead>\n",
       "  <tbody>\n",
       "    <tr>\n",
       "      <th>rv</th>\n",
       "      <td>28347.0</td>\n",
       "      <td>227683.819205</td>\n",
       "      <td>136566.363457</td>\n",
       "      <td>41.0</td>\n",
       "      <td>80603.50</td>\n",
       "      <td>202221.0</td>\n",
       "      <td>366511.50</td>\n",
       "      <td>439783.0</td>\n",
       "      <td>28347.0</td>\n",
       "      <td>1.355985e+18</td>\n",
       "      <td>...</td>\n",
       "      <td>3.052605e+09</td>\n",
       "      <td>1.550441e+18</td>\n",
       "      <td>28347.0</td>\n",
       "      <td>0.358274</td>\n",
       "      <td>0.479502</td>\n",
       "      <td>0.0</td>\n",
       "      <td>0.0</td>\n",
       "      <td>0.0</td>\n",
       "      <td>1.0</td>\n",
       "      <td>1.0</td>\n",
       "    </tr>\n",
       "    <tr>\n",
       "      <th>s</th>\n",
       "      <td>54519.0</td>\n",
       "      <td>217894.491590</td>\n",
       "      <td>133171.086113</td>\n",
       "      <td>33.0</td>\n",
       "      <td>113703.50</td>\n",
       "      <td>217385.0</td>\n",
       "      <td>338892.50</td>\n",
       "      <td>440482.0</td>\n",
       "      <td>54519.0</td>\n",
       "      <td>1.352885e+18</td>\n",
       "      <td>...</td>\n",
       "      <td>2.570474e+09</td>\n",
       "      <td>1.566089e+18</td>\n",
       "      <td>54519.0</td>\n",
       "      <td>0.254113</td>\n",
       "      <td>0.435366</td>\n",
       "      <td>0.0</td>\n",
       "      <td>0.0</td>\n",
       "      <td>0.0</td>\n",
       "      <td>1.0</td>\n",
       "      <td>1.0</td>\n",
       "    </tr>\n",
       "    <tr>\n",
       "      <th>sf</th>\n",
       "      <td>25700.0</td>\n",
       "      <td>233958.362840</td>\n",
       "      <td>132273.637754</td>\n",
       "      <td>65.0</td>\n",
       "      <td>117477.75</td>\n",
       "      <td>250624.5</td>\n",
       "      <td>354018.25</td>\n",
       "      <td>440486.0</td>\n",
       "      <td>25700.0</td>\n",
       "      <td>1.363501e+18</td>\n",
       "      <td>...</td>\n",
       "      <td>3.323585e+09</td>\n",
       "      <td>1.558739e+18</td>\n",
       "      <td>25700.0</td>\n",
       "      <td>0.659611</td>\n",
       "      <td>0.473849</td>\n",
       "      <td>0.0</td>\n",
       "      <td>0.0</td>\n",
       "      <td>1.0</td>\n",
       "      <td>1.0</td>\n",
       "      <td>1.0</td>\n",
       "    </tr>\n",
       "    <tr>\n",
       "      <th>ug</th>\n",
       "      <td>9959.0</td>\n",
       "      <td>170057.187569</td>\n",
       "      <td>141233.802505</td>\n",
       "      <td>5707.0</td>\n",
       "      <td>25423.50</td>\n",
       "      <td>136401.0</td>\n",
       "      <td>291430.50</td>\n",
       "      <td>439714.0</td>\n",
       "      <td>9959.0</td>\n",
       "      <td>1.379845e+18</td>\n",
       "      <td>...</td>\n",
       "      <td>2.886396e+09</td>\n",
       "      <td>1.577293e+18</td>\n",
       "      <td>9959.0</td>\n",
       "      <td>0.057034</td>\n",
       "      <td>0.231919</td>\n",
       "      <td>0.0</td>\n",
       "      <td>0.0</td>\n",
       "      <td>0.0</td>\n",
       "      <td>0.0</td>\n",
       "      <td>1.0</td>\n",
       "    </tr>\n",
       "    <tr>\n",
       "      <th>v</th>\n",
       "      <td>29718.0</td>\n",
       "      <td>223332.083653</td>\n",
       "      <td>131614.125320</td>\n",
       "      <td>63.0</td>\n",
       "      <td>103155.25</td>\n",
       "      <td>230054.5</td>\n",
       "      <td>349203.75</td>\n",
       "      <td>440431.0</td>\n",
       "      <td>29718.0</td>\n",
       "      <td>1.359889e+18</td>\n",
       "      <td>...</td>\n",
       "      <td>3.301030e+09</td>\n",
       "      <td>1.565647e+18</td>\n",
       "      <td>29718.0</td>\n",
       "      <td>0.343563</td>\n",
       "      <td>0.474905</td>\n",
       "      <td>0.0</td>\n",
       "      <td>0.0</td>\n",
       "      <td>0.0</td>\n",
       "      <td>1.0</td>\n",
       "      <td>1.0</td>\n",
       "    </tr>\n",
       "  </tbody>\n",
       "</table>\n",
       "<p>5 rows × 72 columns</p>\n",
       "</div>"
      ],
      "text/plain": [
       "       level_0                                                             \\\n",
       "         count           mean            std     min        25%       50%   \n",
       "party                                                                       \n",
       "rv     28347.0  227683.819205  136566.363457    41.0   80603.50  202221.0   \n",
       "s      54519.0  217894.491590  133171.086113    33.0  113703.50  217385.0   \n",
       "sf     25700.0  233958.362840  132273.637754    65.0  117477.75  250624.5   \n",
       "ug      9959.0  170057.187569  141233.802505  5707.0   25423.50  136401.0   \n",
       "v      29718.0  223332.083653  131614.125320    63.0  103155.25  230054.5   \n",
       "\n",
       "                                 id                ...  \\\n",
       "             75%       max    count          mean  ...   \n",
       "party                                              ...   \n",
       "rv     366511.50  439783.0  28347.0  1.355985e+18  ...   \n",
       "s      338892.50  440482.0  54519.0  1.352885e+18  ...   \n",
       "sf     354018.25  440486.0  25700.0  1.363501e+18  ...   \n",
       "ug     291430.50  439714.0   9959.0  1.379845e+18  ...   \n",
       "v      349203.75  440431.0  29718.0  1.359889e+18  ...   \n",
       "\n",
       "      in_reply_to_user_id_str               gndr_fem                           \\\n",
       "                          75%           max    count      mean       std  min   \n",
       "party                                                                           \n",
       "rv               3.052605e+09  1.550441e+18  28347.0  0.358274  0.479502  0.0   \n",
       "s                2.570474e+09  1.566089e+18  54519.0  0.254113  0.435366  0.0   \n",
       "sf               3.323585e+09  1.558739e+18  25700.0  0.659611  0.473849  0.0   \n",
       "ug               2.886396e+09  1.577293e+18   9959.0  0.057034  0.231919  0.0   \n",
       "v                3.301030e+09  1.565647e+18  29718.0  0.343563  0.474905  0.0   \n",
       "\n",
       "                           \n",
       "       25%  50%  75%  max  \n",
       "party                      \n",
       "rv     0.0  0.0  1.0  1.0  \n",
       "s      0.0  0.0  1.0  1.0  \n",
       "sf     0.0  1.0  1.0  1.0  \n",
       "ug     0.0  0.0  0.0  1.0  \n",
       "v      0.0  0.0  1.0  1.0  \n",
       "\n",
       "[5 rows x 72 columns]"
      ]
     },
     "execution_count": 23,
     "metadata": {},
     "output_type": "execute_result"
    }
   ],
   "source": [
    "deskriptiv.tail()"
   ]
  },
  {
   "cell_type": "code",
   "execution_count": 24,
   "id": "d5c9f387-ca15-482f-9c8a-bac5a3ed9e98",
   "metadata": {
    "execution": {
     "iopub.execute_input": "2022-12-15T21:22:12.907345Z",
     "iopub.status.busy": "2022-12-15T21:22:12.907067Z",
     "iopub.status.idle": "2022-12-15T21:22:12.939383Z",
     "shell.execute_reply": "2022-12-15T21:22:12.938291Z",
     "shell.execute_reply.started": "2022-12-15T21:22:12.907326Z"
    },
    "tags": []
   },
   "outputs": [
    {
     "data": {
      "text/plain": [
       "0    @MadsAakjaer Nej, beregningerne er ikke lavet ...\n",
       "1     @MadsAakjaer Ikke sandt. https://t.co/RoXPw4TGOf\n",
       "2    @PerTolboll Jeg ved det ikke. Vores bil er fra...\n",
       "3    @LindgaardMl “Man kan ikke fremstille boliger,...\n",
       "4    @LindgaardMl Der er 1,4 mia. biler på verdensp...\n",
       "Name: full_text, dtype: object"
      ]
     },
     "execution_count": 24,
     "metadata": {},
     "output_type": "execute_result"
    }
   ],
   "source": [
    "tweet_merged['full_text'].head()"
   ]
  },
  {
   "cell_type": "code",
   "execution_count": 25,
   "id": "e3ab50ec-247c-4b28-8719-3fc64374810a",
   "metadata": {
    "execution": {
     "iopub.execute_input": "2022-12-15T21:22:12.941292Z",
     "iopub.status.busy": "2022-12-15T21:22:12.940852Z",
     "iopub.status.idle": "2022-12-15T21:22:16.153903Z",
     "shell.execute_reply": "2022-12-15T21:22:16.153208Z",
     "shell.execute_reply.started": "2022-12-15T21:22:12.941252Z"
    },
    "tags": []
   },
   "outputs": [
    {
     "data": {
      "image/png": "[encoded data removed]",
      "text/plain": [
       "<Figure size 432x288 with 1 Axes>"
      ]
     },
     "metadata": {},
     "output_type": "display_data"
    },
    {
     "data": {
      "text/plain": [
       "<ggplot: (8788186956785)>"
      ]
     },
     "execution_count": 25,
     "metadata": {},
     "output_type": "execute_result"
    }
   ],
   "source": [
    "(ggplot(tweet_merged, aes('party', fill='party'))\n",
    " + geom_bar()\n",
    " + geom_text(\n",
    "     aes(label=after_stat('count')),\n",
    "     stat='count',\n",
    "     nudge_y=0.125,\n",
    "     va='bottom'\n",
    " )\n",
    ")"
   ]
  },
  {
   "cell_type": "markdown",
   "id": "81dfddb5-f342-4f08-bcc0-906671e49941",
   "metadata": {},
   "source": [
    "## Model 1: Clusteranalyse med tokens"
   ]
  },
  {
   "cell_type": "code",
   "execution_count": 26,
   "id": "fd710065-d49d-4b35-93b3-f6c6c587d958",
   "metadata": {
    "execution": {
     "iopub.execute_input": "2022-12-15T21:22:16.155079Z",
     "iopub.status.busy": "2022-12-15T21:22:16.154860Z",
     "iopub.status.idle": "2022-12-15T21:22:16.753887Z",
     "shell.execute_reply": "2022-12-15T21:22:16.752880Z",
     "shell.execute_reply.started": "2022-12-15T21:22:16.155059Z"
    },
    "tags": []
   },
   "outputs": [],
   "source": [
    "nlp = spacy.load(\"da_core_news_sm\") # Valg af NLP-model. Dansk news. \n",
    "# Der var desværre ikke udarbejdet en model til WEB på dansk"
   ]
  },
  {
   "cell_type": "code",
   "execution_count": 27,
   "id": "987ffde6-f3a4-453f-a4b6-1d8a42f4ce06",
   "metadata": {
    "execution": {
     "iopub.execute_input": "2022-12-15T21:22:16.755163Z",
     "iopub.status.busy": "2022-12-15T21:22:16.754814Z",
     "iopub.status.idle": "2022-12-15T21:22:16.764723Z",
     "shell.execute_reply": "2022-12-15T21:22:16.763592Z",
     "shell.execute_reply.started": "2022-12-15T21:22:16.755144Z"
    },
    "tags": []
   },
   "outputs": [],
   "source": [
    "# Første tokenizer \n",
    "def tokenizer1(text): # defalt altid det, som skal skrives ved oprettelse af tokenizer\n",
    "    \n",
    "    custom_stops = [''] # Definerer kontekstspecifikke stopord\n",
    "    default_stopwords = list(nlp.Defaults.stop_words) # Indlæser prædefineret stopordsliste\n",
    "    stop_words = default_stopwords + custom_stops # Danner samlet stopordsliste\n",
    "    \n",
    "    pos_tags = ['PROPN', 'ADJ', 'NOUN'] # Definerer typer ord som skal bevares\n",
    "\n",
    "    doc = nlp(text) # nlp \n",
    "\n",
    "    tokens = []\n",
    "\n",
    "    for word in doc: # Looper igennem hvert ord i tweet\n",
    "        if (len(word.lemma_) < 3): # Ord må ikke være mindre end 3 karakterer - går videre til næste ord, hvis det er\n",
    "            continue\n",
    "        if (word.pos_ in pos_tags) and (word.lemma_ not in stop_words): # Tjek at ordets POS-tag indgår i listen af accepterede tags og at ordet ikke er stopord\n",
    "            tokens.append(word.lemma_) # Tilføj ordets lemma til tokens, hvis if-betingelse er opfyldt\n",
    "                \n",
    "    return(tokens)"
   ]
  },
  {
   "cell_type": "code",
   "execution_count": null,
   "id": "f34d870b-8449-4956-bd2e-a5fe512fec73",
   "metadata": {
    "execution": {
     "iopub.status.busy": "2022-12-15T11:58:59.497183Z",
     "iopub.status.idle": "2022-12-15T11:58:59.497417Z",
     "shell.execute_reply": "2022-12-15T11:58:59.497315Z",
     "shell.execute_reply.started": "2022-12-15T11:58:59.497303Z"
    },
    "tags": []
   },
   "outputs": [],
   "source": [
    "# Vi kører tokenizeren på full_text_2\n",
    "tokens1 = []\n",
    "for text in tweet_merged['full_text_2']:\n",
    "    tokens1.append(tokenizer1(text))"
   ]
  },
  {
   "cell_type": "code",
   "execution_count": null,
   "id": "9c8df8f2-60ac-4d6e-9f9a-77db2523349b",
   "metadata": {
    "execution": {
     "iopub.status.busy": "2022-12-15T11:58:59.497965Z",
     "iopub.status.idle": "2022-12-15T11:58:59.498223Z",
     "shell.execute_reply": "2022-12-15T11:58:59.498102Z",
     "shell.execute_reply.started": "2022-12-15T11:58:59.498089Z"
    },
    "tags": []
   },
   "outputs": [],
   "source": [
    "tokens1[0:10]"
   ]
  },
  {
   "cell_type": "code",
   "execution_count": 28,
   "id": "16f1071e-97cf-41de-829a-47c6174bcd8b",
   "metadata": {
    "execution": {
     "iopub.execute_input": "2022-12-15T21:22:16.767366Z",
     "iopub.status.busy": "2022-12-15T21:22:16.766547Z",
     "iopub.status.idle": "2022-12-15T21:52:44.204552Z",
     "shell.execute_reply": "2022-12-15T21:52:44.203473Z",
     "shell.execute_reply.started": "2022-12-15T21:22:16.767328Z"
    },
    "tags": []
   },
   "outputs": [
    {
     "name": "stderr",
     "output_type": "stream",
     "text": [
      "/opt/conda/lib/python3.9/site-packages/sklearn/feature_extraction/text.py:528: UserWarning: The parameter 'token_pattern' will not be used since 'tokenizer' is not None'\n"
     ]
    }
   ],
   "source": [
    "#vectorize\n",
    "vectorizer1 = TfidfVectorizer(min_df = 300, max_df = 0.3, tokenizer = tokenizer1) # dan vectorizerfunktion - vi laver ikke om i funktionen\n",
    "#Tweets skal minimum fremgå i 300 dokumenter, men ikke mere end 30% af korpus\n",
    "transformed_documents1 = vectorizer1.fit_transform(tweet_merged['full_text_2']) # brug vectorizer på tekster\n",
    "\n",
    "transformed_documents_as_array1 = transformed_documents1.toarray()# Konverter fittet vectorizer til array\n",
    "# array-struktur"
   ]
  },
  {
   "cell_type": "code",
   "execution_count": 29,
   "id": "5ce0422c-5c5b-493a-9f2d-b3e5da6785b8",
   "metadata": {
    "execution": {
     "iopub.execute_input": "2022-12-15T21:52:44.210471Z",
     "iopub.status.busy": "2022-12-15T21:52:44.210026Z",
     "iopub.status.idle": "2022-12-15T21:52:44.322489Z",
     "shell.execute_reply": "2022-12-15T21:52:44.321961Z",
     "shell.execute_reply.started": "2022-12-15T21:52:44.210444Z"
    },
    "tags": []
   },
   "outputs": [
    {
     "data": {
      "text/html": [
       "<div>\n",
       "<style scoped>\n",
       "    .dataframe tbody tr th:only-of-type {\n",
       "        vertical-align: middle;\n",
       "    }\n",
       "\n",
       "    .dataframe tbody tr th {\n",
       "        vertical-align: top;\n",
       "    }\n",
       "\n",
       "    .dataframe thead th {\n",
       "        text-align: right;\n",
       "    }\n",
       "</style>\n",
       "<table border=\"1\" class=\"dataframe\">\n",
       "  <thead>\n",
       "    <tr style=\"text-align: right;\">\n",
       "      <th></th>\n",
       "      <th>#dkpol</th>\n",
       "      <th>;-)</th>\n",
       "      <th>Danmark</th>\n",
       "      <th>Europa</th>\n",
       "      <th>København</th>\n",
       "      <th>Lars</th>\n",
       "      <th>Mette</th>\n",
       "      <th>Støjberg</th>\n",
       "      <th>Søren</th>\n",
       "      <th>aarhus</th>\n",
       "      <th>...</th>\n",
       "      <th>åbning</th>\n",
       "      <th>årsag</th>\n",
       "      <th>årti</th>\n",
       "      <th>ærlig</th>\n",
       "      <th>øje</th>\n",
       "      <th>øjeblik</th>\n",
       "      <th>økonomi</th>\n",
       "      <th>økonomisk</th>\n",
       "      <th>ønske</th>\n",
       "      <th>øvrig</th>\n",
       "    </tr>\n",
       "  </thead>\n",
       "  <tbody>\n",
       "    <tr>\n",
       "      <th>0</th>\n",
       "      <td>0.0</td>\n",
       "      <td>0.0</td>\n",
       "      <td>0.550569</td>\n",
       "      <td>0.0</td>\n",
       "      <td>0.0</td>\n",
       "      <td>0.0</td>\n",
       "      <td>0.0</td>\n",
       "      <td>0.0</td>\n",
       "      <td>0.0</td>\n",
       "      <td>0.0</td>\n",
       "      <td>...</td>\n",
       "      <td>0.0</td>\n",
       "      <td>0.0</td>\n",
       "      <td>0.000000</td>\n",
       "      <td>0.0</td>\n",
       "      <td>0.0</td>\n",
       "      <td>0.0</td>\n",
       "      <td>0.0</td>\n",
       "      <td>0.0</td>\n",
       "      <td>0.0</td>\n",
       "      <td>0.0</td>\n",
       "    </tr>\n",
       "    <tr>\n",
       "      <th>1</th>\n",
       "      <td>0.0</td>\n",
       "      <td>0.0</td>\n",
       "      <td>0.000000</td>\n",
       "      <td>0.0</td>\n",
       "      <td>0.0</td>\n",
       "      <td>0.0</td>\n",
       "      <td>0.0</td>\n",
       "      <td>0.0</td>\n",
       "      <td>0.0</td>\n",
       "      <td>0.0</td>\n",
       "      <td>...</td>\n",
       "      <td>0.0</td>\n",
       "      <td>0.0</td>\n",
       "      <td>0.000000</td>\n",
       "      <td>0.0</td>\n",
       "      <td>0.0</td>\n",
       "      <td>0.0</td>\n",
       "      <td>0.0</td>\n",
       "      <td>0.0</td>\n",
       "      <td>0.0</td>\n",
       "      <td>0.0</td>\n",
       "    </tr>\n",
       "    <tr>\n",
       "      <th>2</th>\n",
       "      <td>0.0</td>\n",
       "      <td>0.0</td>\n",
       "      <td>0.000000</td>\n",
       "      <td>0.0</td>\n",
       "      <td>0.0</td>\n",
       "      <td>0.0</td>\n",
       "      <td>0.0</td>\n",
       "      <td>0.0</td>\n",
       "      <td>0.0</td>\n",
       "      <td>0.0</td>\n",
       "      <td>...</td>\n",
       "      <td>0.0</td>\n",
       "      <td>0.0</td>\n",
       "      <td>0.000000</td>\n",
       "      <td>0.0</td>\n",
       "      <td>0.0</td>\n",
       "      <td>0.0</td>\n",
       "      <td>0.0</td>\n",
       "      <td>0.0</td>\n",
       "      <td>0.0</td>\n",
       "      <td>0.0</td>\n",
       "    </tr>\n",
       "    <tr>\n",
       "      <th>3</th>\n",
       "      <td>0.0</td>\n",
       "      <td>0.0</td>\n",
       "      <td>0.000000</td>\n",
       "      <td>0.0</td>\n",
       "      <td>0.0</td>\n",
       "      <td>0.0</td>\n",
       "      <td>0.0</td>\n",
       "      <td>0.0</td>\n",
       "      <td>0.0</td>\n",
       "      <td>0.0</td>\n",
       "      <td>...</td>\n",
       "      <td>0.0</td>\n",
       "      <td>0.0</td>\n",
       "      <td>0.000000</td>\n",
       "      <td>0.0</td>\n",
       "      <td>0.0</td>\n",
       "      <td>0.0</td>\n",
       "      <td>0.0</td>\n",
       "      <td>0.0</td>\n",
       "      <td>0.0</td>\n",
       "      <td>0.0</td>\n",
       "    </tr>\n",
       "    <tr>\n",
       "      <th>4</th>\n",
       "      <td>0.0</td>\n",
       "      <td>0.0</td>\n",
       "      <td>0.000000</td>\n",
       "      <td>0.0</td>\n",
       "      <td>0.0</td>\n",
       "      <td>0.0</td>\n",
       "      <td>0.0</td>\n",
       "      <td>0.0</td>\n",
       "      <td>0.0</td>\n",
       "      <td>0.0</td>\n",
       "      <td>...</td>\n",
       "      <td>0.0</td>\n",
       "      <td>0.0</td>\n",
       "      <td>0.407705</td>\n",
       "      <td>0.0</td>\n",
       "      <td>0.0</td>\n",
       "      <td>0.0</td>\n",
       "      <td>0.0</td>\n",
       "      <td>0.0</td>\n",
       "      <td>0.0</td>\n",
       "      <td>0.0</td>\n",
       "    </tr>\n",
       "    <tr>\n",
       "      <th>...</th>\n",
       "      <td>...</td>\n",
       "      <td>...</td>\n",
       "      <td>...</td>\n",
       "      <td>...</td>\n",
       "      <td>...</td>\n",
       "      <td>...</td>\n",
       "      <td>...</td>\n",
       "      <td>...</td>\n",
       "      <td>...</td>\n",
       "      <td>...</td>\n",
       "      <td>...</td>\n",
       "      <td>...</td>\n",
       "      <td>...</td>\n",
       "      <td>...</td>\n",
       "      <td>...</td>\n",
       "      <td>...</td>\n",
       "      <td>...</td>\n",
       "      <td>...</td>\n",
       "      <td>...</td>\n",
       "      <td>...</td>\n",
       "      <td>...</td>\n",
       "    </tr>\n",
       "    <tr>\n",
       "      <th>238487</th>\n",
       "      <td>0.0</td>\n",
       "      <td>0.0</td>\n",
       "      <td>0.000000</td>\n",
       "      <td>0.0</td>\n",
       "      <td>0.0</td>\n",
       "      <td>0.0</td>\n",
       "      <td>0.0</td>\n",
       "      <td>0.0</td>\n",
       "      <td>0.0</td>\n",
       "      <td>0.0</td>\n",
       "      <td>...</td>\n",
       "      <td>0.0</td>\n",
       "      <td>0.0</td>\n",
       "      <td>0.000000</td>\n",
       "      <td>0.0</td>\n",
       "      <td>0.0</td>\n",
       "      <td>0.0</td>\n",
       "      <td>0.0</td>\n",
       "      <td>0.0</td>\n",
       "      <td>0.0</td>\n",
       "      <td>0.0</td>\n",
       "    </tr>\n",
       "    <tr>\n",
       "      <th>238488</th>\n",
       "      <td>0.0</td>\n",
       "      <td>0.0</td>\n",
       "      <td>0.673733</td>\n",
       "      <td>0.0</td>\n",
       "      <td>0.0</td>\n",
       "      <td>0.0</td>\n",
       "      <td>0.0</td>\n",
       "      <td>0.0</td>\n",
       "      <td>0.0</td>\n",
       "      <td>0.0</td>\n",
       "      <td>...</td>\n",
       "      <td>0.0</td>\n",
       "      <td>0.0</td>\n",
       "      <td>0.000000</td>\n",
       "      <td>0.0</td>\n",
       "      <td>0.0</td>\n",
       "      <td>0.0</td>\n",
       "      <td>0.0</td>\n",
       "      <td>0.0</td>\n",
       "      <td>0.0</td>\n",
       "      <td>0.0</td>\n",
       "    </tr>\n",
       "    <tr>\n",
       "      <th>238489</th>\n",
       "      <td>0.0</td>\n",
       "      <td>0.0</td>\n",
       "      <td>0.000000</td>\n",
       "      <td>0.0</td>\n",
       "      <td>0.0</td>\n",
       "      <td>0.0</td>\n",
       "      <td>0.0</td>\n",
       "      <td>0.0</td>\n",
       "      <td>0.0</td>\n",
       "      <td>0.0</td>\n",
       "      <td>...</td>\n",
       "      <td>0.0</td>\n",
       "      <td>0.0</td>\n",
       "      <td>0.000000</td>\n",
       "      <td>0.0</td>\n",
       "      <td>0.0</td>\n",
       "      <td>0.0</td>\n",
       "      <td>0.0</td>\n",
       "      <td>0.0</td>\n",
       "      <td>0.0</td>\n",
       "      <td>0.0</td>\n",
       "    </tr>\n",
       "    <tr>\n",
       "      <th>238490</th>\n",
       "      <td>0.0</td>\n",
       "      <td>0.0</td>\n",
       "      <td>0.000000</td>\n",
       "      <td>0.0</td>\n",
       "      <td>0.0</td>\n",
       "      <td>0.0</td>\n",
       "      <td>0.0</td>\n",
       "      <td>0.0</td>\n",
       "      <td>0.0</td>\n",
       "      <td>0.0</td>\n",
       "      <td>...</td>\n",
       "      <td>0.0</td>\n",
       "      <td>0.0</td>\n",
       "      <td>0.000000</td>\n",
       "      <td>0.0</td>\n",
       "      <td>0.0</td>\n",
       "      <td>0.0</td>\n",
       "      <td>0.0</td>\n",
       "      <td>0.0</td>\n",
       "      <td>0.0</td>\n",
       "      <td>0.0</td>\n",
       "    </tr>\n",
       "    <tr>\n",
       "      <th>238491</th>\n",
       "      <td>0.0</td>\n",
       "      <td>0.0</td>\n",
       "      <td>0.000000</td>\n",
       "      <td>0.0</td>\n",
       "      <td>0.0</td>\n",
       "      <td>0.0</td>\n",
       "      <td>0.0</td>\n",
       "      <td>0.0</td>\n",
       "      <td>0.0</td>\n",
       "      <td>0.0</td>\n",
       "      <td>...</td>\n",
       "      <td>0.0</td>\n",
       "      <td>0.0</td>\n",
       "      <td>0.000000</td>\n",
       "      <td>0.0</td>\n",
       "      <td>0.0</td>\n",
       "      <td>0.0</td>\n",
       "      <td>0.0</td>\n",
       "      <td>0.0</td>\n",
       "      <td>0.0</td>\n",
       "      <td>0.0</td>\n",
       "    </tr>\n",
       "  </tbody>\n",
       "</table>\n",
       "<p>238492 rows × 706 columns</p>\n",
       "</div>"
      ],
      "text/plain": [
       "        #dkpol  ;-)   Danmark  Europa  København  Lars  Mette  Støjberg  \\\n",
       "0          0.0  0.0  0.550569     0.0        0.0   0.0    0.0       0.0   \n",
       "1          0.0  0.0  0.000000     0.0        0.0   0.0    0.0       0.0   \n",
       "2          0.0  0.0  0.000000     0.0        0.0   0.0    0.0       0.0   \n",
       "3          0.0  0.0  0.000000     0.0        0.0   0.0    0.0       0.0   \n",
       "4          0.0  0.0  0.000000     0.0        0.0   0.0    0.0       0.0   \n",
       "...        ...  ...       ...     ...        ...   ...    ...       ...   \n",
       "238487     0.0  0.0  0.000000     0.0        0.0   0.0    0.0       0.0   \n",
       "238488     0.0  0.0  0.673733     0.0        0.0   0.0    0.0       0.0   \n",
       "238489     0.0  0.0  0.000000     0.0        0.0   0.0    0.0       0.0   \n",
       "238490     0.0  0.0  0.000000     0.0        0.0   0.0    0.0       0.0   \n",
       "238491     0.0  0.0  0.000000     0.0        0.0   0.0    0.0       0.0   \n",
       "\n",
       "        Søren  aarhus  ...  åbning  årsag      årti  ærlig  øje  øjeblik  \\\n",
       "0         0.0     0.0  ...     0.0    0.0  0.000000    0.0  0.0      0.0   \n",
       "1         0.0     0.0  ...     0.0    0.0  0.000000    0.0  0.0      0.0   \n",
       "2         0.0     0.0  ...     0.0    0.0  0.000000    0.0  0.0      0.0   \n",
       "3         0.0     0.0  ...     0.0    0.0  0.000000    0.0  0.0      0.0   \n",
       "4         0.0     0.0  ...     0.0    0.0  0.407705    0.0  0.0      0.0   \n",
       "...       ...     ...  ...     ...    ...       ...    ...  ...      ...   \n",
       "238487    0.0     0.0  ...     0.0    0.0  0.000000    0.0  0.0      0.0   \n",
       "238488    0.0     0.0  ...     0.0    0.0  0.000000    0.0  0.0      0.0   \n",
       "238489    0.0     0.0  ...     0.0    0.0  0.000000    0.0  0.0      0.0   \n",
       "238490    0.0     0.0  ...     0.0    0.0  0.000000    0.0  0.0      0.0   \n",
       "238491    0.0     0.0  ...     0.0    0.0  0.000000    0.0  0.0      0.0   \n",
       "\n",
       "        økonomi  økonomisk  ønske  øvrig  \n",
       "0           0.0        0.0    0.0    0.0  \n",
       "1           0.0        0.0    0.0    0.0  \n",
       "2           0.0        0.0    0.0    0.0  \n",
       "3           0.0        0.0    0.0    0.0  \n",
       "4           0.0        0.0    0.0    0.0  \n",
       "...         ...        ...    ...    ...  \n",
       "238487      0.0        0.0    0.0    0.0  \n",
       "238488      0.0        0.0    0.0    0.0  \n",
       "238489      0.0        0.0    0.0    0.0  \n",
       "238490      0.0        0.0    0.0    0.0  \n",
       "238491      0.0        0.0    0.0    0.0  \n",
       "\n",
       "[238492 rows x 706 columns]"
      ]
     },
     "execution_count": 29,
     "metadata": {},
     "output_type": "execute_result"
    }
   ],
   "source": [
    "tokens_df1 = pd.DataFrame(transformed_documents_as_array1, columns = vectorizer1.get_feature_names_out()) # Konverter til data frame\n",
    "# Før get_feature_names_out har variablene ikke nogen meningsfulde variabelnavne. \n",
    "# Variabel navne laves herved tilsvarende til det pågældende ord i et dataframe-format. \n",
    "\n",
    "tokens_df1"
   ]
  },
  {
   "cell_type": "code",
   "execution_count": 30,
   "id": "f33c090c-b41e-45e8-a033-9564cee66b48",
   "metadata": {
    "execution": {
     "iopub.execute_input": "2022-12-15T21:52:44.323825Z",
     "iopub.status.busy": "2022-12-15T21:52:44.323442Z",
     "iopub.status.idle": "2022-12-15T21:52:44.346226Z",
     "shell.execute_reply": "2022-12-15T21:52:44.345605Z",
     "shell.execute_reply.started": "2022-12-15T21:52:44.323803Z"
    },
    "tags": []
   },
   "outputs": [
    {
     "data": {
      "text/html": [
       "<div>\n",
       "<style scoped>\n",
       "    .dataframe tbody tr th:only-of-type {\n",
       "        vertical-align: middle;\n",
       "    }\n",
       "\n",
       "    .dataframe tbody tr th {\n",
       "        vertical-align: top;\n",
       "    }\n",
       "\n",
       "    .dataframe thead th {\n",
       "        text-align: right;\n",
       "    }\n",
       "</style>\n",
       "<table border=\"1\" class=\"dataframe\">\n",
       "  <thead>\n",
       "    <tr style=\"text-align: right;\">\n",
       "      <th></th>\n",
       "      <th>#dkpol</th>\n",
       "      <th>;-)</th>\n",
       "      <th>Danmark</th>\n",
       "      <th>Europa</th>\n",
       "      <th>København</th>\n",
       "      <th>Lars</th>\n",
       "      <th>Mette</th>\n",
       "      <th>Støjberg</th>\n",
       "      <th>Søren</th>\n",
       "      <th>aarhus</th>\n",
       "      <th>...</th>\n",
       "      <th>åbning</th>\n",
       "      <th>årsag</th>\n",
       "      <th>årti</th>\n",
       "      <th>ærlig</th>\n",
       "      <th>øje</th>\n",
       "      <th>øjeblik</th>\n",
       "      <th>økonomi</th>\n",
       "      <th>økonomisk</th>\n",
       "      <th>ønske</th>\n",
       "      <th>øvrig</th>\n",
       "    </tr>\n",
       "  </thead>\n",
       "  <tbody>\n",
       "    <tr>\n",
       "      <th>0</th>\n",
       "      <td>0.0</td>\n",
       "      <td>0.0</td>\n",
       "      <td>0.550569</td>\n",
       "      <td>0.0</td>\n",
       "      <td>0.0</td>\n",
       "      <td>0.0</td>\n",
       "      <td>0.0</td>\n",
       "      <td>0.0</td>\n",
       "      <td>0.0</td>\n",
       "      <td>0.0</td>\n",
       "      <td>...</td>\n",
       "      <td>0.0</td>\n",
       "      <td>0.0</td>\n",
       "      <td>0.000000</td>\n",
       "      <td>0.0</td>\n",
       "      <td>0.0</td>\n",
       "      <td>0.0</td>\n",
       "      <td>0.0</td>\n",
       "      <td>0.0</td>\n",
       "      <td>0.0</td>\n",
       "      <td>0.0</td>\n",
       "    </tr>\n",
       "    <tr>\n",
       "      <th>1</th>\n",
       "      <td>0.0</td>\n",
       "      <td>0.0</td>\n",
       "      <td>0.000000</td>\n",
       "      <td>0.0</td>\n",
       "      <td>0.0</td>\n",
       "      <td>0.0</td>\n",
       "      <td>0.0</td>\n",
       "      <td>0.0</td>\n",
       "      <td>0.0</td>\n",
       "      <td>0.0</td>\n",
       "      <td>...</td>\n",
       "      <td>0.0</td>\n",
       "      <td>0.0</td>\n",
       "      <td>0.000000</td>\n",
       "      <td>0.0</td>\n",
       "      <td>0.0</td>\n",
       "      <td>0.0</td>\n",
       "      <td>0.0</td>\n",
       "      <td>0.0</td>\n",
       "      <td>0.0</td>\n",
       "      <td>0.0</td>\n",
       "    </tr>\n",
       "    <tr>\n",
       "      <th>2</th>\n",
       "      <td>0.0</td>\n",
       "      <td>0.0</td>\n",
       "      <td>0.000000</td>\n",
       "      <td>0.0</td>\n",
       "      <td>0.0</td>\n",
       "      <td>0.0</td>\n",
       "      <td>0.0</td>\n",
       "      <td>0.0</td>\n",
       "      <td>0.0</td>\n",
       "      <td>0.0</td>\n",
       "      <td>...</td>\n",
       "      <td>0.0</td>\n",
       "      <td>0.0</td>\n",
       "      <td>0.000000</td>\n",
       "      <td>0.0</td>\n",
       "      <td>0.0</td>\n",
       "      <td>0.0</td>\n",
       "      <td>0.0</td>\n",
       "      <td>0.0</td>\n",
       "      <td>0.0</td>\n",
       "      <td>0.0</td>\n",
       "    </tr>\n",
       "    <tr>\n",
       "      <th>3</th>\n",
       "      <td>0.0</td>\n",
       "      <td>0.0</td>\n",
       "      <td>0.000000</td>\n",
       "      <td>0.0</td>\n",
       "      <td>0.0</td>\n",
       "      <td>0.0</td>\n",
       "      <td>0.0</td>\n",
       "      <td>0.0</td>\n",
       "      <td>0.0</td>\n",
       "      <td>0.0</td>\n",
       "      <td>...</td>\n",
       "      <td>0.0</td>\n",
       "      <td>0.0</td>\n",
       "      <td>0.000000</td>\n",
       "      <td>0.0</td>\n",
       "      <td>0.0</td>\n",
       "      <td>0.0</td>\n",
       "      <td>0.0</td>\n",
       "      <td>0.0</td>\n",
       "      <td>0.0</td>\n",
       "      <td>0.0</td>\n",
       "    </tr>\n",
       "    <tr>\n",
       "      <th>4</th>\n",
       "      <td>0.0</td>\n",
       "      <td>0.0</td>\n",
       "      <td>0.000000</td>\n",
       "      <td>0.0</td>\n",
       "      <td>0.0</td>\n",
       "      <td>0.0</td>\n",
       "      <td>0.0</td>\n",
       "      <td>0.0</td>\n",
       "      <td>0.0</td>\n",
       "      <td>0.0</td>\n",
       "      <td>...</td>\n",
       "      <td>0.0</td>\n",
       "      <td>0.0</td>\n",
       "      <td>0.407705</td>\n",
       "      <td>0.0</td>\n",
       "      <td>0.0</td>\n",
       "      <td>0.0</td>\n",
       "      <td>0.0</td>\n",
       "      <td>0.0</td>\n",
       "      <td>0.0</td>\n",
       "      <td>0.0</td>\n",
       "    </tr>\n",
       "  </tbody>\n",
       "</table>\n",
       "<p>5 rows × 706 columns</p>\n",
       "</div>"
      ],
      "text/plain": [
       "   #dkpol  ;-)   Danmark  Europa  København  Lars  Mette  Støjberg  Søren  \\\n",
       "0     0.0  0.0  0.550569     0.0        0.0   0.0    0.0       0.0    0.0   \n",
       "1     0.0  0.0  0.000000     0.0        0.0   0.0    0.0       0.0    0.0   \n",
       "2     0.0  0.0  0.000000     0.0        0.0   0.0    0.0       0.0    0.0   \n",
       "3     0.0  0.0  0.000000     0.0        0.0   0.0    0.0       0.0    0.0   \n",
       "4     0.0  0.0  0.000000     0.0        0.0   0.0    0.0       0.0    0.0   \n",
       "\n",
       "   aarhus  ...  åbning  årsag      årti  ærlig  øje  øjeblik  økonomi  \\\n",
       "0     0.0  ...     0.0    0.0  0.000000    0.0  0.0      0.0      0.0   \n",
       "1     0.0  ...     0.0    0.0  0.000000    0.0  0.0      0.0      0.0   \n",
       "2     0.0  ...     0.0    0.0  0.000000    0.0  0.0      0.0      0.0   \n",
       "3     0.0  ...     0.0    0.0  0.000000    0.0  0.0      0.0      0.0   \n",
       "4     0.0  ...     0.0    0.0  0.407705    0.0  0.0      0.0      0.0   \n",
       "\n",
       "   økonomisk  ønske  øvrig  \n",
       "0        0.0    0.0    0.0  \n",
       "1        0.0    0.0    0.0  \n",
       "2        0.0    0.0    0.0  \n",
       "3        0.0    0.0    0.0  \n",
       "4        0.0    0.0    0.0  \n",
       "\n",
       "[5 rows x 706 columns]"
      ]
     },
     "execution_count": 30,
     "metadata": {},
     "output_type": "execute_result"
    }
   ],
   "source": [
    "tokens_df1.head()"
   ]
  },
  {
   "cell_type": "code",
   "execution_count": 31,
   "id": "8732f478-8abb-4467-9b24-2140cca61c71",
   "metadata": {
    "execution": {
     "iopub.execute_input": "2022-12-15T21:52:44.347516Z",
     "iopub.status.busy": "2022-12-15T21:52:44.347272Z",
     "iopub.status.idle": "2022-12-15T21:52:44.361426Z",
     "shell.execute_reply": "2022-12-15T21:52:44.360131Z",
     "shell.execute_reply.started": "2022-12-15T21:52:44.347493Z"
    },
    "tags": []
   },
   "outputs": [
    {
     "name": "stdout",
     "output_type": "stream",
     "text": [
      "['#dkpol', ';-)', 'Danmark', 'Europa', 'København', 'Lars', 'Mette', 'Støjberg', 'Søren', 'aarhus', 'about', 'absurd', 'adgang', 'afghanistan', 'afgift', 'afgørende', 'afstand', 'aftale', 'aften', 'aktiv', 'almindelig', 'alternativ', 'alvor', 'alvorlig', 'ambition', 'ambitiøs', 'amerikansk', 'amp', 'analyse', 'anbefaling', 'anderledes', 'angreb', 'anledning', 'ansvar', 'ansvarlig', 'antal', 'arbejde', 'arbejdsløs', 'arbejdsmarked', 'arbejdsplads', 'argument', 'artikel', 'avis', 'baggrund', 'balance', 'bane', 'bank', 'barn', 'barsel', 'befolkning', 'behandling', 'behov', 'bekendt', 'beregning', 'berlingske', 'beskæftigelse', 'beslutning', 'besparelse', 'besøg', 'betydning', 'bidrag', 'bil', 'billede', 'billig', 'biodiversitet', 'blok', 'blå', 'bog', 'bolig', 'bord', 'borg', 'borger', 'borgerlig', 'borgmester', 'branche', 'bred', 'brug', 'bud', 'budskab', 'bund', 'bæredygtig', 'børnenes', 'can', 'central', 'chance', 'christiansborg', 'co2', 'corona', 'coronakrise', 'covid19', 'covid19dk', 'dag', 'dagpeng', 'danmark', 'dansk', 'dansker', 'data', 'debat', 'debatt', 'dejlig', 'del', 'demokrati', 'demokratisk', 'denmark', 'dialog', 'digital', 'direkte', 'diskussion', 'dkaid', 'dkbiz', 'dkgre', 'dkmedi', 'dkmedie', 'dkpol', 'dksocial', 'dktrp', 'dom', 'dygtig', 'dyr', 'dårlig', 'død', 'effekt', 'eksempel', 'ekspert', 'ekstra', 'elev', 'embedsmand', 'emne', 'ende', 'energi', 'energy', 'enhedslist', 'enig', 'enkelt', 'erfaring', 'erhverv', 'erhvervsliv', 'erstatning', 'eudk', 'europæisk', 'facebook', 'faglig', 'fair', 'fakta', 'fald', 'familie', 'fantastisk', 'far', 'farlig', 'fast', 'fattig', 'fejl', 'fin', 'finansiering', 'finanslov', 'finansminister', 'flertal', 'flot', 'flygtning', 'fokus', 'folk', 'folkeparti', 'folkeskole', 'folketing', 'folketingssal', 'forbedring', 'forbindelse', 'forbrug', 'forbud', 'fordel', 'forhandling', 'forhold', 'forkert', 'forklaring', 'forløb', 'form', 'formand', 'formål', 'fornuftig', 'fornøjelse', 'forskel', 'forskellig', 'forsker', 'forskning', 'forslag', 'forsvar', 'forsvarsforbehold', 'forsøg', 'forår', 'forælder', 'fred', 'fredag', 'frederikse', 'fremragende', 'fremtid', 'fri', 'frihed', 'frivillig', 'from', 'ftliv', 'fuld', 'fælles', 'fællesskab', 'fængsel', 'færdig', 'første', 'gade', 'gammel', 'gang', 'gas', 'gavn', 'generation', 'gengæld', 'genåbning', 'glad', 'global', 'glæde', 'glædelig', 'godt', 'grad', 'gram', 'grund', 'grundlag', 'grundlov', 'gruppe', 'grænse', 'grøn', 'grønn', 'går', 'had', 'halv', 'halvdel', 'handicap', 'handling', 'hav', 'hej', 'hensyn', 'historie', 'historisk', 'hjerte', 'hjælp', 'hjælpepakke', 'hold', 'holdning', 'hong', 'hoved', 'hovedstad', 'hurtig', 'hus', 'husk', 'hverdag', 'håb', 'hånd', 'hård', 'høj', 'høring', 'idag', 'ide', 'idé', 'ift', 'ift.', 'igang', 'imponerende', 'indflydelse', 'indhold', 'indlæg', 'indsats', 'information', 'inger', 'initiativ', 'institution', 'interessant', 'interesse', 'international', 'interview', 'investering', 'job', 'jord', 'journalist', 'jul', 'juni', 'justitsminister', 'kamp', 'kbh', 'kina', 'klar', 'klasse', 'klima', 'klimahandling', 'klimakrise', 'klimalov', 'klimamål', 'klog', 'klokke', 'kollega', 'kommentar', 'kommission', 'kommun', 'kommune', 'kompensation', 'konference', 'konflikt', 'kong', 'konklusion', 'konkret', 'konsekvens', 'konservativ', 'kontrol', 'korrekt', 'kort', 'kraft', 'krav', 'krig', 'kriminel', 'krise', 'kritik', 'kritisk', 'krone', 'kronik', 'kultur', 'kvalitet', 'kvinde', 'kæmpe', 'kær', 'land', 'landbrug', 'lang', 'leder', 'let', 'liberal', 'ligestilling', 'linje', 'liste', 'liv', 'lokal', 'lov', 'lovforslag', 'lovgivning', 'lys', 'lyst', 'læge', 'lærer', 'løft', 'løfte', 'løgn', 'løn', 'løsning', 'mad', 'magt', 'maj', 'mand', 'mandag', 'mandat', 'mangel', 'markant', 'marts', 'masse', 'medarbejder', 'medie', 'medlem', 'melding', 'mening', 'menneske', 'mette', 'mia', 'middel', 'miljø', 'milliard', 'million', 'minist', 'minister', 'ministerium', 'mink', 'minkavl', 'mio', 'model', 'modsat', 'mor', 'morgen', 'mulig', 'mulighed', 'mundbind', 'muslim', 'myndighed', 'måde', 'mål', 'måned', 'møde', 'nat', 'national', 'nato', 'natur', 'navn', 'nedlukning', 'negativ', 'nej', 'news', 'niveau', 'now', 'nummer', 'nuværende', 'nyhed', 'nødt', 'nødvendig', 'offentlig', 'omgang', 'område', 'omstilling', 'opbakning', 'opfordring', 'opgave', 'opgør', 'oplagt', 'oplevelse', 'oplysning', 'opmærksom', 'opposition', 'opslag', 'ord', 'orden', 'ordentlig', 'ordfører', 'ordning', 'organisation', 'overgreb', 'overskrift', 'overskud', 'par', 'part', 'parti', 'patient', 'penge', 'pension', 'periode', 'person', 'personlig', 'pinlig', 'plads', 'plan', 'point', 'pointe', 'pol', 'politi', 'politik', 'politiker', 'politisk', 'positiv', 'post', 'praksis', 'pres', 'presse', 'pressemøde', 'prioritering', 'pris', 'privat', 'problem', 'procent', 'produktion', 'program', 'projekt', 'præcis', 'psykiatri', 'putin', 'pårørende', 'påstand', 'pædagog', 'racisme', 'radikal', 'ramme', 'rapport', 'rasmus', 'reduktion', 'reel', 'reform', 'regel', 'regering', 'region', 'regning', 'relevant', 'ren', 'respekt', 'ressource', 'rest', 'restriktion', 'resultat', 'ret', 'retning', 'retsstat', 'rettighed', 'rig', 'rigtig', 'rimelig', 'risiko', 'rolle', 'ros', 'rusland', 'russisk', 'råd', 'række', 'rød', 'sag', 'sal', 'salg', 'samarbejde', 'samfund', 'sammenhæng', 'samråd', 'samtale', 'sandhed', 'sej', 'sejr', 'sektor', 'selskab', 'selvstændig', 'sen', 'seriøs', 'side', 'sidste', 'sikker', 'sikkerhed', 'situation', 'sjov', 'skandale', 'skat', 'skatt', 'skattelettelse', 'skattereform', 'skole', 'skolechat', 'skov', 'skridt', 'skyld', 'skøn', 'slags', 'slem', 'slut', 'smitt', 'sms', 'smuk', 'snak', 'social', 'socialdemokrat', 'socialdemokrati', 'socialdemokratisk', 'soldat', 'sommer', 'sort', 'spil', 'spændende', 'spørgsmål', 'start', 'stat', 'statsborgerskab', 'statsminister', 'sted', 'stemme', 'stil', 'stilling', 'stm', 'stolt', 'stop', 'stor', 'stram', 'strategi', 'studerende', 'styr', 'styrke', 'stærk', 'støjberg', 'støtte', 'støtteparti', 'sund', 'sundhed', 'sundhedsvæse', 'sundhedsvæsene', 'svar', 'svær', 'syg', 'sygdom', 'sygeplejerske', 'synspunkt', 'syri', 'system', 'sårbar', 'særlig', 'søndag', 'tak', 'tal', 'tale', 'tanke', 'that', 'the', 'their', 'this', 'tid', 'tide', 'tidlig', 'tidspunkt', 'tilbud', 'tilfælde', 'tilgang', 'tillid', 'tillykke', 'tiltag', 'time', 'ting', 'top', 'total', 'trist', 'trivsel', 'trods', 'trump', 'tryghed', 'tråd', 'træt', 'tur', 'tusind', 'tvivl', 'tweet', 'twitt', 'twitter', 'tydelig', 'type', 'tænk', 'uacceptabel', 'uafhængig', 'uddannelse', 'uddpol', 'udenlandsk', 'udfordring', 'udgift', 'udledning', 'udlændingepolitik', 'udmelding', 'udsat', 'udspil', 'udtalelse', 'udtryk', 'udvikling', 'uenig', 'uge', 'ukrain', 'ukraine', 'ukrainsk', 'ulighed', 'ulovlig', 'undersøgelse', 'undskyldning', 'ung', 'urimelig', 'usa', 'vaccin', 'vaccine', 'valg', 'valgkamp', 'vanvittig', 'varm', 'vegne', 'vej', 'velfærd', 'velkommen', 'ven', 'venstre', 'venstrefløj', 'verden', 'viden', 'video', 'vigtig', 'vild', 'vildt', 'vilje', 'vilkår', 'virkelighed', 'virksomhed', 'vis', 'voksen', 'vold', 'voldsom', 'vurdering', 'vækst', 'vælger', 'værd', 'værdi', 'værdig', 'væsentlig', 'was', 'weekend', 'what', 'will', 'with', 'world', 'ydelse', 'yes', 'ytringsfrihed', 'åben', 'åbenhed', 'åbning', 'årsag', 'årti', 'ærlig', 'øje', 'øjeblik', 'økonomi', 'økonomisk', 'ønske', 'øvrig']\n"
     ]
    }
   ],
   "source": [
    "print(tokens_df1.columns.tolist())"
   ]
  },
  {
   "cell_type": "code",
   "execution_count": 32,
   "id": "4ee9043d-ff3d-4afc-8794-cc0271398752",
   "metadata": {
    "execution": {
     "iopub.execute_input": "2022-12-15T21:52:44.364223Z",
     "iopub.status.busy": "2022-12-15T21:52:44.363215Z",
     "iopub.status.idle": "2022-12-15T21:52:44.381223Z",
     "shell.execute_reply": "2022-12-15T21:52:44.380601Z",
     "shell.execute_reply.started": "2022-12-15T21:52:44.364177Z"
    }
   },
   "outputs": [],
   "source": [
    "#Cluteranalyse"
   ]
  },
  {
   "cell_type": "code",
   "execution_count": 33,
   "id": "110271a6-d957-4e01-9e8f-b3eedc5d3a48",
   "metadata": {
    "execution": {
     "iopub.execute_input": "2022-12-15T21:52:44.382389Z",
     "iopub.status.busy": "2022-12-15T21:52:44.382063Z",
     "iopub.status.idle": "2022-12-15T21:52:44.398974Z",
     "shell.execute_reply": "2022-12-15T21:52:44.398319Z",
     "shell.execute_reply.started": "2022-12-15T21:52:44.382368Z"
    },
    "tags": []
   },
   "outputs": [],
   "source": [
    "# Vi prøver først med 20 klynger og ser \n",
    "kmeans1 = KMeans(20, random_state = 666)"
   ]
  },
  {
   "cell_type": "code",
   "execution_count": 34,
   "id": "afa4d261-9f07-4377-ba00-785503aad2c5",
   "metadata": {
    "execution": {
     "iopub.execute_input": "2022-12-15T21:52:44.400254Z",
     "iopub.status.busy": "2022-12-15T21:52:44.399899Z",
     "iopub.status.idle": "2022-12-15T21:54:33.706291Z",
     "shell.execute_reply": "2022-12-15T21:54:33.705086Z",
     "shell.execute_reply.started": "2022-12-15T21:52:44.400228Z"
    },
    "tags": []
   },
   "outputs": [
    {
     "name": "stderr",
     "output_type": "stream",
     "text": [
      "/opt/conda/lib/python3.9/site-packages/sklearn/cluster/_kmeans.py:870: FutureWarning: The default value of `n_init` will change from 10 to 'auto' in 1.4. Set the value of `n_init` explicitly to suppress the warning\n"
     ]
    },
    {
     "data": {
      "text/plain": [
       "array([13,  3,  3, ...,  3,  3,  3], dtype=int32)"
      ]
     },
     "execution_count": 34,
     "metadata": {},
     "output_type": "execute_result"
    }
   ],
   "source": [
    "identified_clusters1 = kmeans1.fit_predict(tokens_df1)\n",
    "identified_clusters1"
   ]
  },
  {
   "cell_type": "code",
   "execution_count": 35,
   "id": "a0e34686-2f7a-4edd-8cda-68e65be73103",
   "metadata": {
    "execution": {
     "iopub.execute_input": "2022-12-15T21:54:33.708882Z",
     "iopub.status.busy": "2022-12-15T21:54:33.708363Z",
     "iopub.status.idle": "2022-12-15T21:54:33.798213Z",
     "shell.execute_reply": "2022-12-15T21:54:33.796487Z",
     "shell.execute_reply.started": "2022-12-15T21:54:33.708854Z"
    },
    "tags": []
   },
   "outputs": [],
   "source": [
    "tweet_merged['cluster_countvec1'] = identified_clusters1\n",
    "tweet_merged['cluster_countvec1'] = tweet_merged['cluster_countvec1'].astype('str') # omdannes til string for at gøre den kategorisk"
   ]
  },
  {
   "cell_type": "code",
   "execution_count": 36,
   "id": "cacd268b-1eef-4811-ad3b-bde503154346",
   "metadata": {
    "execution": {
     "iopub.execute_input": "2022-12-15T21:54:33.799773Z",
     "iopub.status.busy": "2022-12-15T21:54:33.799485Z",
     "iopub.status.idle": "2022-12-15T21:54:33.887477Z",
     "shell.execute_reply": "2022-12-15T21:54:33.886569Z",
     "shell.execute_reply.started": "2022-12-15T21:54:33.799748Z"
    },
    "tags": []
   },
   "outputs": [
    {
     "data": {
      "text/plain": [
       "party  cluster_countvec1\n",
       "alt    0                    0.005506\n",
       "       1                    0.009464\n",
       "       10                   0.002065\n",
       "       11                   0.018182\n",
       "       12                   0.005105\n",
       "                              ...   \n",
       "v      5                    0.003197\n",
       "       6                    0.011710\n",
       "       7                    0.020089\n",
       "       8                    0.032001\n",
       "       9                    0.021166\n",
       "Length: 277, dtype: float64"
      ]
     },
     "execution_count": 36,
     "metadata": {},
     "output_type": "execute_result"
    }
   ],
   "source": [
    "tweet_merged.groupby(['party', 'cluster_countvec1']).size() / tweet_merged.groupby(['party']).size()"
   ]
  },
  {
   "cell_type": "code",
   "execution_count": 37,
   "id": "0fed0df9-d54e-48e2-88e6-fbf7b7b40e0c",
   "metadata": {
    "execution": {
     "iopub.execute_input": "2022-12-15T21:54:39.233358Z",
     "iopub.status.busy": "2022-12-15T21:54:39.232938Z",
     "iopub.status.idle": "2022-12-15T21:54:40.936575Z",
     "shell.execute_reply": "2022-12-15T21:54:40.935720Z",
     "shell.execute_reply.started": "2022-12-15T21:54:39.233336Z"
    },
    "tags": []
   },
   "outputs": [
    {
     "data": {
      "image/png": "[encoded data removed]",
      "text/plain": [
       "<Figure size 640x480 with 1 Axes>"
      ]
     },
     "metadata": {},
     "output_type": "display_data"
    },
    {
     "data": {
      "text/plain": [
       "<ggplot: (8788048163079)>"
      ]
     },
     "execution_count": 37,
     "metadata": {},
     "output_type": "execute_result"
    }
   ],
   "source": [
    "# Visualisering\n",
    "(ggplot(data = tweet_merged, mapping = aes(x = 'party', group = 'cluster_countvec1', fill = 'cluster_countvec1')) \n",
    " + geom_bar(position = 'fill'))"
   ]
  },
  {
   "cell_type": "code",
   "execution_count": 38,
   "id": "12d7e7be-e665-486e-bf0b-67cf98c43ec5",
   "metadata": {
    "execution": {
     "iopub.execute_input": "2022-12-15T21:54:40.938012Z",
     "iopub.status.busy": "2022-12-15T21:54:40.937573Z",
     "iopub.status.idle": "2022-12-15T21:54:40.965593Z",
     "shell.execute_reply": "2022-12-15T21:54:40.964845Z",
     "shell.execute_reply.started": "2022-12-15T21:54:40.937992Z"
    },
    "tags": []
   },
   "outputs": [
    {
     "data": {
      "text/plain": [
       "cluster_countvec1\n",
       "0       2716\n",
       "1       1360\n",
       "10       651\n",
       "11      8202\n",
       "12       785\n",
       "13     15284\n",
       "14      2432\n",
       "15      3169\n",
       "16      2279\n",
       "17      2223\n",
       "18      2196\n",
       "19      4654\n",
       "2       1860\n",
       "3     168887\n",
       "4       2307\n",
       "5        896\n",
       "6       2896\n",
       "7       4873\n",
       "8       6828\n",
       "9       3994\n",
       "Name: party, dtype: int64"
      ]
     },
     "execution_count": 38,
     "metadata": {},
     "output_type": "execute_result"
    }
   ],
   "source": [
    "tweet_merged.groupby(['cluster_countvec1'])['party'].count()"
   ]
  },
  {
   "cell_type": "code",
   "execution_count": 39,
   "id": "6bc090de-2711-4332-bfee-4aaf59f0ad51",
   "metadata": {
    "execution": {
     "iopub.execute_input": "2022-12-15T21:54:40.967598Z",
     "iopub.status.busy": "2022-12-15T21:54:40.967298Z",
     "iopub.status.idle": "2022-12-15T21:54:40.987581Z",
     "shell.execute_reply": "2022-12-15T21:54:40.986804Z",
     "shell.execute_reply.started": "2022-12-15T21:54:40.967578Z"
    },
    "tags": []
   },
   "outputs": [],
   "source": [
    "#Vi har vil gerne finde en mere nøjagtig mængde clusters, så vi bruger albuemetoden. Jo mere ens inden i, jo bedre"
   ]
  },
  {
   "cell_type": "code",
   "execution_count": 40,
   "id": "52cebaa9-0b89-4c5f-8976-b1668882f6be",
   "metadata": {
    "execution": {
     "iopub.execute_input": "2022-12-15T21:54:45.715027Z",
     "iopub.status.busy": "2022-12-15T21:54:45.714679Z",
     "iopub.status.idle": "2022-12-15T22:03:38.148479Z",
     "shell.execute_reply": "2022-12-15T22:03:38.145807Z",
     "shell.execute_reply.started": "2022-12-15T21:54:45.715001Z"
    },
    "tags": []
   },
   "outputs": [
    {
     "name": "stderr",
     "output_type": "stream",
     "text": [
      "/opt/conda/lib/python3.9/site-packages/sklearn/cluster/_kmeans.py:870: FutureWarning: The default value of `n_init` will change from 10 to 'auto' in 1.4. Set the value of `n_init` explicitly to suppress the warning\n",
      "/opt/conda/lib/python3.9/site-packages/sklearn/cluster/_kmeans.py:870: FutureWarning: The default value of `n_init` will change from 10 to 'auto' in 1.4. Set the value of `n_init` explicitly to suppress the warning\n",
      "/opt/conda/lib/python3.9/site-packages/sklearn/cluster/_kmeans.py:870: FutureWarning: The default value of `n_init` will change from 10 to 'auto' in 1.4. Set the value of `n_init` explicitly to suppress the warning\n",
      "/opt/conda/lib/python3.9/site-packages/sklearn/cluster/_kmeans.py:870: FutureWarning: The default value of `n_init` will change from 10 to 'auto' in 1.4. Set the value of `n_init` explicitly to suppress the warning\n",
      "/opt/conda/lib/python3.9/site-packages/sklearn/cluster/_kmeans.py:870: FutureWarning: The default value of `n_init` will change from 10 to 'auto' in 1.4. Set the value of `n_init` explicitly to suppress the warning\n",
      "/opt/conda/lib/python3.9/site-packages/sklearn/cluster/_kmeans.py:870: FutureWarning: The default value of `n_init` will change from 10 to 'auto' in 1.4. Set the value of `n_init` explicitly to suppress the warning\n",
      "/opt/conda/lib/python3.9/site-packages/sklearn/cluster/_kmeans.py:870: FutureWarning: The default value of `n_init` will change from 10 to 'auto' in 1.4. Set the value of `n_init` explicitly to suppress the warning\n",
      "/opt/conda/lib/python3.9/site-packages/sklearn/cluster/_kmeans.py:870: FutureWarning: The default value of `n_init` will change from 10 to 'auto' in 1.4. Set the value of `n_init` explicitly to suppress the warning\n",
      "/opt/conda/lib/python3.9/site-packages/sklearn/cluster/_kmeans.py:870: FutureWarning: The default value of `n_init` will change from 10 to 'auto' in 1.4. Set the value of `n_init` explicitly to suppress the warning\n",
      "/opt/conda/lib/python3.9/site-packages/sklearn/cluster/_kmeans.py:870: FutureWarning: The default value of `n_init` will change from 10 to 'auto' in 1.4. Set the value of `n_init` explicitly to suppress the warning\n",
      "/opt/conda/lib/python3.9/site-packages/sklearn/cluster/_kmeans.py:870: FutureWarning: The default value of `n_init` will change from 10 to 'auto' in 1.4. Set the value of `n_init` explicitly to suppress the warning\n",
      "/opt/conda/lib/python3.9/site-packages/sklearn/cluster/_kmeans.py:870: FutureWarning: The default value of `n_init` will change from 10 to 'auto' in 1.4. Set the value of `n_init` explicitly to suppress the warning\n",
      "/opt/conda/lib/python3.9/site-packages/sklearn/cluster/_kmeans.py:870: FutureWarning: The default value of `n_init` will change from 10 to 'auto' in 1.4. Set the value of `n_init` explicitly to suppress the warning\n"
     ]
    }
   ],
   "source": [
    "wcss1=[] #Tom liste, wcss står for within cluster-sum of squares\n",
    "for i in range(1,14):\n",
    "    kmeans1 = KMeans(i) #i er et tal mellem et og 14\n",
    "    kmeans1.fit(tokens_df1)\n",
    "    wcss_iter1 = kmeans1.inertia_ #in sum of squares\n",
    "    wcss1.append(wcss_iter1)"
   ]
  },
  {
   "cell_type": "code",
   "execution_count": 41,
   "id": "8ae05146-c936-403f-80cf-a62ea4812673",
   "metadata": {
    "execution": {
     "iopub.execute_input": "2022-12-15T22:03:39.111563Z",
     "iopub.status.busy": "2022-12-15T22:03:39.111312Z",
     "iopub.status.idle": "2022-12-15T22:03:39.268740Z",
     "shell.execute_reply": "2022-12-15T22:03:39.267635Z",
     "shell.execute_reply.started": "2022-12-15T22:03:39.111525Z"
    },
    "tags": []
   },
   "outputs": [
    {
     "data": {
      "text/plain": [
       "Text(0, 0.5, 'WCSS')"
      ]
     },
     "execution_count": 41,
     "metadata": {},
     "output_type": "execute_result"
    },
    {
     "data": {
      "image/png": "[encoded data removed]",
      "text/plain": [
       "<Figure size 640x480 with 1 Axes>"
      ]
     },
     "metadata": {},
     "output_type": "display_data"
    }
   ],
   "source": [
    "number_clusters1 = range(1,14)\n",
    "plt.plot(number_clusters1,wcss1)\n",
    "plt.title('Sammenhæng mellem WCSS og Clusters')\n",
    "plt.xlabel('Antallet af klynger')\n",
    "plt.ylabel('WCSS')"
   ]
  },
  {
   "cell_type": "code",
   "execution_count": 42,
   "id": "135d7319-e812-44d8-91fa-84a7a2746911",
   "metadata": {
    "execution": {
     "iopub.execute_input": "2022-12-15T22:03:42.348829Z",
     "iopub.status.busy": "2022-12-15T22:03:42.348594Z",
     "iopub.status.idle": "2022-12-15T22:03:42.353587Z",
     "shell.execute_reply": "2022-12-15T22:03:42.352831Z",
     "shell.execute_reply.started": "2022-12-15T22:03:42.348810Z"
    },
    "tags": []
   },
   "outputs": [],
   "source": [
    "kmeans1a = KMeans(9, random_state = 666)"
   ]
  },
  {
   "cell_type": "code",
   "execution_count": 43,
   "id": "90d15bbb-7fdc-49d5-930d-2b37b67eb4e9",
   "metadata": {
    "execution": {
     "iopub.execute_input": "2022-12-15T22:03:43.919166Z",
     "iopub.status.busy": "2022-12-15T22:03:43.918945Z",
     "iopub.status.idle": "2022-12-15T22:04:35.665255Z",
     "shell.execute_reply": "2022-12-15T22:04:35.664157Z",
     "shell.execute_reply.started": "2022-12-15T22:03:43.919146Z"
    },
    "tags": []
   },
   "outputs": [
    {
     "name": "stderr",
     "output_type": "stream",
     "text": [
      "/opt/conda/lib/python3.9/site-packages/sklearn/cluster/_kmeans.py:870: FutureWarning: The default value of `n_init` will change from 10 to 'auto' in 1.4. Set the value of `n_init` explicitly to suppress the warning\n"
     ]
    },
    {
     "data": {
      "text/plain": [
       "array([4, 0, 0, ..., 0, 0, 0], dtype=int32)"
      ]
     },
     "execution_count": 43,
     "metadata": {},
     "output_type": "execute_result"
    }
   ],
   "source": [
    "identified_clusters1a = kmeans1a.fit_predict(tokens_df1)\n",
    "identified_clusters1a"
   ]
  },
  {
   "cell_type": "code",
   "execution_count": 44,
   "id": "e13dcf35-34ce-45e6-9ccf-4d927af6d014",
   "metadata": {
    "execution": {
     "iopub.execute_input": "2022-12-15T22:04:38.061451Z",
     "iopub.status.busy": "2022-12-15T22:04:38.061209Z",
     "iopub.status.idle": "2022-12-15T22:04:38.133459Z",
     "shell.execute_reply": "2022-12-15T22:04:38.132512Z",
     "shell.execute_reply.started": "2022-12-15T22:04:38.061431Z"
    },
    "tags": []
   },
   "outputs": [],
   "source": [
    "tweet_merged['cluster_countvec1a'] = identified_clusters1a\n",
    "tweet_merged['cluster_countvec1a'] = tweet_merged['cluster_countvec1a'].astype('str') # omdannes til string for at gøre den kategorisk"
   ]
  },
  {
   "cell_type": "code",
   "execution_count": 45,
   "id": "addca0dc-a682-47d7-9621-13723f41101a",
   "metadata": {
    "execution": {
     "iopub.execute_input": "2022-12-15T22:04:38.134827Z",
     "iopub.status.busy": "2022-12-15T22:04:38.134577Z",
     "iopub.status.idle": "2022-12-15T22:04:38.191222Z",
     "shell.execute_reply": "2022-12-15T22:04:38.190299Z",
     "shell.execute_reply.started": "2022-12-15T22:04:38.134806Z"
    },
    "tags": []
   },
   "outputs": [
    {
     "data": {
      "text/plain": [
       "party  cluster_countvec1a\n",
       "alt    0                     0.910582\n",
       "       1                     0.002065\n",
       "       2                     0.015429\n",
       "       3                     0.002983\n",
       "       4                     0.023459\n",
       "                               ...   \n",
       "v      4                     0.037048\n",
       "       5                     0.018642\n",
       "       6                     0.029948\n",
       "       7                     0.018676\n",
       "       8                     0.006965\n",
       "Length: 126, dtype: float64"
      ]
     },
     "execution_count": 45,
     "metadata": {},
     "output_type": "execute_result"
    }
   ],
   "source": [
    "tweet_merged.groupby(['party', 'cluster_countvec1a']).size() / tweet_merged.groupby(['party']).size()"
   ]
  },
  {
   "cell_type": "code",
   "execution_count": 46,
   "id": "657a4350-c91b-4533-8553-317658c377a1",
   "metadata": {
    "execution": {
     "iopub.execute_input": "2022-12-15T22:04:38.193274Z",
     "iopub.status.busy": "2022-12-15T22:04:38.192877Z",
     "iopub.status.idle": "2022-12-15T22:04:39.608005Z",
     "shell.execute_reply": "2022-12-15T22:04:39.607184Z",
     "shell.execute_reply.started": "2022-12-15T22:04:38.193253Z"
    },
    "tags": []
   },
   "outputs": [
    {
     "data": {
      "image/png": "[encoded data removed]",
      "text/plain": [
       "<Figure size 640x480 with 1 Axes>"
      ]
     },
     "metadata": {},
     "output_type": "display_data"
    },
    {
     "data": {
      "text/plain": [
       "<ggplot: (8788047082343)>"
      ]
     },
     "execution_count": 46,
     "metadata": {},
     "output_type": "execute_result"
    }
   ],
   "source": [
    "(ggplot(data = tweet_merged, mapping = aes(x = 'party', group = 'cluster_countvec1a', fill = 'cluster_countvec1a')) \n",
    " + geom_bar(position = 'fill'))"
   ]
  },
  {
   "cell_type": "code",
   "execution_count": 47,
   "id": "e339c246-5130-442c-98b6-32d315c98f70",
   "metadata": {
    "execution": {
     "iopub.execute_input": "2022-12-15T22:04:39.609269Z",
     "iopub.status.busy": "2022-12-15T22:04:39.609060Z",
     "iopub.status.idle": "2022-12-15T22:05:16.294339Z",
     "shell.execute_reply": "2022-12-15T22:05:16.293184Z",
     "shell.execute_reply.started": "2022-12-15T22:04:39.609250Z"
    },
    "tags": []
   },
   "outputs": [],
   "source": [
    "# PCA på vores model\n",
    "from sklearn.decomposition import PCA\n",
    "\n",
    "pca = PCA(n_components=2, random_state= 666)\n",
    "\n",
    "pca_vecs = pca.fit_transform(tokens_df1)\n",
    "\n",
    "pca1 = pca_vecs[:, 0]\n",
    "pca2 = pca_vecs[:, 1]\n",
    "\n",
    "tweet_merged['pca1'] = pca1\n",
    "tweet_merged['pca2'] = pca2"
   ]
  },
  {
   "cell_type": "code",
   "execution_count": 48,
   "id": "894c4f28-9e6a-49f2-8785-9b13b305ceb1",
   "metadata": {
    "execution": {
     "iopub.execute_input": "2022-12-15T22:05:18.830248Z",
     "iopub.status.busy": "2022-12-15T22:05:18.830012Z",
     "iopub.status.idle": "2022-12-15T22:05:19.433878Z",
     "shell.execute_reply": "2022-12-15T22:05:19.432702Z",
     "shell.execute_reply.started": "2022-12-15T22:05:18.830228Z"
    },
    "tags": []
   },
   "outputs": [
    {
     "name": "stdout",
     "output_type": "stream",
     "text": [
      "\n",
      "Cluster 0\n",
      "grøn,gang,barn,vigtig,dansk,enig,stor,regering,dag,dkpol\n",
      "\n",
      "Cluster 1\n",
      "parti,kær,vaccine,dansk,spørgsmål,overskrift,stor,tak,dkpol,Lars\n",
      "\n",
      "Cluster 2\n",
      "tak,samråd,kritisk,statsminister,regering,minister,dag,dkpol,svar,spørgsmål\n",
      "\n",
      "Cluster 3\n",
      "par,barn,første,sen,krone,sidste,dag,regering,dkpol,måned\n",
      "\n",
      "Cluster 4\n",
      "verden,barn,regering,grøn,dansk,stor,dag,land,dkpol,Danmark\n",
      "\n",
      "Cluster 5\n",
      "politisk,tak,vigtig,parti,dag,regering,grøn,bred,dkpol,aftale\n",
      "\n",
      "Cluster 6\n",
      "kæmpe,arbejde,dag,vigtig,stor,indsats,samarbejde,dkpol,tusind,tak\n",
      "\n",
      "Cluster 7\n",
      "vigtig,barn,tak,svær,dag,regering,stor,lang,dkpol,tid\n",
      "\n",
      "Cluster 8\n",
      "gang,tid,vigtig,stor,forskellig,dag,regering,enig,dkpol,ting\n"
     ]
    }
   ],
   "source": [
    "#Inspicerer indhold i clusters model 1.\n",
    "def get_top_keywords(n_terms):\n",
    "    \"\"\"This function returns the keywords for each centroid of the KMeans\"\"\"\n",
    "    df = pd.DataFrame(transformed_documents1.todense()).groupby(identified_clusters1a).mean() # groups the TF-IDF vector by cluster\n",
    "    terms = vectorizer1.get_feature_names_out() # access tf-idf terms\n",
    "    for i,r in df.iterrows():\n",
    "        print('\\nCluster {}'.format(i))\n",
    "        print(','.join([terms[t] for t in np.argsort(r)[-n_terms:]])) # for each row of the dataframe, find the n terms that have the highest tf idf score\n",
    "            \n",
    "get_top_keywords(10)"
   ]
  },
  {
   "cell_type": "code",
   "execution_count": 49,
   "id": "3bdda2ae-6802-4e7c-aa1c-5e532aeafc83",
   "metadata": {
    "execution": {
     "iopub.execute_input": "2022-12-15T22:05:19.435121Z",
     "iopub.status.busy": "2022-12-15T22:05:19.434903Z",
     "iopub.status.idle": "2022-12-15T22:05:27.423942Z",
     "shell.execute_reply": "2022-12-15T22:05:27.423142Z",
     "shell.execute_reply.started": "2022-12-15T22:05:19.435103Z"
    },
    "tags": []
   },
   "outputs": [
    {
     "data": {
      "image/png": "[encoded data removed]",
      "text/plain": [
       "<Figure size 640x480 with 1 Axes>"
      ]
     },
     "metadata": {},
     "output_type": "display_data"
    },
    {
     "data": {
      "text/plain": [
       "<ggplot: (8788047013367)>"
      ]
     },
     "execution_count": 49,
     "metadata": {},
     "output_type": "execute_result"
    }
   ],
   "source": [
    "## Så visualiserer vi.\n",
    "\n",
    "(ggplot(data = tweet_merged, mapping = aes(x = 'pca1', y = 'pca2', shape = 'cluster_countvec1a', colour = 'party')) \n",
    " + geom_point())"
   ]
  },
  {
   "cell_type": "markdown",
   "id": "ed45dd58-cf76-4b50-8621-b5fd8335313f",
   "metadata": {},
   "source": [
    "## Model 2 med nye stopord "
   ]
  },
  {
   "cell_type": "code",
   "execution_count": 50,
   "id": "cfdc6d57-5d19-43ef-aa98-3bfdb85b802a",
   "metadata": {
    "execution": {
     "iopub.execute_input": "2022-12-15T22:06:01.634635Z",
     "iopub.status.busy": "2022-12-15T22:06:01.633938Z",
     "iopub.status.idle": "2022-12-15T22:06:01.647992Z",
     "shell.execute_reply": "2022-12-15T22:06:01.647191Z",
     "shell.execute_reply.started": "2022-12-15T22:06:01.634577Z"
    },
    "tags": []
   },
   "outputs": [],
   "source": [
    "def tokenizer(text): # defalt altid det, som skal skrives ved oprettelse af tokenizer\n",
    "    \n",
    "    custom_stops = [';-)', 'about', 'amp', 'can', 'fast', 'fordel', 'går', 'hej', 'ift', 'ift.', 'igang', 'kær', 'let', 'masse', 'nødt', 'øvrig', 'with', 'will', 'was', 'yes', 'what'] # Definerer kontekstspecifikke stopord\n",
    "    default_stopwords = list(nlp.Defaults.stop_words) # Indlæser prædefineret stopordsliste\n",
    "    stop_words = default_stopwords + custom_stops # Danner samlet stopordsliste\n",
    "    \n",
    "    pos_tags = ['PROPN', 'ADJ', 'NOUN'] # Definerer typer ord som skal bevares\n",
    "\n",
    "    doc = nlp(text) # nlp \n",
    "\n",
    "    tokens = []\n",
    "\n",
    "    for word in doc: # Looper igennem hvert ord i tweet\n",
    "        if (len(word.lemma_) < 3): # Ord må ikke være mindre end 3 karakterer - går videre til næste ord, hvis det er\n",
    "            continue\n",
    "        if (word.pos_ in pos_tags) and (word.lemma_ not in stop_words): # Tjek at ordets POS-tag indgår i listen af accepterede tags og at ordet ikke er stopord\n",
    "            tokens.append(word.lemma_) # Tilføj ordets lemma til tokens, hvis if-betingelse er opfyldt\n",
    "                \n",
    "    return(tokens)"
   ]
  },
  {
   "cell_type": "code",
   "execution_count": 51,
   "id": "d9d83567-9b7b-4e6c-bd6c-51e9a79387e8",
   "metadata": {
    "execution": {
     "iopub.execute_input": "2022-12-15T22:06:01.650275Z",
     "iopub.status.busy": "2022-12-15T22:06:01.649987Z",
     "iopub.status.idle": "2022-12-15T22:06:02.785631Z",
     "shell.execute_reply": "2022-12-15T22:06:02.784549Z",
     "shell.execute_reply.started": "2022-12-15T22:06:01.650249Z"
    },
    "tags": []
   },
   "outputs": [
    {
     "ename": "NameError",
     "evalue": "name 'tokens' is not defined",
     "output_type": "error",
     "traceback": [
      "\u001b[0;31m---------------------------------------------------------------------------\u001b[0m",
      "\u001b[0;31mNameError\u001b[0m                                 Traceback (most recent call last)",
      "Input \u001b[0;32mIn [51]\u001b[0m, in \u001b[0;36m<cell line: 3>\u001b[0;34m()\u001b[0m\n\u001b[1;32m      2\u001b[0m tokens2 \u001b[38;5;241m=\u001b[39m []\n\u001b[1;32m      3\u001b[0m \u001b[38;5;28;01mfor\u001b[39;00m text \u001b[38;5;129;01min\u001b[39;00m tweet_merged[\u001b[38;5;124m'\u001b[39m\u001b[38;5;124mfull_text_2\u001b[39m\u001b[38;5;124m'\u001b[39m]:\n\u001b[0;32m----> 4\u001b[0m     \u001b[43mtokens\u001b[49m\u001b[38;5;241m.\u001b[39mappend(tokenizer(text))\n",
      "\u001b[0;31mNameError\u001b[0m: name 'tokens' is not defined"
     ]
    }
   ],
   "source": [
    "# Vi kører tokenizeren på full_text_2\n",
    "tokens2 = []\n",
    "for text in tweet_merged['full_text_2']:\n",
    "    tokens2.append(tokenizer(text))"
   ]
  },
  {
   "cell_type": "code",
   "execution_count": null,
   "id": "57f42354-2fbf-4c3b-8949-749bc24887c2",
   "metadata": {
    "execution": {
     "iopub.status.busy": "2022-12-15T22:06:02.786236Z",
     "iopub.status.idle": "2022-12-15T22:06:02.786519Z",
     "shell.execute_reply": "2022-12-15T22:06:02.786384Z",
     "shell.execute_reply.started": "2022-12-15T22:06:02.786371Z"
    },
    "tags": []
   },
   "outputs": [],
   "source": [
    "tokens2[0:10]"
   ]
  },
  {
   "cell_type": "markdown",
   "id": "7c983e6c-265e-4585-af2e-9734abf3981b",
   "metadata": {},
   "source": [
    "## Vectorizer med vores nye tokenizer."
   ]
  },
  {
   "cell_type": "code",
   "execution_count": 52,
   "id": "033667b2-625a-4cec-9b07-fc1aa2ba7bf5",
   "metadata": {
    "execution": {
     "iopub.execute_input": "2022-12-15T22:06:21.169056Z",
     "iopub.status.busy": "2022-12-15T22:06:21.168161Z",
     "iopub.status.idle": "2022-12-15T22:37:03.399697Z",
     "shell.execute_reply": "2022-12-15T22:37:03.398703Z",
     "shell.execute_reply.started": "2022-12-15T22:06:21.168992Z"
    },
    "tags": []
   },
   "outputs": [
    {
     "name": "stderr",
     "output_type": "stream",
     "text": [
      "/opt/conda/lib/python3.9/site-packages/sklearn/feature_extraction/text.py:528: UserWarning: The parameter 'token_pattern' will not be used since 'tokenizer' is not None'\n"
     ]
    }
   ],
   "source": [
    "#vectorize\n",
    "vectorizer2 = TfidfVectorizer(min_df = 400, max_df = 0.25, tokenizer = tokenizer) # dan vectorizerfunktion - vi laver ikke om i funktionen\n",
    "#Tweets skal minimum fremgå i 300 dokumenter, men ikke mere end 30% af korpus\n",
    "transformed_documents2 = vectorizer2.fit_transform(tweet_merged['full_text_2']) # brug vectorizer på tekster\n",
    "\n",
    "transformed_documents_as_array2 = transformed_documents2.toarray()# Konverter fittet vectorizer til array\n",
    "# array-struktur"
   ]
  },
  {
   "cell_type": "code",
   "execution_count": 53,
   "id": "0bdf6f6f-efd8-4074-a715-85b77f09d476",
   "metadata": {
    "execution": {
     "iopub.execute_input": "2022-12-15T22:37:04.322197Z",
     "iopub.status.busy": "2022-12-15T22:37:04.321686Z",
     "iopub.status.idle": "2022-12-15T22:37:04.422048Z",
     "shell.execute_reply": "2022-12-15T22:37:04.421517Z",
     "shell.execute_reply.started": "2022-12-15T22:37:04.322152Z"
    },
    "tags": []
   },
   "outputs": [
    {
     "data": {
      "text/html": [
       "<div>\n",
       "<style scoped>\n",
       "    .dataframe tbody tr th:only-of-type {\n",
       "        vertical-align: middle;\n",
       "    }\n",
       "\n",
       "    .dataframe tbody tr th {\n",
       "        vertical-align: top;\n",
       "    }\n",
       "\n",
       "    .dataframe thead th {\n",
       "        text-align: right;\n",
       "    }\n",
       "</style>\n",
       "<table border=\"1\" class=\"dataframe\">\n",
       "  <thead>\n",
       "    <tr style=\"text-align: right;\">\n",
       "      <th></th>\n",
       "      <th>Danmark</th>\n",
       "      <th>Europa</th>\n",
       "      <th>København</th>\n",
       "      <th>Lars</th>\n",
       "      <th>Mette</th>\n",
       "      <th>Søren</th>\n",
       "      <th>aarhus</th>\n",
       "      <th>adgang</th>\n",
       "      <th>afgift</th>\n",
       "      <th>afgørende</th>\n",
       "      <th>...</th>\n",
       "      <th>værdi</th>\n",
       "      <th>weekend</th>\n",
       "      <th>world</th>\n",
       "      <th>åben</th>\n",
       "      <th>åbning</th>\n",
       "      <th>årsag</th>\n",
       "      <th>øje</th>\n",
       "      <th>økonomi</th>\n",
       "      <th>økonomisk</th>\n",
       "      <th>ønske</th>\n",
       "    </tr>\n",
       "  </thead>\n",
       "  <tbody>\n",
       "    <tr>\n",
       "      <th>0</th>\n",
       "      <td>0.550569</td>\n",
       "      <td>0.0</td>\n",
       "      <td>0.0</td>\n",
       "      <td>0.0</td>\n",
       "      <td>0.0</td>\n",
       "      <td>0.0</td>\n",
       "      <td>0.0</td>\n",
       "      <td>0.0</td>\n",
       "      <td>0.0</td>\n",
       "      <td>0.0</td>\n",
       "      <td>...</td>\n",
       "      <td>0.0</td>\n",
       "      <td>0.0</td>\n",
       "      <td>0.0</td>\n",
       "      <td>0.0</td>\n",
       "      <td>0.0</td>\n",
       "      <td>0.0</td>\n",
       "      <td>0.0</td>\n",
       "      <td>0.0</td>\n",
       "      <td>0.0</td>\n",
       "      <td>0.0</td>\n",
       "    </tr>\n",
       "    <tr>\n",
       "      <th>1</th>\n",
       "      <td>0.000000</td>\n",
       "      <td>0.0</td>\n",
       "      <td>0.0</td>\n",
       "      <td>0.0</td>\n",
       "      <td>0.0</td>\n",
       "      <td>0.0</td>\n",
       "      <td>0.0</td>\n",
       "      <td>0.0</td>\n",
       "      <td>0.0</td>\n",
       "      <td>0.0</td>\n",
       "      <td>...</td>\n",
       "      <td>0.0</td>\n",
       "      <td>0.0</td>\n",
       "      <td>0.0</td>\n",
       "      <td>0.0</td>\n",
       "      <td>0.0</td>\n",
       "      <td>0.0</td>\n",
       "      <td>0.0</td>\n",
       "      <td>0.0</td>\n",
       "      <td>0.0</td>\n",
       "      <td>0.0</td>\n",
       "    </tr>\n",
       "    <tr>\n",
       "      <th>2</th>\n",
       "      <td>0.000000</td>\n",
       "      <td>0.0</td>\n",
       "      <td>0.0</td>\n",
       "      <td>0.0</td>\n",
       "      <td>0.0</td>\n",
       "      <td>0.0</td>\n",
       "      <td>0.0</td>\n",
       "      <td>0.0</td>\n",
       "      <td>0.0</td>\n",
       "      <td>0.0</td>\n",
       "      <td>...</td>\n",
       "      <td>0.0</td>\n",
       "      <td>0.0</td>\n",
       "      <td>0.0</td>\n",
       "      <td>0.0</td>\n",
       "      <td>0.0</td>\n",
       "      <td>0.0</td>\n",
       "      <td>0.0</td>\n",
       "      <td>0.0</td>\n",
       "      <td>0.0</td>\n",
       "      <td>0.0</td>\n",
       "    </tr>\n",
       "    <tr>\n",
       "      <th>3</th>\n",
       "      <td>0.000000</td>\n",
       "      <td>0.0</td>\n",
       "      <td>0.0</td>\n",
       "      <td>0.0</td>\n",
       "      <td>0.0</td>\n",
       "      <td>0.0</td>\n",
       "      <td>0.0</td>\n",
       "      <td>0.0</td>\n",
       "      <td>0.0</td>\n",
       "      <td>0.0</td>\n",
       "      <td>...</td>\n",
       "      <td>0.0</td>\n",
       "      <td>0.0</td>\n",
       "      <td>0.0</td>\n",
       "      <td>0.0</td>\n",
       "      <td>0.0</td>\n",
       "      <td>0.0</td>\n",
       "      <td>0.0</td>\n",
       "      <td>0.0</td>\n",
       "      <td>0.0</td>\n",
       "      <td>0.0</td>\n",
       "    </tr>\n",
       "    <tr>\n",
       "      <th>4</th>\n",
       "      <td>0.000000</td>\n",
       "      <td>0.0</td>\n",
       "      <td>0.0</td>\n",
       "      <td>0.0</td>\n",
       "      <td>0.0</td>\n",
       "      <td>0.0</td>\n",
       "      <td>0.0</td>\n",
       "      <td>0.0</td>\n",
       "      <td>0.0</td>\n",
       "      <td>0.0</td>\n",
       "      <td>...</td>\n",
       "      <td>0.0</td>\n",
       "      <td>0.0</td>\n",
       "      <td>0.0</td>\n",
       "      <td>0.0</td>\n",
       "      <td>0.0</td>\n",
       "      <td>0.0</td>\n",
       "      <td>0.0</td>\n",
       "      <td>0.0</td>\n",
       "      <td>0.0</td>\n",
       "      <td>0.0</td>\n",
       "    </tr>\n",
       "    <tr>\n",
       "      <th>...</th>\n",
       "      <td>...</td>\n",
       "      <td>...</td>\n",
       "      <td>...</td>\n",
       "      <td>...</td>\n",
       "      <td>...</td>\n",
       "      <td>...</td>\n",
       "      <td>...</td>\n",
       "      <td>...</td>\n",
       "      <td>...</td>\n",
       "      <td>...</td>\n",
       "      <td>...</td>\n",
       "      <td>...</td>\n",
       "      <td>...</td>\n",
       "      <td>...</td>\n",
       "      <td>...</td>\n",
       "      <td>...</td>\n",
       "      <td>...</td>\n",
       "      <td>...</td>\n",
       "      <td>...</td>\n",
       "      <td>...</td>\n",
       "      <td>...</td>\n",
       "    </tr>\n",
       "    <tr>\n",
       "      <th>238487</th>\n",
       "      <td>0.000000</td>\n",
       "      <td>0.0</td>\n",
       "      <td>0.0</td>\n",
       "      <td>0.0</td>\n",
       "      <td>0.0</td>\n",
       "      <td>0.0</td>\n",
       "      <td>0.0</td>\n",
       "      <td>0.0</td>\n",
       "      <td>0.0</td>\n",
       "      <td>0.0</td>\n",
       "      <td>...</td>\n",
       "      <td>0.0</td>\n",
       "      <td>0.0</td>\n",
       "      <td>0.0</td>\n",
       "      <td>0.0</td>\n",
       "      <td>0.0</td>\n",
       "      <td>0.0</td>\n",
       "      <td>0.0</td>\n",
       "      <td>0.0</td>\n",
       "      <td>0.0</td>\n",
       "      <td>0.0</td>\n",
       "    </tr>\n",
       "    <tr>\n",
       "      <th>238488</th>\n",
       "      <td>0.673733</td>\n",
       "      <td>0.0</td>\n",
       "      <td>0.0</td>\n",
       "      <td>0.0</td>\n",
       "      <td>0.0</td>\n",
       "      <td>0.0</td>\n",
       "      <td>0.0</td>\n",
       "      <td>0.0</td>\n",
       "      <td>0.0</td>\n",
       "      <td>0.0</td>\n",
       "      <td>...</td>\n",
       "      <td>0.0</td>\n",
       "      <td>0.0</td>\n",
       "      <td>0.0</td>\n",
       "      <td>0.0</td>\n",
       "      <td>0.0</td>\n",
       "      <td>0.0</td>\n",
       "      <td>0.0</td>\n",
       "      <td>0.0</td>\n",
       "      <td>0.0</td>\n",
       "      <td>0.0</td>\n",
       "    </tr>\n",
       "    <tr>\n",
       "      <th>238489</th>\n",
       "      <td>0.000000</td>\n",
       "      <td>0.0</td>\n",
       "      <td>0.0</td>\n",
       "      <td>0.0</td>\n",
       "      <td>0.0</td>\n",
       "      <td>0.0</td>\n",
       "      <td>0.0</td>\n",
       "      <td>0.0</td>\n",
       "      <td>0.0</td>\n",
       "      <td>0.0</td>\n",
       "      <td>...</td>\n",
       "      <td>0.0</td>\n",
       "      <td>0.0</td>\n",
       "      <td>0.0</td>\n",
       "      <td>0.0</td>\n",
       "      <td>0.0</td>\n",
       "      <td>0.0</td>\n",
       "      <td>0.0</td>\n",
       "      <td>0.0</td>\n",
       "      <td>0.0</td>\n",
       "      <td>0.0</td>\n",
       "    </tr>\n",
       "    <tr>\n",
       "      <th>238490</th>\n",
       "      <td>0.000000</td>\n",
       "      <td>0.0</td>\n",
       "      <td>0.0</td>\n",
       "      <td>0.0</td>\n",
       "      <td>0.0</td>\n",
       "      <td>0.0</td>\n",
       "      <td>0.0</td>\n",
       "      <td>0.0</td>\n",
       "      <td>0.0</td>\n",
       "      <td>0.0</td>\n",
       "      <td>...</td>\n",
       "      <td>0.0</td>\n",
       "      <td>0.0</td>\n",
       "      <td>0.0</td>\n",
       "      <td>0.0</td>\n",
       "      <td>0.0</td>\n",
       "      <td>0.0</td>\n",
       "      <td>0.0</td>\n",
       "      <td>0.0</td>\n",
       "      <td>0.0</td>\n",
       "      <td>0.0</td>\n",
       "    </tr>\n",
       "    <tr>\n",
       "      <th>238491</th>\n",
       "      <td>0.000000</td>\n",
       "      <td>0.0</td>\n",
       "      <td>0.0</td>\n",
       "      <td>0.0</td>\n",
       "      <td>0.0</td>\n",
       "      <td>0.0</td>\n",
       "      <td>0.0</td>\n",
       "      <td>0.0</td>\n",
       "      <td>0.0</td>\n",
       "      <td>0.0</td>\n",
       "      <td>...</td>\n",
       "      <td>0.0</td>\n",
       "      <td>0.0</td>\n",
       "      <td>0.0</td>\n",
       "      <td>0.0</td>\n",
       "      <td>0.0</td>\n",
       "      <td>0.0</td>\n",
       "      <td>0.0</td>\n",
       "      <td>0.0</td>\n",
       "      <td>0.0</td>\n",
       "      <td>0.0</td>\n",
       "    </tr>\n",
       "  </tbody>\n",
       "</table>\n",
       "<p>238492 rows × 519 columns</p>\n",
       "</div>"
      ],
      "text/plain": [
       "         Danmark  Europa  København  Lars  Mette  Søren  aarhus  adgang  \\\n",
       "0       0.550569     0.0        0.0   0.0    0.0    0.0     0.0     0.0   \n",
       "1       0.000000     0.0        0.0   0.0    0.0    0.0     0.0     0.0   \n",
       "2       0.000000     0.0        0.0   0.0    0.0    0.0     0.0     0.0   \n",
       "3       0.000000     0.0        0.0   0.0    0.0    0.0     0.0     0.0   \n",
       "4       0.000000     0.0        0.0   0.0    0.0    0.0     0.0     0.0   \n",
       "...          ...     ...        ...   ...    ...    ...     ...     ...   \n",
       "238487  0.000000     0.0        0.0   0.0    0.0    0.0     0.0     0.0   \n",
       "238488  0.673733     0.0        0.0   0.0    0.0    0.0     0.0     0.0   \n",
       "238489  0.000000     0.0        0.0   0.0    0.0    0.0     0.0     0.0   \n",
       "238490  0.000000     0.0        0.0   0.0    0.0    0.0     0.0     0.0   \n",
       "238491  0.000000     0.0        0.0   0.0    0.0    0.0     0.0     0.0   \n",
       "\n",
       "        afgift  afgørende  ...  værdi  weekend  world  åben  åbning  årsag  \\\n",
       "0          0.0        0.0  ...    0.0      0.0    0.0   0.0     0.0    0.0   \n",
       "1          0.0        0.0  ...    0.0      0.0    0.0   0.0     0.0    0.0   \n",
       "2          0.0        0.0  ...    0.0      0.0    0.0   0.0     0.0    0.0   \n",
       "3          0.0        0.0  ...    0.0      0.0    0.0   0.0     0.0    0.0   \n",
       "4          0.0        0.0  ...    0.0      0.0    0.0   0.0     0.0    0.0   \n",
       "...        ...        ...  ...    ...      ...    ...   ...     ...    ...   \n",
       "238487     0.0        0.0  ...    0.0      0.0    0.0   0.0     0.0    0.0   \n",
       "238488     0.0        0.0  ...    0.0      0.0    0.0   0.0     0.0    0.0   \n",
       "238489     0.0        0.0  ...    0.0      0.0    0.0   0.0     0.0    0.0   \n",
       "238490     0.0        0.0  ...    0.0      0.0    0.0   0.0     0.0    0.0   \n",
       "238491     0.0        0.0  ...    0.0      0.0    0.0   0.0     0.0    0.0   \n",
       "\n",
       "        øje  økonomi  økonomisk  ønske  \n",
       "0       0.0      0.0        0.0    0.0  \n",
       "1       0.0      0.0        0.0    0.0  \n",
       "2       0.0      0.0        0.0    0.0  \n",
       "3       0.0      0.0        0.0    0.0  \n",
       "4       0.0      0.0        0.0    0.0  \n",
       "...     ...      ...        ...    ...  \n",
       "238487  0.0      0.0        0.0    0.0  \n",
       "238488  0.0      0.0        0.0    0.0  \n",
       "238489  0.0      0.0        0.0    0.0  \n",
       "238490  0.0      0.0        0.0    0.0  \n",
       "238491  0.0      0.0        0.0    0.0  \n",
       "\n",
       "[238492 rows x 519 columns]"
      ]
     },
     "execution_count": 53,
     "metadata": {},
     "output_type": "execute_result"
    }
   ],
   "source": [
    "tokens_df2 = pd.DataFrame(transformed_documents_as_array2, columns = vectorizer2.get_feature_names_out()) # Konverter til data frame\n",
    "# Før get_feature_names_out har variablene ikke nogen meningsfulde variabelnavne. \n",
    "# Variabel navne laves herved tilsvarende til det pågældende ord i et dataframe-format. \n",
    "\n",
    "tokens_df2"
   ]
  },
  {
   "cell_type": "code",
   "execution_count": 54,
   "id": "a6c3e88a-cc2b-4cf4-960b-0841e3cbc6d9",
   "metadata": {
    "execution": {
     "iopub.execute_input": "2022-12-15T22:37:04.424010Z",
     "iopub.status.busy": "2022-12-15T22:37:04.423661Z",
     "iopub.status.idle": "2022-12-15T22:37:04.531146Z",
     "shell.execute_reply": "2022-12-15T22:37:04.529700Z",
     "shell.execute_reply.started": "2022-12-15T22:37:04.423989Z"
    },
    "tags": []
   },
   "outputs": [
    {
     "name": "stdout",
     "output_type": "stream",
     "text": [
      "['Danmark', 'Europa', 'København', 'Lars', 'Mette', 'Søren', 'aarhus', 'adgang', 'afgift', 'afgørende', 'afstand', 'aftale', 'aften', 'almindelig', 'alvor', 'alvorlig', 'ambition', 'ambitiøs', 'analyse', 'anbefaling', 'anderledes', 'angreb', 'ansvar', 'ansvarlig', 'antal', 'arbejde', 'arbejdsmarked', 'arbejdsplads', 'argument', 'artikel', 'avis', 'baggrund', 'bane', 'bank', 'barn', 'barsel', 'befolkning', 'behandling', 'behov', 'bekendt', 'beslutning', 'besparelse', 'besøg', 'betydning', 'bil', 'billede', 'billig', 'biodiversitet', 'blok', 'blå', 'bog', 'bolig', 'bord', 'borg', 'borger', 'borgerlig', 'borgmester', 'bred', 'brug', 'bud', 'budskab', 'bæredygtig', 'chance', 'christiansborg', 'co2', 'corona', 'coronakrise', 'covid19', 'covid19dk', 'dag', 'danmark', 'dansk', 'dansker', 'debat', 'debatt', 'dejlig', 'del', 'demokrati', 'demokratisk', 'denmark', 'dialog', 'diskussion', 'dkaid', 'dkbiz', 'dkgre', 'dkmedi', 'dkmedie', 'dkpol', 'dktrp', 'dygtig', 'dyr', 'dårlig', 'død', 'effekt', 'eksempel', 'ekspert', 'ekstra', 'elev', 'emne', 'energi', 'enhedslist', 'enig', 'enkelt', 'erfaring', 'erhverv', 'erhvervsliv', 'eudk', 'europæisk', 'faglig', 'fair', 'fakta', 'fald', 'familie', 'fantastisk', 'far', 'farlig', 'fattig', 'fejl', 'fin', 'finansiering', 'finanslov', 'flertal', 'flot', 'flygtning', 'fokus', 'folk', 'folkeskole', 'folketing', 'folketingssal', 'forbud', 'forhandling', 'forhold', 'forkert', 'forklaring', 'form', 'formand', 'fornuftig', 'fornøjelse', 'forskel', 'forskellig', 'forsker', 'forskning', 'forslag', 'forsvar', 'forsøg', 'forælder', 'fred', 'fredag', 'frederikse', 'fremragende', 'fremtid', 'fri', 'frihed', 'from', 'ftliv', 'fuld', 'fælles', 'fællesskab', 'første', 'gammel', 'gang', 'gas', 'gavn', 'generation', 'gengæld', 'genåbning', 'glad', 'global', 'godt', 'grad', 'gram', 'grund', 'grundlag', 'gruppe', 'grænse', 'grøn', 'halv', 'handicap', 'handling', 'hensyn', 'historie', 'historisk', 'hjælp', 'hjælpepakke', 'hold', 'holdning', 'hong', 'hoved', 'hurtig', 'hus', 'husk', 'hverdag', 'håb', 'hånd', 'hård', 'høj', 'idag', 'ide', 'idé', 'indhold', 'indlæg', 'indsats', 'initiativ', 'interessant', 'interesse', 'international', 'interview', 'investering', 'job', 'jord', 'journalist', 'jul', 'kamp', 'kina', 'klar', 'klima', 'klimakrise', 'klog', 'klokke', 'kollega', 'kommentar', 'kommission', 'kommun', 'kommune', 'kong', 'konkret', 'konsekvens', 'konservativ', 'kontrol', 'kort', 'kraft', 'krav', 'krig', 'krise', 'kritik', 'kritisk', 'krone', 'kultur', 'kvalitet', 'kvinde', 'kæmpe', 'land', 'landbrug', 'lang', 'leder', 'ligestilling', 'liste', 'liv', 'lokal', 'lov', 'lovforslag', 'lovgivning', 'lys', 'læge', 'lærer', 'løft', 'løfte', 'løn', 'løsning', 'magt', 'mand', 'mandag', 'mandat', 'mangel', 'markant', 'medarbejder', 'medie', 'medlem', 'melding', 'mening', 'menneske', 'mette', 'middel', 'miljø', 'milliard', 'million', 'minist', 'minister', 'mink', 'mio', 'model', 'modsat', 'mor', 'morgen', 'mulig', 'mulighed', 'myndighed', 'måde', 'mål', 'måned', 'møde', 'national', 'nato', 'natur', 'navn', 'nedlukning', 'negativ', 'nej', 'news', 'niveau', 'nuværende', 'nyhed', 'nødvendig', 'offentlig', 'område', 'omstilling', 'opbakning', 'opgave', 'oplevelse', 'oplysning', 'opslag', 'ord', 'orden', 'ordentlig', 'organisation', 'par', 'part', 'parti', 'patient', 'penge', 'pension', 'person', 'plads', 'plan', 'point', 'pointe', 'politi', 'politik', 'politiker', 'politisk', 'positiv', 'pres', 'presse', 'pressemøde', 'pris', 'privat', 'problem', 'procent', 'produktion', 'projekt', 'psykiatri', 'putin', 'pædagog', 'racisme', 'radikal', 'ramme', 'rapport', 'reel', 'regel', 'regering', 'region', 'regning', 'relevant', 'ren', 'respekt', 'rest', 'restriktion', 'resultat', 'ret', 'retning', 'rettighed', 'rig', 'rigtig', 'risiko', 'rolle', 'ros', 'rusland', 'russisk', 'råd', 'række', 'rød', 'sag', 'sal', 'samarbejde', 'samfund', 'samråd', 'samtale', 'sej', 'sejr', 'sektor', 'selvstændig', 'sen', 'side', 'sidste', 'sikker', 'sikkerhed', 'situation', 'sjov', 'skat', 'skatt', 'skattelettelse', 'skole', 'skridt', 'skyld', 'slags', 'slem', 'slut', 'smitt', 'snak', 'social', 'socialdemokrat', 'socialdemokrati', 'socialdemokratisk', 'sommer', 'sort', 'spil', 'spændende', 'spørgsmål', 'start', 'stat', 'statsborgerskab', 'statsminister', 'sted', 'stemme', 'stilling', 'stolt', 'stop', 'stor', 'strategi', 'studerende', 'styr', 'stærk', 'støjberg', 'støtte', 'støtteparti', 'sund', 'sundhed', 'svar', 'svær', 'syg', 'sygdom', 'sygeplejerske', 'synspunkt', 'system', 'sårbar', 'særlig', 'søndag', 'tak', 'tal', 'tale', 'tanke', 'that', 'the', 'this', 'tid', 'tide', 'tidlig', 'tidspunkt', 'tilfælde', 'tillid', 'tillykke', 'tiltag', 'time', 'ting', 'trist', 'trivsel', 'trump', 'tryghed', 'tråd', 'tur', 'tusind', 'tvivl', 'tweet', 'twitt', 'tænk', 'uddannelse', 'uddpol', 'udfordring', 'udgift', 'udlændingepolitik', 'udsat', 'udspil', 'udvikling', 'uenig', 'uge', 'ukraine', 'ulighed', 'ulovlig', 'undersøgelse', 'ung', 'urimelig', 'usa', 'vaccine', 'valg', 'valgkamp', 'vanvittig', 'vej', 'velfærd', 'velkommen', 'ven', 'venstre', 'venstrefløj', 'verden', 'viden', 'video', 'vigtig', 'vild', 'vildt', 'vilkår', 'virkelighed', 'virksomhed', 'vis', 'voksen', 'vold', 'voldsom', 'vurdering', 'vækst', 'vælger', 'værd', 'værdi', 'weekend', 'world', 'åben', 'åbning', 'årsag', 'øje', 'økonomi', 'økonomisk', 'ønske']\n"
     ]
    }
   ],
   "source": [
    "print(tokens_df2.columns.tolist())"
   ]
  },
  {
   "cell_type": "code",
   "execution_count": 55,
   "id": "ff3dedc7-b588-4478-b3d8-f86077259df1",
   "metadata": {
    "execution": {
     "iopub.execute_input": "2022-12-15T22:37:04.534090Z",
     "iopub.status.busy": "2022-12-15T22:37:04.533112Z",
     "iopub.status.idle": "2022-12-15T22:37:04.641629Z",
     "shell.execute_reply": "2022-12-15T22:37:04.640285Z",
     "shell.execute_reply.started": "2022-12-15T22:37:04.534034Z"
    }
   },
   "outputs": [],
   "source": [
    "#Cluteranalyse"
   ]
  },
  {
   "cell_type": "code",
   "execution_count": 56,
   "id": "7f410862-8cef-4d35-8381-69408b5868a6",
   "metadata": {
    "execution": {
     "iopub.execute_input": "2022-12-15T22:37:04.644668Z",
     "iopub.status.busy": "2022-12-15T22:37:04.644065Z",
     "iopub.status.idle": "2022-12-15T22:37:04.752952Z",
     "shell.execute_reply": "2022-12-15T22:37:04.751649Z",
     "shell.execute_reply.started": "2022-12-15T22:37:04.644614Z"
    },
    "tags": []
   },
   "outputs": [],
   "source": [
    "# Justeret til 7 clusters, baseret på den forige albuetest.\n",
    "kmeans2 = KMeans(7, random_state = 666)"
   ]
  },
  {
   "cell_type": "code",
   "execution_count": 57,
   "id": "a280e586-7a01-4e08-8012-13540287a8bd",
   "metadata": {
    "execution": {
     "iopub.execute_input": "2022-12-15T22:37:04.756119Z",
     "iopub.status.busy": "2022-12-15T22:37:04.755370Z",
     "iopub.status.idle": "2022-12-15T22:37:38.581648Z",
     "shell.execute_reply": "2022-12-15T22:37:38.580384Z",
     "shell.execute_reply.started": "2022-12-15T22:37:04.756063Z"
    },
    "tags": []
   },
   "outputs": [
    {
     "name": "stderr",
     "output_type": "stream",
     "text": [
      "/opt/conda/lib/python3.9/site-packages/sklearn/cluster/_kmeans.py:870: FutureWarning: The default value of `n_init` will change from 10 to 'auto' in 1.4. Set the value of `n_init` explicitly to suppress the warning\n"
     ]
    },
    {
     "data": {
      "text/plain": [
       "array([3, 3, 3, ..., 3, 3, 3], dtype=int32)"
      ]
     },
     "execution_count": 57,
     "metadata": {},
     "output_type": "execute_result"
    }
   ],
   "source": [
    "identified_clusters2 = kmeans2.fit_predict(tokens_df2)\n",
    "identified_clusters2"
   ]
  },
  {
   "cell_type": "code",
   "execution_count": 58,
   "id": "7fbeccc4-684e-4093-8248-aaf783c84c42",
   "metadata": {
    "execution": {
     "iopub.execute_input": "2022-12-15T22:37:38.583902Z",
     "iopub.status.busy": "2022-12-15T22:37:38.583356Z",
     "iopub.status.idle": "2022-12-15T22:37:38.657409Z",
     "shell.execute_reply": "2022-12-15T22:37:38.656595Z",
     "shell.execute_reply.started": "2022-12-15T22:37:38.583867Z"
    },
    "tags": []
   },
   "outputs": [],
   "source": [
    "tweet_merged['cluster_countvec2'] = identified_clusters2\n",
    "tweet_merged['cluster_countvec2'] = tweet_merged['cluster_countvec2'].astype('str') # omdannes til string for at gøre den kategorisk"
   ]
  },
  {
   "cell_type": "code",
   "execution_count": 59,
   "id": "1035d769-2056-483b-a1cf-974b0f085ca3",
   "metadata": {
    "execution": {
     "iopub.execute_input": "2022-12-15T22:37:38.658797Z",
     "iopub.status.busy": "2022-12-15T22:37:38.658467Z",
     "iopub.status.idle": "2022-12-15T22:37:38.795249Z",
     "shell.execute_reply": "2022-12-15T22:37:38.794471Z",
     "shell.execute_reply.started": "2022-12-15T22:37:38.658773Z"
    },
    "tags": []
   },
   "outputs": [
    {
     "data": {
      "text/plain": [
       "party  cluster_countvec2\n",
       "alt    0                    0.011701\n",
       "       1                    0.015945\n",
       "       2                    0.021967\n",
       "       3                    0.798107\n",
       "       4                    0.010783\n",
       "                              ...   \n",
       "v      2                    0.030857\n",
       "       3                    0.693687\n",
       "       4                    0.010835\n",
       "       5                    0.000909\n",
       "       6                    0.222727\n",
       "Length: 97, dtype: float64"
      ]
     },
     "execution_count": 59,
     "metadata": {},
     "output_type": "execute_result"
    }
   ],
   "source": [
    "tweet_merged.groupby(['party', 'cluster_countvec2']).size() / tweet_merged.groupby(['party']).size()"
   ]
  },
  {
   "cell_type": "code",
   "execution_count": 60,
   "id": "266f6db4-25e3-4a34-8947-a4e27a41e98a",
   "metadata": {
    "execution": {
     "iopub.execute_input": "2022-12-15T22:37:38.799058Z",
     "iopub.status.busy": "2022-12-15T22:37:38.798682Z",
     "iopub.status.idle": "2022-12-15T22:37:40.335298Z",
     "shell.execute_reply": "2022-12-15T22:37:40.334604Z",
     "shell.execute_reply.started": "2022-12-15T22:37:38.799036Z"
    },
    "tags": []
   },
   "outputs": [
    {
     "data": {
      "image/png": "[encoded data removed]",
      "text/plain": [
       "<Figure size 640x480 with 1 Axes>"
      ]
     },
     "metadata": {},
     "output_type": "display_data"
    },
    {
     "data": {
      "text/plain": [
       "<ggplot: (8788047085258)>"
      ]
     },
     "execution_count": 60,
     "metadata": {},
     "output_type": "execute_result"
    }
   ],
   "source": [
    "\n",
    "(ggplot(data = tweet_merged, mapping = aes(x = 'party', group = 'cluster_countvec2', fill = 'cluster_countvec2')) \n",
    " + geom_bar(position = 'fill'))"
   ]
  },
  {
   "cell_type": "code",
   "execution_count": 61,
   "id": "a85a1f60-fdcc-44b6-9c09-7f8dd9ad3e18",
   "metadata": {
    "execution": {
     "iopub.execute_input": "2022-12-15T22:37:40.336359Z",
     "iopub.status.busy": "2022-12-15T22:37:40.336155Z",
     "iopub.status.idle": "2022-12-15T22:37:40.362257Z",
     "shell.execute_reply": "2022-12-15T22:37:40.361434Z",
     "shell.execute_reply.started": "2022-12-15T22:37:40.336341Z"
    },
    "tags": []
   },
   "outputs": [
    {
     "data": {
      "text/plain": [
       "cluster_countvec2\n",
       "0      3615\n",
       "1      5953\n",
       "2      9412\n",
       "3    172800\n",
       "4      2678\n",
       "5      1333\n",
       "6     42701\n",
       "Name: party, dtype: int64"
      ]
     },
     "execution_count": 61,
     "metadata": {},
     "output_type": "execute_result"
    }
   ],
   "source": [
    "tweet_merged.groupby(['cluster_countvec2'])['party'].count()"
   ]
  },
  {
   "cell_type": "code",
   "execution_count": 62,
   "id": "a8dcf9bb-9446-4e57-bcb8-7db54edafbe0",
   "metadata": {
    "execution": {
     "iopub.execute_input": "2022-12-15T22:37:40.363433Z",
     "iopub.status.busy": "2022-12-15T22:37:40.363190Z",
     "iopub.status.idle": "2022-12-15T22:38:09.413796Z",
     "shell.execute_reply": "2022-12-15T22:38:09.412460Z",
     "shell.execute_reply.started": "2022-12-15T22:37:40.363400Z"
    },
    "tags": []
   },
   "outputs": [],
   "source": [
    "## PCA på vores model\n",
    "from sklearn.decomposition import PCA\n",
    "\n",
    "pca = PCA(n_components=2, random_state= 666)\n",
    "\n",
    "pca_vecs = pca.fit_transform(tokens_df2)\n",
    "\n",
    "pca1 = pca_vecs[:, 0]\n",
    "pca2 = pca_vecs[:, 1]\n",
    "\n",
    "tweet_merged['pca1'] = pca1\n",
    "tweet_merged['pca2'] = pca2"
   ]
  },
  {
   "cell_type": "code",
   "execution_count": 63,
   "id": "5d94fa42-1780-4386-8e30-7e3e2881c14e",
   "metadata": {
    "execution": {
     "iopub.execute_input": "2022-12-15T22:38:09.415588Z",
     "iopub.status.busy": "2022-12-15T22:38:09.415305Z",
     "iopub.status.idle": "2022-12-15T22:38:09.845143Z",
     "shell.execute_reply": "2022-12-15T22:38:09.844371Z",
     "shell.execute_reply.started": "2022-12-15T22:38:09.415564Z"
    },
    "tags": []
   },
   "outputs": [
    {
     "name": "stdout",
     "output_type": "stream",
     "text": [
      "\n",
      "Cluster 0\n",
      "tid,stor,verden,land,penge,Danmark,dag,regering,dkpol,sted\n",
      "\n",
      "Cluster 1\n",
      "parti,gang,brug,stor,dag,vigtig,tak,regering,dkpol,enig\n",
      "\n",
      "Cluster 2\n",
      "ord,arbejde,dag,vigtig,indsats,stor,samarbejde,dkpol,tusind,tak\n",
      "\n",
      "Cluster 3\n",
      "grøn,aftale,gang,barn,vigtig,dansk,Danmark,stor,regering,dag\n",
      "\n",
      "Cluster 4\n",
      "respekt,problem,sejr,dag,indsats,stor,dkpol,tak,tillykke,kæmpe\n",
      "\n",
      "Cluster 5\n",
      "hong,the,dkpol,mor,world,time,denmark,that,from,this\n",
      "\n",
      "Cluster 6\n",
      "vigtig,grøn,dkmedi,dansk,stor,Danmark,dag,dkgre,regering,dkpol\n"
     ]
    }
   ],
   "source": [
    "# Oversigt over indhold i hver cluster og dens tokens\n",
    "def get_top_keywords(n_terms):\n",
    "    \"\"\"This function returns the keywords for each centroid of the KMeans\"\"\"\n",
    "    df = pd.DataFrame(transformed_documents2.todense()).groupby(identified_clusters2).mean() # groups the TF-IDF vector by cluster\n",
    "    terms = vectorizer2.get_feature_names_out() # access tf-idf terms\n",
    "    for i,r in df.iterrows():\n",
    "        print('\\nCluster {}'.format(i))\n",
    "        print(','.join([terms[t] for t in np.argsort(r)[-n_terms:]])) # for each row of the dataframe, find the n terms that have the highest tf idf score\n",
    "            \n",
    "get_top_keywords(10) #Vi vælger selv, hvor mange ord fra clusteren vi gerne vil se"
   ]
  },
  {
   "cell_type": "code",
   "execution_count": 64,
   "id": "b2337ff0-3fbc-486b-a8ca-1daffbbd2d4f",
   "metadata": {
    "execution": {
     "iopub.execute_input": "2022-12-15T22:38:09.846230Z",
     "iopub.status.busy": "2022-12-15T22:38:09.846019Z",
     "iopub.status.idle": "2022-12-15T22:38:16.859632Z",
     "shell.execute_reply": "2022-12-15T22:38:16.858713Z",
     "shell.execute_reply.started": "2022-12-15T22:38:09.846211Z"
    },
    "tags": []
   },
   "outputs": [
    {
     "data": {
      "image/png": "[encoded data removed]",
      "text/plain": [
       "<Figure size 640x480 with 1 Axes>"
      ]
     },
     "metadata": {},
     "output_type": "display_data"
    },
    {
     "data": {
      "text/plain": [
       "<ggplot: (8788048151047)>"
      ]
     },
     "execution_count": 64,
     "metadata": {},
     "output_type": "execute_result"
    }
   ],
   "source": [
    "# Plot over PCA modellen\n",
    "(ggplot(data = tweet_merged, mapping = aes(x = 'pca1', y = 'pca2', shape = 'cluster_countvec2', colour = 'party')) \n",
    " + geom_point())"
   ]
  },
  {
   "cell_type": "markdown",
   "id": "796b5d55-60b4-4963-98c2-3e1627c615e3",
   "metadata": {},
   "source": [
    "### Model 3: Uni- og bigramsmodel"
   ]
  },
  {
   "cell_type": "code",
   "execution_count": 59,
   "id": "2ee09b6a-aaf8-4a09-a316-4a6aba5a92f7",
   "metadata": {
    "execution": {
     "iopub.execute_input": "2022-12-15T13:03:11.484052Z",
     "iopub.status.busy": "2022-12-15T13:03:11.483338Z",
     "iopub.status.idle": "2022-12-15T13:29:12.644612Z",
     "shell.execute_reply": "2022-12-15T13:29:12.643408Z",
     "shell.execute_reply.started": "2022-12-15T13:03:11.483992Z"
    },
    "tags": []
   },
   "outputs": [
    {
     "name": "stderr",
     "output_type": "stream",
     "text": [
      "/opt/conda/lib/python3.9/site-packages/sklearn/feature_extraction/text.py:528: UserWarning: The parameter 'token_pattern' will not be used since 'tokenizer' is not None'\n"
     ]
    }
   ],
   "source": [
    "#vectorize\n",
    "vectorizer3 = TfidfVectorizer(min_df = 300, max_df = 0.3, tokenizer = tokenizer1, ngram_range =(1,2)) # dan vectorizerfunktion - vi laver ikke om i funktionen\n",
    "transformed_documents3 = vectorizer3.fit_transform(tweet_merged['full_text_2']) # brug vectorizer på tekster\n",
    "\n",
    "transformed_documents_as_array3 = transformed_documents3.toarray()# Konverter fittet vectorizer til array\n",
    "# array-struktur"
   ]
  },
  {
   "cell_type": "code",
   "execution_count": 60,
   "id": "6b00ad5e-69cd-44d4-b5f6-f79f3e7591f3",
   "metadata": {
    "execution": {
     "iopub.execute_input": "2022-12-15T13:29:13.464922Z",
     "iopub.status.busy": "2022-12-15T13:29:13.464705Z",
     "iopub.status.idle": "2022-12-15T13:29:13.553000Z",
     "shell.execute_reply": "2022-12-15T13:29:13.552287Z",
     "shell.execute_reply.started": "2022-12-15T13:29:13.464901Z"
    },
    "tags": []
   },
   "outputs": [
    {
     "data": {
      "text/html": [
       "<div>\n",
       "<style scoped>\n",
       "    .dataframe tbody tr th:only-of-type {\n",
       "        vertical-align: middle;\n",
       "    }\n",
       "\n",
       "    .dataframe tbody tr th {\n",
       "        vertical-align: top;\n",
       "    }\n",
       "\n",
       "    .dataframe thead th {\n",
       "        text-align: right;\n",
       "    }\n",
       "</style>\n",
       "<table border=\"1\" class=\"dataframe\">\n",
       "  <thead>\n",
       "    <tr style=\"text-align: right;\">\n",
       "      <th></th>\n",
       "      <th>#dkpol</th>\n",
       "      <th>;-)</th>\n",
       "      <th>Danmark</th>\n",
       "      <th>Danmark dkpol</th>\n",
       "      <th>Europa</th>\n",
       "      <th>København</th>\n",
       "      <th>Lars</th>\n",
       "      <th>Mette</th>\n",
       "      <th>Mette frederikse</th>\n",
       "      <th>Støjberg</th>\n",
       "      <th>...</th>\n",
       "      <th>åbning</th>\n",
       "      <th>årsag</th>\n",
       "      <th>årti</th>\n",
       "      <th>ærlig</th>\n",
       "      <th>øje</th>\n",
       "      <th>øjeblik</th>\n",
       "      <th>økonomi</th>\n",
       "      <th>økonomisk</th>\n",
       "      <th>ønske</th>\n",
       "      <th>øvrig</th>\n",
       "    </tr>\n",
       "  </thead>\n",
       "  <tbody>\n",
       "    <tr>\n",
       "      <th>0</th>\n",
       "      <td>0.0</td>\n",
       "      <td>0.0</td>\n",
       "      <td>0.550569</td>\n",
       "      <td>0.0</td>\n",
       "      <td>0.0</td>\n",
       "      <td>0.0</td>\n",
       "      <td>0.0</td>\n",
       "      <td>0.0</td>\n",
       "      <td>0.0</td>\n",
       "      <td>0.0</td>\n",
       "      <td>...</td>\n",
       "      <td>0.0</td>\n",
       "      <td>0.0</td>\n",
       "      <td>0.000000</td>\n",
       "      <td>0.0</td>\n",
       "      <td>0.0</td>\n",
       "      <td>0.0</td>\n",
       "      <td>0.0</td>\n",
       "      <td>0.0</td>\n",
       "      <td>0.0</td>\n",
       "      <td>0.0</td>\n",
       "    </tr>\n",
       "    <tr>\n",
       "      <th>1</th>\n",
       "      <td>0.0</td>\n",
       "      <td>0.0</td>\n",
       "      <td>0.000000</td>\n",
       "      <td>0.0</td>\n",
       "      <td>0.0</td>\n",
       "      <td>0.0</td>\n",
       "      <td>0.0</td>\n",
       "      <td>0.0</td>\n",
       "      <td>0.0</td>\n",
       "      <td>0.0</td>\n",
       "      <td>...</td>\n",
       "      <td>0.0</td>\n",
       "      <td>0.0</td>\n",
       "      <td>0.000000</td>\n",
       "      <td>0.0</td>\n",
       "      <td>0.0</td>\n",
       "      <td>0.0</td>\n",
       "      <td>0.0</td>\n",
       "      <td>0.0</td>\n",
       "      <td>0.0</td>\n",
       "      <td>0.0</td>\n",
       "    </tr>\n",
       "    <tr>\n",
       "      <th>2</th>\n",
       "      <td>0.0</td>\n",
       "      <td>0.0</td>\n",
       "      <td>0.000000</td>\n",
       "      <td>0.0</td>\n",
       "      <td>0.0</td>\n",
       "      <td>0.0</td>\n",
       "      <td>0.0</td>\n",
       "      <td>0.0</td>\n",
       "      <td>0.0</td>\n",
       "      <td>0.0</td>\n",
       "      <td>...</td>\n",
       "      <td>0.0</td>\n",
       "      <td>0.0</td>\n",
       "      <td>0.000000</td>\n",
       "      <td>0.0</td>\n",
       "      <td>0.0</td>\n",
       "      <td>0.0</td>\n",
       "      <td>0.0</td>\n",
       "      <td>0.0</td>\n",
       "      <td>0.0</td>\n",
       "      <td>0.0</td>\n",
       "    </tr>\n",
       "    <tr>\n",
       "      <th>3</th>\n",
       "      <td>0.0</td>\n",
       "      <td>0.0</td>\n",
       "      <td>0.000000</td>\n",
       "      <td>0.0</td>\n",
       "      <td>0.0</td>\n",
       "      <td>0.0</td>\n",
       "      <td>0.0</td>\n",
       "      <td>0.0</td>\n",
       "      <td>0.0</td>\n",
       "      <td>0.0</td>\n",
       "      <td>...</td>\n",
       "      <td>0.0</td>\n",
       "      <td>0.0</td>\n",
       "      <td>0.000000</td>\n",
       "      <td>0.0</td>\n",
       "      <td>0.0</td>\n",
       "      <td>0.0</td>\n",
       "      <td>0.0</td>\n",
       "      <td>0.0</td>\n",
       "      <td>0.0</td>\n",
       "      <td>0.0</td>\n",
       "    </tr>\n",
       "    <tr>\n",
       "      <th>4</th>\n",
       "      <td>0.0</td>\n",
       "      <td>0.0</td>\n",
       "      <td>0.000000</td>\n",
       "      <td>0.0</td>\n",
       "      <td>0.0</td>\n",
       "      <td>0.0</td>\n",
       "      <td>0.0</td>\n",
       "      <td>0.0</td>\n",
       "      <td>0.0</td>\n",
       "      <td>0.0</td>\n",
       "      <td>...</td>\n",
       "      <td>0.0</td>\n",
       "      <td>0.0</td>\n",
       "      <td>0.407705</td>\n",
       "      <td>0.0</td>\n",
       "      <td>0.0</td>\n",
       "      <td>0.0</td>\n",
       "      <td>0.0</td>\n",
       "      <td>0.0</td>\n",
       "      <td>0.0</td>\n",
       "      <td>0.0</td>\n",
       "    </tr>\n",
       "    <tr>\n",
       "      <th>...</th>\n",
       "      <td>...</td>\n",
       "      <td>...</td>\n",
       "      <td>...</td>\n",
       "      <td>...</td>\n",
       "      <td>...</td>\n",
       "      <td>...</td>\n",
       "      <td>...</td>\n",
       "      <td>...</td>\n",
       "      <td>...</td>\n",
       "      <td>...</td>\n",
       "      <td>...</td>\n",
       "      <td>...</td>\n",
       "      <td>...</td>\n",
       "      <td>...</td>\n",
       "      <td>...</td>\n",
       "      <td>...</td>\n",
       "      <td>...</td>\n",
       "      <td>...</td>\n",
       "      <td>...</td>\n",
       "      <td>...</td>\n",
       "      <td>...</td>\n",
       "    </tr>\n",
       "    <tr>\n",
       "      <th>238487</th>\n",
       "      <td>0.0</td>\n",
       "      <td>0.0</td>\n",
       "      <td>0.000000</td>\n",
       "      <td>0.0</td>\n",
       "      <td>0.0</td>\n",
       "      <td>0.0</td>\n",
       "      <td>0.0</td>\n",
       "      <td>0.0</td>\n",
       "      <td>0.0</td>\n",
       "      <td>0.0</td>\n",
       "      <td>...</td>\n",
       "      <td>0.0</td>\n",
       "      <td>0.0</td>\n",
       "      <td>0.000000</td>\n",
       "      <td>0.0</td>\n",
       "      <td>0.0</td>\n",
       "      <td>0.0</td>\n",
       "      <td>0.0</td>\n",
       "      <td>0.0</td>\n",
       "      <td>0.0</td>\n",
       "      <td>0.0</td>\n",
       "    </tr>\n",
       "    <tr>\n",
       "      <th>238488</th>\n",
       "      <td>0.0</td>\n",
       "      <td>0.0</td>\n",
       "      <td>0.673733</td>\n",
       "      <td>0.0</td>\n",
       "      <td>0.0</td>\n",
       "      <td>0.0</td>\n",
       "      <td>0.0</td>\n",
       "      <td>0.0</td>\n",
       "      <td>0.0</td>\n",
       "      <td>0.0</td>\n",
       "      <td>...</td>\n",
       "      <td>0.0</td>\n",
       "      <td>0.0</td>\n",
       "      <td>0.000000</td>\n",
       "      <td>0.0</td>\n",
       "      <td>0.0</td>\n",
       "      <td>0.0</td>\n",
       "      <td>0.0</td>\n",
       "      <td>0.0</td>\n",
       "      <td>0.0</td>\n",
       "      <td>0.0</td>\n",
       "    </tr>\n",
       "    <tr>\n",
       "      <th>238489</th>\n",
       "      <td>0.0</td>\n",
       "      <td>0.0</td>\n",
       "      <td>0.000000</td>\n",
       "      <td>0.0</td>\n",
       "      <td>0.0</td>\n",
       "      <td>0.0</td>\n",
       "      <td>0.0</td>\n",
       "      <td>0.0</td>\n",
       "      <td>0.0</td>\n",
       "      <td>0.0</td>\n",
       "      <td>...</td>\n",
       "      <td>0.0</td>\n",
       "      <td>0.0</td>\n",
       "      <td>0.000000</td>\n",
       "      <td>0.0</td>\n",
       "      <td>0.0</td>\n",
       "      <td>0.0</td>\n",
       "      <td>0.0</td>\n",
       "      <td>0.0</td>\n",
       "      <td>0.0</td>\n",
       "      <td>0.0</td>\n",
       "    </tr>\n",
       "    <tr>\n",
       "      <th>238490</th>\n",
       "      <td>0.0</td>\n",
       "      <td>0.0</td>\n",
       "      <td>0.000000</td>\n",
       "      <td>0.0</td>\n",
       "      <td>0.0</td>\n",
       "      <td>0.0</td>\n",
       "      <td>0.0</td>\n",
       "      <td>0.0</td>\n",
       "      <td>0.0</td>\n",
       "      <td>0.0</td>\n",
       "      <td>...</td>\n",
       "      <td>0.0</td>\n",
       "      <td>0.0</td>\n",
       "      <td>0.000000</td>\n",
       "      <td>0.0</td>\n",
       "      <td>0.0</td>\n",
       "      <td>0.0</td>\n",
       "      <td>0.0</td>\n",
       "      <td>0.0</td>\n",
       "      <td>0.0</td>\n",
       "      <td>0.0</td>\n",
       "    </tr>\n",
       "    <tr>\n",
       "      <th>238491</th>\n",
       "      <td>0.0</td>\n",
       "      <td>0.0</td>\n",
       "      <td>0.000000</td>\n",
       "      <td>0.0</td>\n",
       "      <td>0.0</td>\n",
       "      <td>0.0</td>\n",
       "      <td>0.0</td>\n",
       "      <td>0.0</td>\n",
       "      <td>0.0</td>\n",
       "      <td>0.0</td>\n",
       "      <td>...</td>\n",
       "      <td>0.0</td>\n",
       "      <td>0.0</td>\n",
       "      <td>0.000000</td>\n",
       "      <td>0.0</td>\n",
       "      <td>0.0</td>\n",
       "      <td>0.0</td>\n",
       "      <td>0.0</td>\n",
       "      <td>0.0</td>\n",
       "      <td>0.0</td>\n",
       "      <td>0.0</td>\n",
       "    </tr>\n",
       "  </tbody>\n",
       "</table>\n",
       "<p>238492 rows × 741 columns</p>\n",
       "</div>"
      ],
      "text/plain": [
       "        #dkpol  ;-)   Danmark  Danmark dkpol  Europa  København  Lars  Mette  \\\n",
       "0          0.0  0.0  0.550569            0.0     0.0        0.0   0.0    0.0   \n",
       "1          0.0  0.0  0.000000            0.0     0.0        0.0   0.0    0.0   \n",
       "2          0.0  0.0  0.000000            0.0     0.0        0.0   0.0    0.0   \n",
       "3          0.0  0.0  0.000000            0.0     0.0        0.0   0.0    0.0   \n",
       "4          0.0  0.0  0.000000            0.0     0.0        0.0   0.0    0.0   \n",
       "...        ...  ...       ...            ...     ...        ...   ...    ...   \n",
       "238487     0.0  0.0  0.000000            0.0     0.0        0.0   0.0    0.0   \n",
       "238488     0.0  0.0  0.673733            0.0     0.0        0.0   0.0    0.0   \n",
       "238489     0.0  0.0  0.000000            0.0     0.0        0.0   0.0    0.0   \n",
       "238490     0.0  0.0  0.000000            0.0     0.0        0.0   0.0    0.0   \n",
       "238491     0.0  0.0  0.000000            0.0     0.0        0.0   0.0    0.0   \n",
       "\n",
       "        Mette frederikse  Støjberg  ...  åbning  årsag      årti  ærlig  øje  \\\n",
       "0                    0.0       0.0  ...     0.0    0.0  0.000000    0.0  0.0   \n",
       "1                    0.0       0.0  ...     0.0    0.0  0.000000    0.0  0.0   \n",
       "2                    0.0       0.0  ...     0.0    0.0  0.000000    0.0  0.0   \n",
       "3                    0.0       0.0  ...     0.0    0.0  0.000000    0.0  0.0   \n",
       "4                    0.0       0.0  ...     0.0    0.0  0.407705    0.0  0.0   \n",
       "...                  ...       ...  ...     ...    ...       ...    ...  ...   \n",
       "238487               0.0       0.0  ...     0.0    0.0  0.000000    0.0  0.0   \n",
       "238488               0.0       0.0  ...     0.0    0.0  0.000000    0.0  0.0   \n",
       "238489               0.0       0.0  ...     0.0    0.0  0.000000    0.0  0.0   \n",
       "238490               0.0       0.0  ...     0.0    0.0  0.000000    0.0  0.0   \n",
       "238491               0.0       0.0  ...     0.0    0.0  0.000000    0.0  0.0   \n",
       "\n",
       "        øjeblik  økonomi  økonomisk  ønske  øvrig  \n",
       "0           0.0      0.0        0.0    0.0    0.0  \n",
       "1           0.0      0.0        0.0    0.0    0.0  \n",
       "2           0.0      0.0        0.0    0.0    0.0  \n",
       "3           0.0      0.0        0.0    0.0    0.0  \n",
       "4           0.0      0.0        0.0    0.0    0.0  \n",
       "...         ...      ...        ...    ...    ...  \n",
       "238487      0.0      0.0        0.0    0.0    0.0  \n",
       "238488      0.0      0.0        0.0    0.0    0.0  \n",
       "238489      0.0      0.0        0.0    0.0    0.0  \n",
       "238490      0.0      0.0        0.0    0.0    0.0  \n",
       "238491      0.0      0.0        0.0    0.0    0.0  \n",
       "\n",
       "[238492 rows x 741 columns]"
      ]
     },
     "execution_count": 60,
     "metadata": {},
     "output_type": "execute_result"
    }
   ],
   "source": [
    "tokens_df3 = pd.DataFrame(transformed_documents_as_array3, columns = vectorizer3.get_feature_names_out()) # Konverter til data frame\n",
    "# Før get_feature_names_out har variablene ikke nogen meningsfulde variabelnavne. \n",
    "# Variabel navne laves herved tilsvarende til det pågældende ord i et dataframe-format. \n",
    "\n",
    "tokens_df3"
   ]
  },
  {
   "cell_type": "code",
   "execution_count": 107,
   "id": "fd20c000-67ce-4201-850e-5b2a3059005f",
   "metadata": {
    "execution": {
     "iopub.execute_input": "2022-12-15T17:37:09.406661Z",
     "iopub.status.busy": "2022-12-15T17:37:09.405958Z",
     "iopub.status.idle": "2022-12-15T17:37:09.415376Z",
     "shell.execute_reply": "2022-12-15T17:37:09.414259Z",
     "shell.execute_reply.started": "2022-12-15T17:37:09.406602Z"
    },
    "tags": []
   },
   "outputs": [
    {
     "name": "stdout",
     "output_type": "stream",
     "text": [
      "['#dkpol', ';-)', 'Danmark', 'Danmark dkpol', 'Europa', 'København', 'Lars', 'Mette', 'Mette frederikse', 'Støjberg', 'Søren', 'aarhus', 'about', 'absurd', 'adgang', 'afghanistan', 'afgift', 'afgørende', 'afstand', 'aftale', 'aften', 'aktiv', 'almindelig', 'alternativ', 'alvor', 'alvorlig', 'ambition', 'ambitiøs', 'amerikansk', 'amp', 'analyse', 'anbefaling', 'anderledes', 'angreb', 'anledning', 'ansvar', 'ansvarlig', 'antal', 'arbejde', 'arbejdsløs', 'arbejdsmarked', 'arbejdsplads', 'argument', 'artikel', 'avis', 'baggrund', 'balance', 'bane', 'bank', 'barn', 'barn ung', 'barsel', 'befolkning', 'behandling', 'behov', 'bekendt', 'beregning', 'berlingske', 'beskæftigelse', 'beslutning', 'besparelse', 'besøg', 'betydning', 'bidrag', 'bil', 'billede', 'billig', 'biodiversitet', 'blok', 'blå', 'blå blok', 'blå parti', 'bog', 'bolig', 'bord', 'borg', 'borger', 'borgerlig', 'borgmester', 'branche', 'bred', 'bred aftale', 'bred flertal', 'brug', 'bud', 'budskab', 'bund', 'bæredygtig', 'børnenes', 'can', 'central', 'chance', 'christiansborg', 'co2', 'corona', 'coronakrise', 'covid19', 'covid19dk', 'dag', 'dag dkpol', 'dagpeng', 'danmark', 'dansk', 'dansk politik', 'dansk økonomi', 'dansker', 'data', 'debat', 'debatt', 'dejlig', 'del', 'demokrati', 'demokratisk', 'denmark', 'dialog', 'digital', 'direkte', 'diskussion', 'dkaid', 'dkbiz', 'dkgre', 'dkgre dkpol', 'dkmedi', 'dkmedie', 'dkpol', 'dkpol dkgre', 'dkpol dkmedi', 'dkpol dkmedie', 'dkpol dktrp', 'dkpol ftliv', 'dkpol uddpol', 'dksocial', 'dktrp', 'dom', 'dygtig', 'dyr', 'dårlig', 'død', 'effekt', 'eksempel', 'ekspert', 'ekstra', 'elev', 'embedsmand', 'emne', 'ende', 'energi', 'energy', 'enhedslist', 'enig', 'enkelt', 'erfaring', 'erhverv', 'erhvervsliv', 'erstatning', 'eudk', 'europæisk', 'facebook', 'faglig', 'fair', 'fakta', 'fald', 'familie', 'fantastisk', 'far', 'farlig', 'fast', 'fattig', 'fejl', 'fin', 'finansiering', 'finanslov', 'finansminister', 'flertal', 'flertal folketing', 'flot', 'flygtning', 'fokus', 'folk', 'folkeparti', 'folkeskole', 'folketing', 'folketingssal', 'forbedring', 'forbindelse', 'forbrug', 'forbud', 'fordel', 'forhandling', 'forhold', 'forkert', 'forklaring', 'forløb', 'form', 'formand', 'formål', 'fornuftig', 'fornøjelse', 'forskel', 'forskellig', 'forsker', 'forskning', 'forslag', 'forsvar', 'forsvarsforbehold', 'forsøg', 'forår', 'forælder', 'fred', 'fredag', 'frederikse', 'fremragende', 'fremtid', 'fri', 'frihed', 'frivillig', 'from', 'ftliv', 'fuld', 'fælles', 'fællesskab', 'fængsel', 'færdig', 'første', 'første gang', 'gade', 'gammel', 'gang', 'gas', 'gavn', 'generation', 'gengæld', 'genåbning', 'glad', 'global', 'glæde', 'glædelig', 'godt', 'grad', 'gram', 'grund', 'grundlag', 'grundlov', 'gruppe', 'grænse', 'grøn', 'grøn omstilling', 'grøn skattereform', 'grønn', 'går', 'had', 'halv', 'halvdel', 'handicap', 'handling', 'hav', 'hej', 'hensyn', 'historie', 'historisk', 'hjerte', 'hjælp', 'hjælpepakke', 'hold', 'holdning', 'hong', 'hong kong', 'hoved', 'hovedstad', 'hurtig', 'hus', 'husk', 'hverdag', 'håb', 'hånd', 'hård', 'høj', 'høj grad', 'høring', 'idag', 'ide', 'idé', 'ift', 'ift.', 'igang', 'imponerende', 'indflydelse', 'indhold', 'indlæg', 'indsats', 'information', 'inger', 'initiativ', 'institution', 'interessant', 'interesse', 'international', 'interview', 'investering', 'job', 'jord', 'journalist', 'jul', 'juni', 'justitsminister', 'kamp', 'kbh', 'kina', 'klar', 'klasse', 'klima', 'klimahandling', 'klimakrise', 'klimalov', 'klimamål', 'klog', 'klokke', 'kollega', 'kommentar', 'kommission', 'kommun', 'kommune', 'kompensation', 'konference', 'konflikt', 'kong', 'konklusion', 'konkret', 'konsekvens', 'konservativ', 'kontrol', 'korrekt', 'kort', 'kraft', 'krav', 'krig', 'kriminel', 'krise', 'kritik', 'kritisk', 'krone', 'kronik', 'kultur', 'kvalitet', 'kvinde', 'kæmpe', 'kær', 'land', 'landbrug', 'lang', 'lang tid', 'leder', 'let', 'liberal', 'ligestilling', 'linje', 'liste', 'liv', 'lokal', 'lov', 'lovforslag', 'lovgivning', 'lys', 'lyst', 'læge', 'lærer', 'løft', 'løfte', 'løgn', 'løn', 'løsning', 'mad', 'magt', 'maj', 'mand', 'mandag', 'mandat', 'mangel', 'markant', 'marts', 'masse', 'medarbejder', 'medie', 'medlem', 'melding', 'mening', 'menneske', 'mette', 'mette frederikse', 'mia', 'middel', 'miljø', 'milliard', 'milliard krone', 'million', 'million krone', 'minist', 'minister', 'ministerium', 'mink', 'minkavl', 'mio', 'model', 'modsat', 'mor', 'morgen', 'mulig', 'mulighed', 'mundbind', 'muslim', 'myndighed', 'måde', 'mål', 'måned', 'møde', 'nat', 'national', 'nato', 'natur', 'navn', 'nedlukning', 'negativ', 'nej', 'news', 'niveau', 'now', 'nummer', 'nuværende', 'nyhed', 'nødt', 'nødvendig', 'offentlig', 'omgang', 'område', 'omstilling', 'opbakning', 'opfordring', 'opgave', 'opgør', 'oplagt', 'oplevelse', 'oplysning', 'opmærksom', 'opposition', 'opslag', 'ord', 'orden', 'ordentlig', 'ordfører', 'ordning', 'organisation', 'overgreb', 'overskrift', 'overskud', 'par', 'part', 'parti', 'patient', 'penge', 'pension', 'periode', 'person', 'personlig', 'pinlig', 'plads', 'plan', 'point', 'pointe', 'pol', 'politi', 'politik', 'politiker', 'politisk', 'positiv', 'post', 'praksis', 'pres', 'presse', 'pressemøde', 'prioritering', 'pris', 'privat', 'problem', 'procent', 'produktion', 'program', 'projekt', 'præcis', 'psykiatri', 'putin', 'pårørende', 'påstand', 'pædagog', 'racisme', 'radikal', 'ramme', 'rapport', 'rasmus', 'reduktion', 'reel', 'reform', 'regel', 'regering', 'regering dkpol', 'region', 'regning', 'relevant', 'ren', 'respekt', 'ressource', 'rest', 'restriktion', 'resultat', 'ret', 'retning', 'retsstat', 'rettighed', 'rig', 'rigtig', 'rimelig', 'risiko', 'rolle', 'ros', 'rusland', 'russisk', 'råd', 'række', 'rød', 'sag', 'sal', 'salg', 'samarbejde', 'samfund', 'sammenhæng', 'samråd', 'samtale', 'sandhed', 'sej', 'sejr', 'sektor', 'selskab', 'selvstændig', 'sen', 'seriøs', 'side', 'sidste', 'sikker', 'sikkerhed', 'situation', 'sjov', 'skandale', 'skat', 'skatt', 'skattelettelse', 'skattereform', 'skole', 'skolechat', 'skov', 'skridt', 'skyld', 'skøn', 'slags', 'slem', 'slut', 'smitt', 'sms', 'smuk', 'snak', 'social', 'socialdemokrat', 'socialdemokrati', 'socialdemokratisk', 'soldat', 'sommer', 'sort', 'spil', 'spændende', 'spørgsmål', 'start', 'stat', 'statsborgerskab', 'statsminister', 'sted', 'stemme', 'stil', 'stilling', 'stm', 'stolt', 'stop', 'stor', 'stor tak', 'stor tillykke', 'stram', 'strategi', 'studerende', 'styr', 'styrke', 'stærk', 'støjberg', 'støtte', 'støtteparti', 'sund', 'sundhed', 'sundhedsvæse', 'sundhedsvæsene', 'svar', 'svær', 'syg', 'sygdom', 'sygeplejerske', 'synspunkt', 'syri', 'system', 'sårbar', 'særlig', 'søndag', 'tak', 'tak dkpol', 'tak samarbejde', 'tal', 'tale', 'tanke', 'that', 'the', 'their', 'this', 'tid', 'tide', 'tidlig', 'tidlig pension', 'tidspunkt', 'tilbud', 'tilfælde', 'tilgang', 'tillid', 'tillykke', 'tiltag', 'time', 'ting', 'top', 'total', 'trist', 'trivsel', 'trods', 'trump', 'tryghed', 'tråd', 'træt', 'tur', 'tusind', 'tusind tak', 'tvivl', 'tweet', 'twitt', 'twitter', 'tydelig', 'type', 'tænk', 'uacceptabel', 'uafhængig', 'uddannelse', 'uddpol', 'udenlandsk', 'udfordring', 'udgift', 'udledning', 'udlændingepolitik', 'udmelding', 'udsat', 'udsat barn', 'udspil', 'udtalelse', 'udtryk', 'udvikling', 'uenig', 'uge', 'ukrain', 'ukraine', 'ukrainsk', 'ulighed', 'ulovlig', 'undersøgelse', 'undskyldning', 'ung', 'urimelig', 'usa', 'vaccin', 'vaccine', 'valg', 'valgkamp', 'vanvittig', 'varm', 'vegne', 'vej', 'velfærd', 'velkommen', 'ven', 'venstre', 'venstrefløj', 'verden', 'viden', 'video', 'vigtig', 'vild', 'vildt', 'vilje', 'vilkår', 'virkelighed', 'virksomhed', 'vis', 'voksen', 'vold', 'voldsom', 'vurdering', 'vækst', 'vælger', 'værd', 'værdi', 'værdig', 'væsentlig', 'was', 'weekend', 'what', 'will', 'with', 'world', 'ydelse', 'yes', 'ytringsfrihed', 'åben', 'åbenhed', 'åbning', 'årsag', 'årti', 'ærlig', 'øje', 'øjeblik', 'økonomi', 'økonomisk', 'ønske', 'øvrig']\n"
     ]
    }
   ],
   "source": [
    "print(tokens_df3.columns.tolist())"
   ]
  },
  {
   "cell_type": "code",
   "execution_count": 109,
   "id": "806c5ea2-c4f4-4442-9fcb-baee302cd38e",
   "metadata": {
    "execution": {
     "iopub.execute_input": "2022-12-15T17:37:18.482630Z",
     "iopub.status.busy": "2022-12-15T17:37:18.481918Z",
     "iopub.status.idle": "2022-12-15T17:37:18.489993Z",
     "shell.execute_reply": "2022-12-15T17:37:18.488843Z",
     "shell.execute_reply.started": "2022-12-15T17:37:18.482569Z"
    },
    "tags": []
   },
   "outputs": [],
   "source": [
    "#clusteranalyse - K-means\n",
    "kmeans3 = KMeans(7, random_state = 666)"
   ]
  },
  {
   "cell_type": "code",
   "execution_count": 110,
   "id": "db924970-9612-4fcb-a8a6-b404466d3429",
   "metadata": {
    "execution": {
     "iopub.execute_input": "2022-12-15T17:37:19.739352Z",
     "iopub.status.busy": "2022-12-15T17:37:19.739131Z",
     "iopub.status.idle": "2022-12-15T17:38:12.155543Z",
     "shell.execute_reply": "2022-12-15T17:38:12.152735Z",
     "shell.execute_reply.started": "2022-12-15T17:37:19.739332Z"
    },
    "tags": []
   },
   "outputs": [
    {
     "name": "stderr",
     "output_type": "stream",
     "text": [
      "/opt/conda/lib/python3.9/site-packages/sklearn/cluster/_kmeans.py:870: FutureWarning: The default value of `n_init` will change from 10 to 'auto' in 1.4. Set the value of `n_init` explicitly to suppress the warning\n"
     ]
    },
    {
     "data": {
      "text/plain": [
       "array([2, 2, 2, ..., 2, 3, 3], dtype=int32)"
      ]
     },
     "execution_count": 110,
     "metadata": {},
     "output_type": "execute_result"
    }
   ],
   "source": [
    "identified_clusters3 = kmeans3.fit_predict(tokens_df3)\n",
    "identified_clusters3"
   ]
  },
  {
   "cell_type": "code",
   "execution_count": 111,
   "id": "5ce81e67-b794-467a-a77d-0dfc9bae9c36",
   "metadata": {
    "execution": {
     "iopub.execute_input": "2022-12-15T17:38:12.160404Z",
     "iopub.status.busy": "2022-12-15T17:38:12.160059Z",
     "iopub.status.idle": "2022-12-15T17:38:12.248437Z",
     "shell.execute_reply": "2022-12-15T17:38:12.247388Z",
     "shell.execute_reply.started": "2022-12-15T17:38:12.160376Z"
    },
    "tags": []
   },
   "outputs": [],
   "source": [
    "tweet_merged['cluster_countvec3'] = identified_clusters3\n",
    "tweet_merged['cluster_countvec3'] = tweet_merged['cluster_countvec3'].astype('str') # omdannes til string for at gøre den kategorisk"
   ]
  },
  {
   "cell_type": "code",
   "execution_count": 112,
   "id": "1dc04415-71f5-4bf4-a893-66e9450a6f18",
   "metadata": {
    "execution": {
     "iopub.execute_input": "2022-12-15T17:38:12.251515Z",
     "iopub.status.busy": "2022-12-15T17:38:12.251180Z",
     "iopub.status.idle": "2022-12-15T17:38:12.312525Z",
     "shell.execute_reply": "2022-12-15T17:38:12.311407Z",
     "shell.execute_reply.started": "2022-12-15T17:38:12.251488Z"
    },
    "tags": []
   },
   "outputs": [
    {
     "data": {
      "text/plain": [
       "party  cluster_countvec3\n",
       "alt    0                    0.091597\n",
       "       1                    0.018583\n",
       "       2                    0.796903\n",
       "       3                    0.053456\n",
       "       4                    0.013421\n",
       "                              ...   \n",
       "v      2                    0.659970\n",
       "       3                    0.049970\n",
       "       4                    0.020829\n",
       "       5                    0.022512\n",
       "       6                    0.013325\n",
       "Length: 98, dtype: float64"
      ]
     },
     "execution_count": 112,
     "metadata": {},
     "output_type": "execute_result"
    }
   ],
   "source": [
    "tweet_merged.groupby(['party', 'cluster_countvec3']).size() / tweet_merged.groupby(['party']).size()"
   ]
  },
  {
   "cell_type": "code",
   "execution_count": 113,
   "id": "8a209eb0-dc5e-4532-b6c7-6a27d2fc61e5",
   "metadata": {
    "execution": {
     "iopub.execute_input": "2022-12-15T17:38:13.256357Z",
     "iopub.status.busy": "2022-12-15T17:38:13.255995Z",
     "iopub.status.idle": "2022-12-15T17:38:14.778059Z",
     "shell.execute_reply": "2022-12-15T17:38:14.777289Z",
     "shell.execute_reply.started": "2022-12-15T17:38:13.256334Z"
    },
    "tags": []
   },
   "outputs": [
    {
     "data": {
      "image/png": "[encoded data removed]",
      "text/plain": [
       "<Figure size 640x480 with 1 Axes>"
      ]
     },
     "metadata": {},
     "output_type": "display_data"
    },
    {
     "data": {
      "text/plain": [
       "<ggplot: (8787656931166)>"
      ]
     },
     "execution_count": 113,
     "metadata": {},
     "output_type": "execute_result"
    }
   ],
   "source": [
    "(ggplot(data = tweet_merged, mapping = aes(x = 'party', group = 'cluster_countvec3', fill = 'cluster_countvec3')) \n",
    " + geom_bar(position = 'fill'))"
   ]
  },
  {
   "cell_type": "code",
   "execution_count": 164,
   "id": "3da4ea60-faa1-411d-be7e-d6f2bd9c42e8",
   "metadata": {
    "execution": {
     "iopub.execute_input": "2022-12-14T15:59:55.170584Z",
     "iopub.status.busy": "2022-12-14T15:59:55.169875Z",
     "iopub.status.idle": "2022-12-14T15:59:55.205889Z",
     "shell.execute_reply": "2022-12-14T15:59:55.204977Z",
     "shell.execute_reply.started": "2022-12-14T15:59:55.170527Z"
    },
    "tags": []
   },
   "outputs": [
    {
     "data": {
      "text/plain": [
       "cluster_countvec3\n",
       "0      4719\n",
       "1    192549\n",
       "2     11558\n",
       "3     10498\n",
       "4      5562\n",
       "5      5344\n",
       "6      8262\n",
       "Name: party, dtype: int64"
      ]
     },
     "execution_count": 164,
     "metadata": {},
     "output_type": "execute_result"
    }
   ],
   "source": [
    "tweet_merged.groupby(['cluster_countvec3'])['party'].count()"
   ]
  },
  {
   "cell_type": "code",
   "execution_count": 165,
   "id": "ea4d25eb-d51c-45b0-924b-7f615ae42c0b",
   "metadata": {
    "execution": {
     "iopub.execute_input": "2022-12-14T16:00:04.853664Z",
     "iopub.status.busy": "2022-12-14T16:00:04.852939Z",
     "iopub.status.idle": "2022-12-14T16:00:04.861348Z",
     "shell.execute_reply": "2022-12-14T16:00:04.859773Z",
     "shell.execute_reply.started": "2022-12-14T16:00:04.853607Z"
    },
    "tags": []
   },
   "outputs": [],
   "source": [
    "cluster_ngram = tweet_merged['cluster_countvec3']"
   ]
  },
  {
   "cell_type": "code",
   "execution_count": 166,
   "id": "97755188-3840-45f1-9a4e-9940845ceb36",
   "metadata": {
    "execution": {
     "iopub.execute_input": "2022-12-14T16:00:08.934862Z",
     "iopub.status.busy": "2022-12-14T16:00:08.934081Z",
     "iopub.status.idle": "2022-12-14T16:00:08.947669Z",
     "shell.execute_reply": "2022-12-14T16:00:08.946551Z",
     "shell.execute_reply.started": "2022-12-14T16:00:08.934800Z"
    },
    "tags": []
   },
   "outputs": [
    {
     "data": {
      "text/plain": [
       "0    1\n",
       "1    1\n",
       "2    1\n",
       "3    1\n",
       "4    1\n",
       "Name: cluster_countvec3, dtype: object"
      ]
     },
     "execution_count": 166,
     "metadata": {},
     "output_type": "execute_result"
    }
   ],
   "source": [
    "cluster_ngram.head()"
   ]
  },
  {
   "cell_type": "code",
   "execution_count": 167,
   "id": "df264329-aeb4-4c04-939a-e0dcbabf745d",
   "metadata": {
    "execution": {
     "iopub.execute_input": "2022-12-14T16:00:15.963926Z",
     "iopub.status.busy": "2022-12-14T16:00:15.963134Z",
     "iopub.status.idle": "2022-12-14T16:00:15.972400Z",
     "shell.execute_reply": "2022-12-14T16:00:15.970646Z",
     "shell.execute_reply.started": "2022-12-14T16:00:15.963865Z"
    },
    "tags": []
   },
   "outputs": [],
   "source": [
    "partier = tweet_merged['party']"
   ]
  },
  {
   "cell_type": "code",
   "execution_count": 119,
   "id": "b7a1179c-44b6-4c03-a407-4fe9d1df2585",
   "metadata": {
    "execution": {
     "iopub.execute_input": "2022-12-15T18:54:50.462682Z",
     "iopub.status.busy": "2022-12-15T18:54:50.462018Z",
     "iopub.status.idle": "2022-12-15T18:54:50.526960Z",
     "shell.execute_reply": "2022-12-15T18:54:50.526235Z",
     "shell.execute_reply.started": "2022-12-15T18:54:50.462626Z"
    },
    "tags": []
   },
   "outputs": [
    {
     "data": {
      "text/html": [
       "<div>\n",
       "<style scoped>\n",
       "    .dataframe tbody tr th:only-of-type {\n",
       "        vertical-align: middle;\n",
       "    }\n",
       "\n",
       "    .dataframe tbody tr th {\n",
       "        vertical-align: top;\n",
       "    }\n",
       "\n",
       "    .dataframe thead th {\n",
       "        text-align: right;\n",
       "    }\n",
       "</style>\n",
       "<table border=\"1\" class=\"dataframe\">\n",
       "  <thead>\n",
       "    <tr style=\"text-align: right;\">\n",
       "      <th>cluster_countvec3</th>\n",
       "      <th>0</th>\n",
       "      <th>1</th>\n",
       "      <th>2</th>\n",
       "      <th>3</th>\n",
       "      <th>4</th>\n",
       "      <th>5</th>\n",
       "      <th>6</th>\n",
       "    </tr>\n",
       "    <tr>\n",
       "      <th>party</th>\n",
       "      <th></th>\n",
       "      <th></th>\n",
       "      <th></th>\n",
       "      <th></th>\n",
       "      <th></th>\n",
       "      <th></th>\n",
       "      <th></th>\n",
       "    </tr>\n",
       "  </thead>\n",
       "  <tbody>\n",
       "    <tr>\n",
       "      <th>alt</th>\n",
       "      <td>0.091597</td>\n",
       "      <td>0.018583</td>\n",
       "      <td>0.796903</td>\n",
       "      <td>0.053456</td>\n",
       "      <td>0.013421</td>\n",
       "      <td>0.014167</td>\n",
       "      <td>0.011873</td>\n",
       "    </tr>\n",
       "    <tr>\n",
       "      <th>dd</th>\n",
       "      <td>0.301442</td>\n",
       "      <td>0.020600</td>\n",
       "      <td>0.573587</td>\n",
       "      <td>0.049897</td>\n",
       "      <td>0.023575</td>\n",
       "      <td>0.020371</td>\n",
       "      <td>0.010529</td>\n",
       "    </tr>\n",
       "    <tr>\n",
       "      <th>df</th>\n",
       "      <td>0.265112</td>\n",
       "      <td>0.018560</td>\n",
       "      <td>0.620767</td>\n",
       "      <td>0.042388</td>\n",
       "      <td>0.019814</td>\n",
       "      <td>0.020818</td>\n",
       "      <td>0.012541</td>\n",
       "    </tr>\n",
       "    <tr>\n",
       "      <th>el</th>\n",
       "      <td>0.220781</td>\n",
       "      <td>0.021998</td>\n",
       "      <td>0.636534</td>\n",
       "      <td>0.055697</td>\n",
       "      <td>0.019725</td>\n",
       "      <td>0.022600</td>\n",
       "      <td>0.022666</td>\n",
       "    </tr>\n",
       "    <tr>\n",
       "      <th>fg</th>\n",
       "      <td>0.321874</td>\n",
       "      <td>0.018592</td>\n",
       "      <td>0.536975</td>\n",
       "      <td>0.043311</td>\n",
       "      <td>0.027628</td>\n",
       "      <td>0.017449</td>\n",
       "      <td>0.034171</td>\n",
       "    </tr>\n",
       "    <tr>\n",
       "      <th>kons</th>\n",
       "      <td>0.074381</td>\n",
       "      <td>0.037915</td>\n",
       "      <td>0.791140</td>\n",
       "      <td>0.040449</td>\n",
       "      <td>0.013033</td>\n",
       "      <td>0.026001</td>\n",
       "      <td>0.017081</td>\n",
       "    </tr>\n",
       "    <tr>\n",
       "      <th>la</th>\n",
       "      <td>0.135486</td>\n",
       "      <td>0.008551</td>\n",
       "      <td>0.756450</td>\n",
       "      <td>0.040543</td>\n",
       "      <td>0.019903</td>\n",
       "      <td>0.008403</td>\n",
       "      <td>0.030665</td>\n",
       "    </tr>\n",
       "    <tr>\n",
       "      <th>mod</th>\n",
       "      <td>0.006875</td>\n",
       "      <td>0.026875</td>\n",
       "      <td>0.848125</td>\n",
       "      <td>0.043750</td>\n",
       "      <td>0.016875</td>\n",
       "      <td>0.041875</td>\n",
       "      <td>0.015625</td>\n",
       "    </tr>\n",
       "    <tr>\n",
       "      <th>nb</th>\n",
       "      <td>0.362240</td>\n",
       "      <td>0.015357</td>\n",
       "      <td>0.528455</td>\n",
       "      <td>0.057814</td>\n",
       "      <td>0.023487</td>\n",
       "      <td>0.004517</td>\n",
       "      <td>0.008130</td>\n",
       "    </tr>\n",
       "    <tr>\n",
       "      <th>rv</th>\n",
       "      <td>0.159064</td>\n",
       "      <td>0.054327</td>\n",
       "      <td>0.675345</td>\n",
       "      <td>0.051152</td>\n",
       "      <td>0.018238</td>\n",
       "      <td>0.027904</td>\n",
       "      <td>0.013970</td>\n",
       "    </tr>\n",
       "    <tr>\n",
       "      <th>s</th>\n",
       "      <td>0.159871</td>\n",
       "      <td>0.037877</td>\n",
       "      <td>0.674921</td>\n",
       "      <td>0.071425</td>\n",
       "      <td>0.025166</td>\n",
       "      <td>0.017755</td>\n",
       "      <td>0.012986</td>\n",
       "    </tr>\n",
       "    <tr>\n",
       "      <th>sf</th>\n",
       "      <td>0.163774</td>\n",
       "      <td>0.038054</td>\n",
       "      <td>0.678755</td>\n",
       "      <td>0.048016</td>\n",
       "      <td>0.018482</td>\n",
       "      <td>0.034553</td>\n",
       "      <td>0.018366</td>\n",
       "    </tr>\n",
       "    <tr>\n",
       "      <th>ug</th>\n",
       "      <td>0.174516</td>\n",
       "      <td>0.057134</td>\n",
       "      <td>0.679988</td>\n",
       "      <td>0.034843</td>\n",
       "      <td>0.014459</td>\n",
       "      <td>0.021488</td>\n",
       "      <td>0.017572</td>\n",
       "    </tr>\n",
       "    <tr>\n",
       "      <th>v</th>\n",
       "      <td>0.206508</td>\n",
       "      <td>0.026886</td>\n",
       "      <td>0.659970</td>\n",
       "      <td>0.049970</td>\n",
       "      <td>0.020829</td>\n",
       "      <td>0.022512</td>\n",
       "      <td>0.013325</td>\n",
       "    </tr>\n",
       "  </tbody>\n",
       "</table>\n",
       "</div>"
      ],
      "text/plain": [
       "cluster_countvec3         0         1         2         3         4         5  \\\n",
       "party                                                                           \n",
       "alt                0.091597  0.018583  0.796903  0.053456  0.013421  0.014167   \n",
       "dd                 0.301442  0.020600  0.573587  0.049897  0.023575  0.020371   \n",
       "df                 0.265112  0.018560  0.620767  0.042388  0.019814  0.020818   \n",
       "el                 0.220781  0.021998  0.636534  0.055697  0.019725  0.022600   \n",
       "fg                 0.321874  0.018592  0.536975  0.043311  0.027628  0.017449   \n",
       "kons               0.074381  0.037915  0.791140  0.040449  0.013033  0.026001   \n",
       "la                 0.135486  0.008551  0.756450  0.040543  0.019903  0.008403   \n",
       "mod                0.006875  0.026875  0.848125  0.043750  0.016875  0.041875   \n",
       "nb                 0.362240  0.015357  0.528455  0.057814  0.023487  0.004517   \n",
       "rv                 0.159064  0.054327  0.675345  0.051152  0.018238  0.027904   \n",
       "s                  0.159871  0.037877  0.674921  0.071425  0.025166  0.017755   \n",
       "sf                 0.163774  0.038054  0.678755  0.048016  0.018482  0.034553   \n",
       "ug                 0.174516  0.057134  0.679988  0.034843  0.014459  0.021488   \n",
       "v                  0.206508  0.026886  0.659970  0.049970  0.020829  0.022512   \n",
       "\n",
       "cluster_countvec3         6  \n",
       "party                        \n",
       "alt                0.011873  \n",
       "dd                 0.010529  \n",
       "df                 0.012541  \n",
       "el                 0.022666  \n",
       "fg                 0.034171  \n",
       "kons               0.017081  \n",
       "la                 0.030665  \n",
       "mod                0.015625  \n",
       "nb                 0.008130  \n",
       "rv                 0.013970  \n",
       "s                  0.012986  \n",
       "sf                 0.018366  \n",
       "ug                 0.017572  \n",
       "v                  0.013325  "
      ]
     },
     "execution_count": 119,
     "metadata": {},
     "output_type": "execute_result"
    }
   ],
   "source": [
    "pd.crosstab(tweet_merged['party'],tweet_merged['cluster_countvec3'], normalize = 'index') #krydstabel over fordeling af kluster på partier"
   ]
  },
  {
   "cell_type": "code",
   "execution_count": 169,
   "id": "13006343-f815-4e68-b42a-d9cbd033cf5b",
   "metadata": {
    "execution": {
     "iopub.execute_input": "2022-12-14T16:00:27.922680Z",
     "iopub.status.busy": "2022-12-14T16:00:27.921606Z",
     "iopub.status.idle": "2022-12-14T16:00:49.254530Z",
     "shell.execute_reply": "2022-12-14T16:00:49.252511Z",
     "shell.execute_reply.started": "2022-12-14T16:00:27.922613Z"
    }
   },
   "outputs": [],
   "source": [
    "#Laver PCA model for at inspicere clusters\n",
    "from sklearn.decomposition import PCA\n",
    "\n",
    "pca = PCA(n_components=2, random_state= 666)\n",
    "\n",
    "pca_vecs = pca.fit_transform(tokens_df3)\n",
    "\n",
    "pca1 = pca_vecs[:, 0]\n",
    "pca2 = pca_vecs[:, 1]\n",
    "\n",
    "tweet_merged['pca1'] = pca1\n",
    "tweet_merged['pca2'] = pca2"
   ]
  },
  {
   "cell_type": "code",
   "execution_count": 120,
   "id": "7841fab5-10e7-4771-a57c-bb64e59ee0d6",
   "metadata": {
    "execution": {
     "iopub.execute_input": "2022-12-15T18:57:47.249391Z",
     "iopub.status.busy": "2022-12-15T18:57:47.248578Z",
     "iopub.status.idle": "2022-12-15T18:57:47.857387Z",
     "shell.execute_reply": "2022-12-15T18:57:47.856599Z",
     "shell.execute_reply.started": "2022-12-15T18:57:47.249333Z"
    },
    "tags": []
   },
   "outputs": [
    {
     "name": "stdout",
     "output_type": "stream",
     "text": [
      "\n",
      "Cluster 0\n",
      "vigtig,dkmedi,grøn,stor,dansk,Danmark,dkpol dkgre,dkgre,regering,dkpol\n",
      "\n",
      "Cluster 1\n",
      "arbejde,stor,tak samarbejde,vigtig,samarbejde,dkpol,indsats,tusind,tusind tak,tak\n",
      "\n",
      "Cluster 2\n",
      "grøn,tid,aftale,dansk,barn,gang,vigtig,Danmark,stor,regering\n",
      "\n",
      "Cluster 3\n",
      "dansk,folketing,vigtig,Danmark,tak,dag dkpol,regering,stor,dkpol,dag\n",
      "\n",
      "Cluster 4\n",
      "aftale,dansk,vigtig,regering,dag,verden,stor,Danmark,dkpol,land\n",
      "\n",
      "Cluster 5\n",
      "parti,gang,forslag,stor,brug,vigtig,regering,tak,dkpol,enig\n",
      "\n",
      "Cluster 6\n",
      "tak,folk,Danmark,stor,dag,liv,ung,handicap,dkpol,menneske\n"
     ]
    }
   ],
   "source": [
    "## Så visualiserer vi.\n",
    "def get_top_keywords(n_terms):\n",
    "    \"\"\"This function returns the keywords for each centroid of the KMeans\"\"\"\n",
    "    df = pd.DataFrame(transformed_documents3.todense()).groupby(identified_clusters3).mean() # groups the TF-IDF vector by cluster\n",
    "    terms = vectorizer3.get_feature_names_out() # access tf-idf terms\n",
    "    for i,r in df.iterrows():\n",
    "        print('\\nCluster {}'.format(i))\n",
    "        print(','.join([terms[t] for t in np.argsort(r)[-n_terms:]])) # for each row of the dataframe, find the n terms that have the highest tf idf score\n",
    "            \n",
    "get_top_keywords(10) #Vi vælger selv, hvor mange ord fra clusteren vi gerne vil se"
   ]
  },
  {
   "cell_type": "code",
   "execution_count": 171,
   "id": "aa6bcf65-0605-4586-b2b2-7dedee3fed77",
   "metadata": {
    "execution": {
     "iopub.execute_input": "2022-12-14T16:01:36.197009Z",
     "iopub.status.busy": "2022-12-14T16:01:36.196297Z",
     "iopub.status.idle": "2022-12-14T16:01:42.165253Z",
     "shell.execute_reply": "2022-12-14T16:01:42.164614Z",
     "shell.execute_reply.started": "2022-12-14T16:01:36.196953Z"
    }
   },
   "outputs": [
    {
     "data": {
      "image/png": "[encoded data removed]",
      "text/plain": [
       "<Figure size 640x480 with 1 Axes>"
      ]
     },
     "metadata": {},
     "output_type": "display_data"
    },
    {
     "data": {
      "text/plain": [
       "<ggplot: (8763582047106)>"
      ]
     },
     "execution_count": 171,
     "metadata": {},
     "output_type": "execute_result"
    }
   ],
   "source": [
    "(ggplot(data = tweet_merged, mapping = aes(x = 'pca1', y = 'pca2', shape = 'cluster_countvec3', colour = 'party')) \n",
    " + geom_point())"
   ]
  },
  {
   "cell_type": "markdown",
   "id": "a9b6d0ba-15e2-412c-95c5-4a8bf0856b66",
   "metadata": {
    "execution": {
     "iopub.execute_input": "2022-12-14T09:40:56.454455Z",
     "iopub.status.busy": "2022-12-14T09:40:56.453790Z",
     "iopub.status.idle": "2022-12-14T09:40:56.461274Z",
     "shell.execute_reply": "2022-12-14T09:40:56.459815Z",
     "shell.execute_reply.started": "2022-12-14T09:40:56.454399Z"
    }
   },
   "source": [
    "### Model 4: Clusteranalyse på bigrams"
   ]
  },
  {
   "cell_type": "code",
   "execution_count": 121,
   "id": "308f26f1-1190-4a38-82f5-cd823ee9a11d",
   "metadata": {
    "execution": {
     "iopub.execute_input": "2022-12-15T18:59:32.782637Z",
     "iopub.status.busy": "2022-12-15T18:59:32.781970Z",
     "iopub.status.idle": "2022-12-15T19:25:00.834747Z",
     "shell.execute_reply": "2022-12-15T19:25:00.833251Z",
     "shell.execute_reply.started": "2022-12-15T18:59:32.782579Z"
    },
    "tags": []
   },
   "outputs": [
    {
     "name": "stderr",
     "output_type": "stream",
     "text": [
      "/opt/conda/lib/python3.9/site-packages/sklearn/feature_extraction/text.py:528: UserWarning: The parameter 'token_pattern' will not be used since 'tokenizer' is not None'\n"
     ]
    }
   ],
   "source": [
    "#vectorize\n",
    "#Ændrer min_df til 200 i et forsøg på flere bigrams\n",
    "vectorizer4 = TfidfVectorizer(min_df = 280, max_df = 0.25, tokenizer = tokenizer, ngram_range =(2,2)) # dan vectorizerfunktion - vi laver ikke om i funktionen\n",
    "transformed_documents4 = vectorizer4.fit_transform(tweet_merged['full_text_2']) # brug vectorizer på tekster\n",
    "\n",
    "transformed_documents_as_array4 = transformed_documents4.toarray()# Konverter fittet vectorizer til array\n",
    "# array-struktur"
   ]
  },
  {
   "cell_type": "code",
   "execution_count": 122,
   "id": "4d5b83e8-9729-4a2c-a5c4-54a21a54121b",
   "metadata": {
    "execution": {
     "iopub.execute_input": "2022-12-15T19:25:01.735380Z",
     "iopub.status.busy": "2022-12-15T19:25:01.735165Z",
     "iopub.status.idle": "2022-12-15T19:25:01.846885Z",
     "shell.execute_reply": "2022-12-15T19:25:01.846120Z",
     "shell.execute_reply.started": "2022-12-15T19:25:01.735361Z"
    },
    "tags": []
   },
   "outputs": [
    {
     "data": {
      "text/html": [
       "<div>\n",
       "<style scoped>\n",
       "    .dataframe tbody tr th:only-of-type {\n",
       "        vertical-align: middle;\n",
       "    }\n",
       "\n",
       "    .dataframe tbody tr th {\n",
       "        vertical-align: top;\n",
       "    }\n",
       "\n",
       "    .dataframe thead th {\n",
       "        text-align: right;\n",
       "    }\n",
       "</style>\n",
       "<table border=\"1\" class=\"dataframe\">\n",
       "  <thead>\n",
       "    <tr style=\"text-align: right;\">\n",
       "      <th></th>\n",
       "      <th>Danmark dkpol</th>\n",
       "      <th>Mette frederikse</th>\n",
       "      <th>arbejde dkpol</th>\n",
       "      <th>barn ung</th>\n",
       "      <th>blå blok</th>\n",
       "      <th>blå parti</th>\n",
       "      <th>bred aftale</th>\n",
       "      <th>bred flertal</th>\n",
       "      <th>dag dkpol</th>\n",
       "      <th>dansk politik</th>\n",
       "      <th>...</th>\n",
       "      <th>politisk aftale</th>\n",
       "      <th>regering dkpol</th>\n",
       "      <th>stor tak</th>\n",
       "      <th>stor tillykke</th>\n",
       "      <th>tak dkpol</th>\n",
       "      <th>tak indsats</th>\n",
       "      <th>tak samarbejde</th>\n",
       "      <th>tidlig pension</th>\n",
       "      <th>tusind tak</th>\n",
       "      <th>udsat barn</th>\n",
       "    </tr>\n",
       "  </thead>\n",
       "  <tbody>\n",
       "    <tr>\n",
       "      <th>0</th>\n",
       "      <td>0.0</td>\n",
       "      <td>0.0</td>\n",
       "      <td>0.0</td>\n",
       "      <td>0.0</td>\n",
       "      <td>0.0</td>\n",
       "      <td>0.0</td>\n",
       "      <td>0.0</td>\n",
       "      <td>0.0</td>\n",
       "      <td>0.0</td>\n",
       "      <td>0.0</td>\n",
       "      <td>...</td>\n",
       "      <td>0.0</td>\n",
       "      <td>0.0</td>\n",
       "      <td>0.0</td>\n",
       "      <td>0.0</td>\n",
       "      <td>0.0</td>\n",
       "      <td>0.0</td>\n",
       "      <td>0.0</td>\n",
       "      <td>0.0</td>\n",
       "      <td>0.0</td>\n",
       "      <td>0.0</td>\n",
       "    </tr>\n",
       "    <tr>\n",
       "      <th>1</th>\n",
       "      <td>0.0</td>\n",
       "      <td>0.0</td>\n",
       "      <td>0.0</td>\n",
       "      <td>0.0</td>\n",
       "      <td>0.0</td>\n",
       "      <td>0.0</td>\n",
       "      <td>0.0</td>\n",
       "      <td>0.0</td>\n",
       "      <td>0.0</td>\n",
       "      <td>0.0</td>\n",
       "      <td>...</td>\n",
       "      <td>0.0</td>\n",
       "      <td>0.0</td>\n",
       "      <td>0.0</td>\n",
       "      <td>0.0</td>\n",
       "      <td>0.0</td>\n",
       "      <td>0.0</td>\n",
       "      <td>0.0</td>\n",
       "      <td>0.0</td>\n",
       "      <td>0.0</td>\n",
       "      <td>0.0</td>\n",
       "    </tr>\n",
       "    <tr>\n",
       "      <th>2</th>\n",
       "      <td>0.0</td>\n",
       "      <td>0.0</td>\n",
       "      <td>0.0</td>\n",
       "      <td>0.0</td>\n",
       "      <td>0.0</td>\n",
       "      <td>0.0</td>\n",
       "      <td>0.0</td>\n",
       "      <td>0.0</td>\n",
       "      <td>0.0</td>\n",
       "      <td>0.0</td>\n",
       "      <td>...</td>\n",
       "      <td>0.0</td>\n",
       "      <td>0.0</td>\n",
       "      <td>0.0</td>\n",
       "      <td>0.0</td>\n",
       "      <td>0.0</td>\n",
       "      <td>0.0</td>\n",
       "      <td>0.0</td>\n",
       "      <td>0.0</td>\n",
       "      <td>0.0</td>\n",
       "      <td>0.0</td>\n",
       "    </tr>\n",
       "    <tr>\n",
       "      <th>3</th>\n",
       "      <td>0.0</td>\n",
       "      <td>0.0</td>\n",
       "      <td>0.0</td>\n",
       "      <td>0.0</td>\n",
       "      <td>0.0</td>\n",
       "      <td>0.0</td>\n",
       "      <td>0.0</td>\n",
       "      <td>0.0</td>\n",
       "      <td>0.0</td>\n",
       "      <td>0.0</td>\n",
       "      <td>...</td>\n",
       "      <td>0.0</td>\n",
       "      <td>0.0</td>\n",
       "      <td>0.0</td>\n",
       "      <td>0.0</td>\n",
       "      <td>0.0</td>\n",
       "      <td>0.0</td>\n",
       "      <td>0.0</td>\n",
       "      <td>0.0</td>\n",
       "      <td>0.0</td>\n",
       "      <td>0.0</td>\n",
       "    </tr>\n",
       "    <tr>\n",
       "      <th>4</th>\n",
       "      <td>0.0</td>\n",
       "      <td>0.0</td>\n",
       "      <td>0.0</td>\n",
       "      <td>0.0</td>\n",
       "      <td>0.0</td>\n",
       "      <td>0.0</td>\n",
       "      <td>0.0</td>\n",
       "      <td>0.0</td>\n",
       "      <td>0.0</td>\n",
       "      <td>0.0</td>\n",
       "      <td>...</td>\n",
       "      <td>0.0</td>\n",
       "      <td>0.0</td>\n",
       "      <td>0.0</td>\n",
       "      <td>0.0</td>\n",
       "      <td>0.0</td>\n",
       "      <td>0.0</td>\n",
       "      <td>0.0</td>\n",
       "      <td>0.0</td>\n",
       "      <td>0.0</td>\n",
       "      <td>0.0</td>\n",
       "    </tr>\n",
       "    <tr>\n",
       "      <th>...</th>\n",
       "      <td>...</td>\n",
       "      <td>...</td>\n",
       "      <td>...</td>\n",
       "      <td>...</td>\n",
       "      <td>...</td>\n",
       "      <td>...</td>\n",
       "      <td>...</td>\n",
       "      <td>...</td>\n",
       "      <td>...</td>\n",
       "      <td>...</td>\n",
       "      <td>...</td>\n",
       "      <td>...</td>\n",
       "      <td>...</td>\n",
       "      <td>...</td>\n",
       "      <td>...</td>\n",
       "      <td>...</td>\n",
       "      <td>...</td>\n",
       "      <td>...</td>\n",
       "      <td>...</td>\n",
       "      <td>...</td>\n",
       "      <td>...</td>\n",
       "    </tr>\n",
       "    <tr>\n",
       "      <th>238487</th>\n",
       "      <td>0.0</td>\n",
       "      <td>0.0</td>\n",
       "      <td>0.0</td>\n",
       "      <td>0.0</td>\n",
       "      <td>0.0</td>\n",
       "      <td>0.0</td>\n",
       "      <td>0.0</td>\n",
       "      <td>0.0</td>\n",
       "      <td>0.0</td>\n",
       "      <td>0.0</td>\n",
       "      <td>...</td>\n",
       "      <td>0.0</td>\n",
       "      <td>0.0</td>\n",
       "      <td>0.0</td>\n",
       "      <td>0.0</td>\n",
       "      <td>0.0</td>\n",
       "      <td>0.0</td>\n",
       "      <td>0.0</td>\n",
       "      <td>0.0</td>\n",
       "      <td>0.0</td>\n",
       "      <td>0.0</td>\n",
       "    </tr>\n",
       "    <tr>\n",
       "      <th>238488</th>\n",
       "      <td>0.0</td>\n",
       "      <td>0.0</td>\n",
       "      <td>0.0</td>\n",
       "      <td>0.0</td>\n",
       "      <td>0.0</td>\n",
       "      <td>0.0</td>\n",
       "      <td>0.0</td>\n",
       "      <td>0.0</td>\n",
       "      <td>0.0</td>\n",
       "      <td>0.0</td>\n",
       "      <td>...</td>\n",
       "      <td>0.0</td>\n",
       "      <td>0.0</td>\n",
       "      <td>0.0</td>\n",
       "      <td>0.0</td>\n",
       "      <td>0.0</td>\n",
       "      <td>0.0</td>\n",
       "      <td>0.0</td>\n",
       "      <td>0.0</td>\n",
       "      <td>0.0</td>\n",
       "      <td>0.0</td>\n",
       "    </tr>\n",
       "    <tr>\n",
       "      <th>238489</th>\n",
       "      <td>0.0</td>\n",
       "      <td>0.0</td>\n",
       "      <td>0.0</td>\n",
       "      <td>0.0</td>\n",
       "      <td>0.0</td>\n",
       "      <td>0.0</td>\n",
       "      <td>0.0</td>\n",
       "      <td>0.0</td>\n",
       "      <td>0.0</td>\n",
       "      <td>0.0</td>\n",
       "      <td>...</td>\n",
       "      <td>0.0</td>\n",
       "      <td>0.0</td>\n",
       "      <td>0.0</td>\n",
       "      <td>0.0</td>\n",
       "      <td>0.0</td>\n",
       "      <td>0.0</td>\n",
       "      <td>0.0</td>\n",
       "      <td>0.0</td>\n",
       "      <td>0.0</td>\n",
       "      <td>0.0</td>\n",
       "    </tr>\n",
       "    <tr>\n",
       "      <th>238490</th>\n",
       "      <td>0.0</td>\n",
       "      <td>0.0</td>\n",
       "      <td>0.0</td>\n",
       "      <td>0.0</td>\n",
       "      <td>0.0</td>\n",
       "      <td>0.0</td>\n",
       "      <td>0.0</td>\n",
       "      <td>0.0</td>\n",
       "      <td>0.0</td>\n",
       "      <td>0.0</td>\n",
       "      <td>...</td>\n",
       "      <td>0.0</td>\n",
       "      <td>0.0</td>\n",
       "      <td>0.0</td>\n",
       "      <td>0.0</td>\n",
       "      <td>0.0</td>\n",
       "      <td>0.0</td>\n",
       "      <td>0.0</td>\n",
       "      <td>0.0</td>\n",
       "      <td>0.0</td>\n",
       "      <td>0.0</td>\n",
       "    </tr>\n",
       "    <tr>\n",
       "      <th>238491</th>\n",
       "      <td>0.0</td>\n",
       "      <td>0.0</td>\n",
       "      <td>0.0</td>\n",
       "      <td>0.0</td>\n",
       "      <td>0.0</td>\n",
       "      <td>0.0</td>\n",
       "      <td>0.0</td>\n",
       "      <td>0.0</td>\n",
       "      <td>0.0</td>\n",
       "      <td>0.0</td>\n",
       "      <td>...</td>\n",
       "      <td>0.0</td>\n",
       "      <td>0.0</td>\n",
       "      <td>0.0</td>\n",
       "      <td>0.0</td>\n",
       "      <td>0.0</td>\n",
       "      <td>0.0</td>\n",
       "      <td>0.0</td>\n",
       "      <td>0.0</td>\n",
       "      <td>0.0</td>\n",
       "      <td>0.0</td>\n",
       "    </tr>\n",
       "  </tbody>\n",
       "</table>\n",
       "<p>238492 rows × 40 columns</p>\n",
       "</div>"
      ],
      "text/plain": [
       "        Danmark dkpol  Mette frederikse  arbejde dkpol  barn ung  blå blok  \\\n",
       "0                 0.0               0.0            0.0       0.0       0.0   \n",
       "1                 0.0               0.0            0.0       0.0       0.0   \n",
       "2                 0.0               0.0            0.0       0.0       0.0   \n",
       "3                 0.0               0.0            0.0       0.0       0.0   \n",
       "4                 0.0               0.0            0.0       0.0       0.0   \n",
       "...               ...               ...            ...       ...       ...   \n",
       "238487            0.0               0.0            0.0       0.0       0.0   \n",
       "238488            0.0               0.0            0.0       0.0       0.0   \n",
       "238489            0.0               0.0            0.0       0.0       0.0   \n",
       "238490            0.0               0.0            0.0       0.0       0.0   \n",
       "238491            0.0               0.0            0.0       0.0       0.0   \n",
       "\n",
       "        blå parti  bred aftale  bred flertal  dag dkpol  dansk politik  ...  \\\n",
       "0             0.0          0.0           0.0        0.0            0.0  ...   \n",
       "1             0.0          0.0           0.0        0.0            0.0  ...   \n",
       "2             0.0          0.0           0.0        0.0            0.0  ...   \n",
       "3             0.0          0.0           0.0        0.0            0.0  ...   \n",
       "4             0.0          0.0           0.0        0.0            0.0  ...   \n",
       "...           ...          ...           ...        ...            ...  ...   \n",
       "238487        0.0          0.0           0.0        0.0            0.0  ...   \n",
       "238488        0.0          0.0           0.0        0.0            0.0  ...   \n",
       "238489        0.0          0.0           0.0        0.0            0.0  ...   \n",
       "238490        0.0          0.0           0.0        0.0            0.0  ...   \n",
       "238491        0.0          0.0           0.0        0.0            0.0  ...   \n",
       "\n",
       "        politisk aftale  regering dkpol  stor tak  stor tillykke  tak dkpol  \\\n",
       "0                   0.0             0.0       0.0            0.0        0.0   \n",
       "1                   0.0             0.0       0.0            0.0        0.0   \n",
       "2                   0.0             0.0       0.0            0.0        0.0   \n",
       "3                   0.0             0.0       0.0            0.0        0.0   \n",
       "4                   0.0             0.0       0.0            0.0        0.0   \n",
       "...                 ...             ...       ...            ...        ...   \n",
       "238487              0.0             0.0       0.0            0.0        0.0   \n",
       "238488              0.0             0.0       0.0            0.0        0.0   \n",
       "238489              0.0             0.0       0.0            0.0        0.0   \n",
       "238490              0.0             0.0       0.0            0.0        0.0   \n",
       "238491              0.0             0.0       0.0            0.0        0.0   \n",
       "\n",
       "        tak indsats  tak samarbejde  tidlig pension  tusind tak  udsat barn  \n",
       "0               0.0             0.0             0.0         0.0         0.0  \n",
       "1               0.0             0.0             0.0         0.0         0.0  \n",
       "2               0.0             0.0             0.0         0.0         0.0  \n",
       "3               0.0             0.0             0.0         0.0         0.0  \n",
       "4               0.0             0.0             0.0         0.0         0.0  \n",
       "...             ...             ...             ...         ...         ...  \n",
       "238487          0.0             0.0             0.0         0.0         0.0  \n",
       "238488          0.0             0.0             0.0         0.0         0.0  \n",
       "238489          0.0             0.0             0.0         0.0         0.0  \n",
       "238490          0.0             0.0             0.0         0.0         0.0  \n",
       "238491          0.0             0.0             0.0         0.0         0.0  \n",
       "\n",
       "[238492 rows x 40 columns]"
      ]
     },
     "execution_count": 122,
     "metadata": {},
     "output_type": "execute_result"
    }
   ],
   "source": [
    "tokens_df4 = pd.DataFrame(transformed_documents_as_array4, columns = vectorizer4.get_feature_names_out()) # Konverter til data frame\n",
    "# Før get_feature_names_out har variablene ikke nogen meningsfulde variabelnavne. \n",
    "# Variabel navne laves herved tilsvarende til det pågældende ord i et dataframe-format. \n",
    "\n",
    "tokens_df4"
   ]
  },
  {
   "cell_type": "code",
   "execution_count": 136,
   "id": "89d8cdfd-9293-4abd-a475-ca5d1233c4b9",
   "metadata": {
    "execution": {
     "iopub.execute_input": "2022-12-15T19:31:03.489969Z",
     "iopub.status.busy": "2022-12-15T19:31:03.489275Z",
     "iopub.status.idle": "2022-12-15T19:31:03.498109Z",
     "shell.execute_reply": "2022-12-15T19:31:03.497011Z",
     "shell.execute_reply.started": "2022-12-15T19:31:03.489910Z"
    },
    "tags": []
   },
   "outputs": [
    {
     "name": "stdout",
     "output_type": "stream",
     "text": [
      "['Danmark dkpol', 'Mette frederikse', 'arbejde dkpol', 'barn ung', 'blå blok', 'blå parti', 'bred aftale', 'bred flertal', 'dag dkpol', 'dansk politik', 'dansk økonomi', 'dkgre dkpol', 'dkpol dkgre', 'dkpol dkmedi', 'dkpol dkmedie', 'dkpol dktrp', 'dkpol ftliv', 'dkpol uddpol', 'flertal folketing', 'folketing parti', 'fri grøn', 'første gang', 'grøn omstilling', 'grøn skattereform', 'hong kong', 'høj grad', 'lang tid', 'mette frederikse', 'milliard krone', 'million krone', 'politisk aftale', 'regering dkpol', 'stor tak', 'stor tillykke', 'tak dkpol', 'tak indsats', 'tak samarbejde', 'tidlig pension', 'tusind tak', 'udsat barn']\n"
     ]
    }
   ],
   "source": [
    "bigram_listen =  print(tokens_df4.columns.tolist())"
   ]
  },
  {
   "cell_type": "code",
   "execution_count": 124,
   "id": "0b26a91d-ef54-44ba-817e-47851880bf8a",
   "metadata": {
    "execution": {
     "iopub.execute_input": "2022-12-15T19:25:01.854317Z",
     "iopub.status.busy": "2022-12-15T19:25:01.854119Z",
     "iopub.status.idle": "2022-12-15T19:25:01.919560Z",
     "shell.execute_reply": "2022-12-15T19:25:01.918165Z",
     "shell.execute_reply.started": "2022-12-15T19:25:01.854298Z"
    },
    "tags": []
   },
   "outputs": [],
   "source": [
    "#clusteranalyse - K-means\n",
    "kmeans4 = KMeans(7, random_state = 666)"
   ]
  },
  {
   "cell_type": "code",
   "execution_count": 125,
   "id": "73bcc94e-8eeb-4d5d-8e06-abe7a89098b8",
   "metadata": {
    "execution": {
     "iopub.execute_input": "2022-12-15T19:25:01.922430Z",
     "iopub.status.busy": "2022-12-15T19:25:01.921846Z",
     "iopub.status.idle": "2022-12-15T19:25:11.090320Z",
     "shell.execute_reply": "2022-12-15T19:25:11.088411Z",
     "shell.execute_reply.started": "2022-12-15T19:25:01.922377Z"
    },
    "tags": []
   },
   "outputs": [
    {
     "name": "stderr",
     "output_type": "stream",
     "text": [
      "/opt/conda/lib/python3.9/site-packages/sklearn/cluster/_kmeans.py:870: FutureWarning: The default value of `n_init` will change from 10 to 'auto' in 1.4. Set the value of `n_init` explicitly to suppress the warning\n"
     ]
    },
    {
     "data": {
      "text/plain": [
       "array([0, 0, 0, ..., 0, 0, 0], dtype=int32)"
      ]
     },
     "execution_count": 125,
     "metadata": {},
     "output_type": "execute_result"
    }
   ],
   "source": [
    "identified_clusters4 = kmeans4.fit_predict(tokens_df4)\n",
    "identified_clusters4"
   ]
  },
  {
   "cell_type": "code",
   "execution_count": 126,
   "id": "c65eb088-c08f-4d37-90b7-c5f6f1ac66b2",
   "metadata": {
    "execution": {
     "iopub.execute_input": "2022-12-15T19:25:11.092021Z",
     "iopub.status.busy": "2022-12-15T19:25:11.091768Z",
     "iopub.status.idle": "2022-12-15T19:25:11.159229Z",
     "shell.execute_reply": "2022-12-15T19:25:11.158485Z",
     "shell.execute_reply.started": "2022-12-15T19:25:11.091998Z"
    },
    "tags": []
   },
   "outputs": [],
   "source": [
    "tweet_merged['cluster_countvec4'] = identified_clusters4\n",
    "tweet_merged['cluster_countvec4'] = tweet_merged['cluster_countvec4'].astype('str') # omdannes til string for at gøre den kategorisk"
   ]
  },
  {
   "cell_type": "code",
   "execution_count": 127,
   "id": "f128340d-fde2-4d62-9f38-896dc8dff3ae",
   "metadata": {
    "execution": {
     "iopub.execute_input": "2022-12-15T19:25:11.160267Z",
     "iopub.status.busy": "2022-12-15T19:25:11.160073Z",
     "iopub.status.idle": "2022-12-15T19:25:11.231362Z",
     "shell.execute_reply": "2022-12-15T19:25:11.230619Z",
     "shell.execute_reply.started": "2022-12-15T19:25:11.160250Z"
    },
    "tags": []
   },
   "outputs": [
    {
     "data": {
      "text/plain": [
       "party  cluster_countvec4\n",
       "alt    0                    0.987955\n",
       "       1                    0.003785\n",
       "       2                    0.001147\n",
       "       3                    0.002925\n",
       "       4                    0.003613\n",
       "                              ...   \n",
       "v      2                    0.020728\n",
       "       3                    0.013729\n",
       "       4                    0.007235\n",
       "       5                    0.008042\n",
       "       6                    0.000538\n",
       "Length: 84, dtype: float64"
      ]
     },
     "execution_count": 127,
     "metadata": {},
     "output_type": "execute_result"
    }
   ],
   "source": [
    "tweet_merged.groupby(['party', 'cluster_countvec4']).size() / tweet_merged.groupby(['party']).size()"
   ]
  },
  {
   "cell_type": "code",
   "execution_count": 128,
   "id": "b997e5a1-988a-44db-898f-1f96c5971921",
   "metadata": {
    "execution": {
     "iopub.execute_input": "2022-12-15T19:25:11.232434Z",
     "iopub.status.busy": "2022-12-15T19:25:11.232226Z",
     "iopub.status.idle": "2022-12-15T19:25:12.413648Z",
     "shell.execute_reply": "2022-12-15T19:25:12.412991Z",
     "shell.execute_reply.started": "2022-12-15T19:25:11.232414Z"
    },
    "tags": []
   },
   "outputs": [
    {
     "data": {
      "image/png": "[encoded data removed]",
      "text/plain": [
       "<Figure size 640x480 with 1 Axes>"
      ]
     },
     "metadata": {},
     "output_type": "display_data"
    },
    {
     "data": {
      "text/plain": [
       "<ggplot: (8787838672517)>"
      ]
     },
     "execution_count": 128,
     "metadata": {},
     "output_type": "execute_result"
    }
   ],
   "source": [
    "(ggplot(data = tweet_merged, mapping = aes(x = 'party', group = 'cluster_countvec4', fill = 'cluster_countvec4')) \n",
    " + geom_bar(position = 'fill'))"
   ]
  },
  {
   "cell_type": "code",
   "execution_count": 129,
   "id": "00f680ba-cb14-4a54-ba25-c2bf9d5bdba0",
   "metadata": {
    "execution": {
     "iopub.execute_input": "2022-12-15T19:25:12.417053Z",
     "iopub.status.busy": "2022-12-15T19:25:12.416694Z",
     "iopub.status.idle": "2022-12-15T19:25:12.441277Z",
     "shell.execute_reply": "2022-12-15T19:25:12.440556Z",
     "shell.execute_reply.started": "2022-12-15T19:25:12.417033Z"
    },
    "tags": []
   },
   "outputs": [
    {
     "data": {
      "text/plain": [
       "cluster_countvec4\n",
       "0    228984\n",
       "1      2981\n",
       "2      1656\n",
       "3      1412\n",
       "4      1586\n",
       "5      1253\n",
       "6       620\n",
       "Name: party, dtype: int64"
      ]
     },
     "execution_count": 129,
     "metadata": {},
     "output_type": "execute_result"
    }
   ],
   "source": [
    "tweet_merged.groupby(['cluster_countvec4'])['party'].count()"
   ]
  },
  {
   "cell_type": "code",
   "execution_count": 130,
   "id": "0e924b48-35cd-45d8-b774-0039030c8942",
   "metadata": {
    "execution": {
     "iopub.execute_input": "2022-12-15T19:25:12.442227Z",
     "iopub.status.busy": "2022-12-15T19:25:12.442032Z",
     "iopub.status.idle": "2022-12-15T19:25:12.446165Z",
     "shell.execute_reply": "2022-12-15T19:25:12.445620Z",
     "shell.execute_reply.started": "2022-12-15T19:25:12.442202Z"
    },
    "tags": []
   },
   "outputs": [],
   "source": [
    "cluster_ngram = tweet_merged['cluster_countvec4']"
   ]
  },
  {
   "cell_type": "code",
   "execution_count": 131,
   "id": "65b9f83e-d280-4b23-96bb-2a9bc80527bf",
   "metadata": {
    "execution": {
     "iopub.execute_input": "2022-12-15T19:25:12.447060Z",
     "iopub.status.busy": "2022-12-15T19:25:12.446888Z",
     "iopub.status.idle": "2022-12-15T19:25:12.462012Z",
     "shell.execute_reply": "2022-12-15T19:25:12.461347Z",
     "shell.execute_reply.started": "2022-12-15T19:25:12.447044Z"
    },
    "tags": []
   },
   "outputs": [
    {
     "data": {
      "text/plain": [
       "0    0\n",
       "1    0\n",
       "2    0\n",
       "3    0\n",
       "4    0\n",
       "Name: cluster_countvec4, dtype: object"
      ]
     },
     "execution_count": 131,
     "metadata": {},
     "output_type": "execute_result"
    }
   ],
   "source": [
    "cluster_ngram.head()"
   ]
  },
  {
   "cell_type": "code",
   "execution_count": 132,
   "id": "044ff914-47b2-401d-aeba-9b9f5189ce07",
   "metadata": {
    "execution": {
     "iopub.execute_input": "2022-12-15T19:25:12.463111Z",
     "iopub.status.busy": "2022-12-15T19:25:12.462895Z",
     "iopub.status.idle": "2022-12-15T19:25:12.482448Z",
     "shell.execute_reply": "2022-12-15T19:25:12.481582Z",
     "shell.execute_reply.started": "2022-12-15T19:25:12.463090Z"
    },
    "tags": []
   },
   "outputs": [],
   "source": [
    "partier = tweet_merged['party']"
   ]
  },
  {
   "cell_type": "code",
   "execution_count": 133,
   "id": "a4eb4274-d4ed-4f21-905c-df726c3740ac",
   "metadata": {
    "execution": {
     "iopub.execute_input": "2022-12-15T19:25:12.484638Z",
     "iopub.status.busy": "2022-12-15T19:25:12.484131Z",
     "iopub.status.idle": "2022-12-15T19:25:12.545482Z",
     "shell.execute_reply": "2022-12-15T19:25:12.544782Z",
     "shell.execute_reply.started": "2022-12-15T19:25:12.484604Z"
    },
    "tags": []
   },
   "outputs": [
    {
     "data": {
      "text/html": [
       "<div>\n",
       "<style scoped>\n",
       "    .dataframe tbody tr th:only-of-type {\n",
       "        vertical-align: middle;\n",
       "    }\n",
       "\n",
       "    .dataframe tbody tr th {\n",
       "        vertical-align: top;\n",
       "    }\n",
       "\n",
       "    .dataframe thead th {\n",
       "        text-align: right;\n",
       "    }\n",
       "</style>\n",
       "<table border=\"1\" class=\"dataframe\">\n",
       "  <thead>\n",
       "    <tr style=\"text-align: right;\">\n",
       "      <th>cluster_countvec4</th>\n",
       "      <th>0</th>\n",
       "      <th>1</th>\n",
       "      <th>2</th>\n",
       "      <th>3</th>\n",
       "      <th>4</th>\n",
       "      <th>5</th>\n",
       "      <th>6</th>\n",
       "    </tr>\n",
       "    <tr>\n",
       "      <th>party</th>\n",
       "      <th></th>\n",
       "      <th></th>\n",
       "      <th></th>\n",
       "      <th></th>\n",
       "      <th></th>\n",
       "      <th></th>\n",
       "      <th></th>\n",
       "    </tr>\n",
       "  </thead>\n",
       "  <tbody>\n",
       "    <tr>\n",
       "      <th>alt</th>\n",
       "      <td>0.987955</td>\n",
       "      <td>0.003785</td>\n",
       "      <td>0.001147</td>\n",
       "      <td>0.002925</td>\n",
       "      <td>0.003613</td>\n",
       "      <td>0.000574</td>\n",
       "      <td>0.000000</td>\n",
       "    </tr>\n",
       "    <tr>\n",
       "      <th>dd</th>\n",
       "      <td>0.975967</td>\n",
       "      <td>0.000229</td>\n",
       "      <td>0.005493</td>\n",
       "      <td>0.010758</td>\n",
       "      <td>0.000687</td>\n",
       "      <td>0.006867</td>\n",
       "      <td>0.000000</td>\n",
       "    </tr>\n",
       "    <tr>\n",
       "      <th>df</th>\n",
       "      <td>0.969150</td>\n",
       "      <td>0.000251</td>\n",
       "      <td>0.012792</td>\n",
       "      <td>0.011287</td>\n",
       "      <td>0.000752</td>\n",
       "      <td>0.005769</td>\n",
       "      <td>0.000000</td>\n",
       "    </tr>\n",
       "    <tr>\n",
       "      <th>el</th>\n",
       "      <td>0.946643</td>\n",
       "      <td>0.033565</td>\n",
       "      <td>0.001872</td>\n",
       "      <td>0.003276</td>\n",
       "      <td>0.012436</td>\n",
       "      <td>0.002206</td>\n",
       "      <td>0.000000</td>\n",
       "    </tr>\n",
       "    <tr>\n",
       "      <th>fg</th>\n",
       "      <td>0.893020</td>\n",
       "      <td>0.085272</td>\n",
       "      <td>0.008413</td>\n",
       "      <td>0.005089</td>\n",
       "      <td>0.006959</td>\n",
       "      <td>0.001246</td>\n",
       "      <td>0.000000</td>\n",
       "    </tr>\n",
       "    <tr>\n",
       "      <th>kons</th>\n",
       "      <td>0.979496</td>\n",
       "      <td>0.001909</td>\n",
       "      <td>0.001810</td>\n",
       "      <td>0.006813</td>\n",
       "      <td>0.003160</td>\n",
       "      <td>0.006813</td>\n",
       "      <td>0.000000</td>\n",
       "    </tr>\n",
       "    <tr>\n",
       "      <th>la</th>\n",
       "      <td>0.979360</td>\n",
       "      <td>0.000000</td>\n",
       "      <td>0.000737</td>\n",
       "      <td>0.017839</td>\n",
       "      <td>0.001622</td>\n",
       "      <td>0.000442</td>\n",
       "      <td>0.000000</td>\n",
       "    </tr>\n",
       "    <tr>\n",
       "      <th>mod</th>\n",
       "      <td>0.996250</td>\n",
       "      <td>0.000000</td>\n",
       "      <td>0.000000</td>\n",
       "      <td>0.000625</td>\n",
       "      <td>0.001875</td>\n",
       "      <td>0.001250</td>\n",
       "      <td>0.000000</td>\n",
       "    </tr>\n",
       "    <tr>\n",
       "      <th>nb</th>\n",
       "      <td>0.817525</td>\n",
       "      <td>0.000000</td>\n",
       "      <td>0.150858</td>\n",
       "      <td>0.029810</td>\n",
       "      <td>0.000903</td>\n",
       "      <td>0.000903</td>\n",
       "      <td>0.000000</td>\n",
       "    </tr>\n",
       "    <tr>\n",
       "      <th>rv</th>\n",
       "      <td>0.973930</td>\n",
       "      <td>0.010936</td>\n",
       "      <td>0.001834</td>\n",
       "      <td>0.001446</td>\n",
       "      <td>0.006985</td>\n",
       "      <td>0.004833</td>\n",
       "      <td>0.000035</td>\n",
       "    </tr>\n",
       "    <tr>\n",
       "      <th>s</th>\n",
       "      <td>0.952457</td>\n",
       "      <td>0.009740</td>\n",
       "      <td>0.005264</td>\n",
       "      <td>0.005062</td>\n",
       "      <td>0.009795</td>\n",
       "      <td>0.007594</td>\n",
       "      <td>0.010088</td>\n",
       "    </tr>\n",
       "    <tr>\n",
       "      <th>sf</th>\n",
       "      <td>0.958755</td>\n",
       "      <td>0.025875</td>\n",
       "      <td>0.000506</td>\n",
       "      <td>0.001440</td>\n",
       "      <td>0.007899</td>\n",
       "      <td>0.003463</td>\n",
       "      <td>0.002062</td>\n",
       "    </tr>\n",
       "    <tr>\n",
       "      <th>ug</th>\n",
       "      <td>0.963048</td>\n",
       "      <td>0.000803</td>\n",
       "      <td>0.025806</td>\n",
       "      <td>0.004719</td>\n",
       "      <td>0.000301</td>\n",
       "      <td>0.005322</td>\n",
       "      <td>0.000000</td>\n",
       "    </tr>\n",
       "    <tr>\n",
       "      <th>v</th>\n",
       "      <td>0.949122</td>\n",
       "      <td>0.000606</td>\n",
       "      <td>0.020728</td>\n",
       "      <td>0.013729</td>\n",
       "      <td>0.007235</td>\n",
       "      <td>0.008042</td>\n",
       "      <td>0.000538</td>\n",
       "    </tr>\n",
       "  </tbody>\n",
       "</table>\n",
       "</div>"
      ],
      "text/plain": [
       "cluster_countvec4         0         1         2         3         4         5  \\\n",
       "party                                                                           \n",
       "alt                0.987955  0.003785  0.001147  0.002925  0.003613  0.000574   \n",
       "dd                 0.975967  0.000229  0.005493  0.010758  0.000687  0.006867   \n",
       "df                 0.969150  0.000251  0.012792  0.011287  0.000752  0.005769   \n",
       "el                 0.946643  0.033565  0.001872  0.003276  0.012436  0.002206   \n",
       "fg                 0.893020  0.085272  0.008413  0.005089  0.006959  0.001246   \n",
       "kons               0.979496  0.001909  0.001810  0.006813  0.003160  0.006813   \n",
       "la                 0.979360  0.000000  0.000737  0.017839  0.001622  0.000442   \n",
       "mod                0.996250  0.000000  0.000000  0.000625  0.001875  0.001250   \n",
       "nb                 0.817525  0.000000  0.150858  0.029810  0.000903  0.000903   \n",
       "rv                 0.973930  0.010936  0.001834  0.001446  0.006985  0.004833   \n",
       "s                  0.952457  0.009740  0.005264  0.005062  0.009795  0.007594   \n",
       "sf                 0.958755  0.025875  0.000506  0.001440  0.007899  0.003463   \n",
       "ug                 0.963048  0.000803  0.025806  0.004719  0.000301  0.005322   \n",
       "v                  0.949122  0.000606  0.020728  0.013729  0.007235  0.008042   \n",
       "\n",
       "cluster_countvec4         6  \n",
       "party                        \n",
       "alt                0.000000  \n",
       "dd                 0.000000  \n",
       "df                 0.000000  \n",
       "el                 0.000000  \n",
       "fg                 0.000000  \n",
       "kons               0.000000  \n",
       "la                 0.000000  \n",
       "mod                0.000000  \n",
       "nb                 0.000000  \n",
       "rv                 0.000035  \n",
       "s                  0.010088  \n",
       "sf                 0.002062  \n",
       "ug                 0.000000  \n",
       "v                  0.000538  "
      ]
     },
     "execution_count": 133,
     "metadata": {},
     "output_type": "execute_result"
    }
   ],
   "source": [
    "pd.crosstab(tweet_merged['party'],tweet_merged['cluster_countvec4'], normalize = 'index') #krydstabel over fordeling af kluster på partier"
   ]
  },
  {
   "cell_type": "code",
   "execution_count": 134,
   "id": "f789b395-6128-43f7-85c8-3c97af8f876d",
   "metadata": {
    "execution": {
     "iopub.execute_input": "2022-12-15T19:25:12.546558Z",
     "iopub.status.busy": "2022-12-15T19:25:12.546349Z",
     "iopub.status.idle": "2022-12-15T19:27:53.577792Z",
     "shell.execute_reply": "2022-12-15T19:27:53.576500Z",
     "shell.execute_reply.started": "2022-12-15T19:25:12.546539Z"
    },
    "tags": []
   },
   "outputs": [
    {
     "name": "stderr",
     "output_type": "stream",
     "text": [
      "/opt/conda/lib/python3.9/site-packages/sklearn/cluster/_kmeans.py:870: FutureWarning: The default value of `n_init` will change from 10 to 'auto' in 1.4. Set the value of `n_init` explicitly to suppress the warning\n",
      "/opt/conda/lib/python3.9/site-packages/sklearn/cluster/_kmeans.py:870: FutureWarning: The default value of `n_init` will change from 10 to 'auto' in 1.4. Set the value of `n_init` explicitly to suppress the warning\n",
      "/opt/conda/lib/python3.9/site-packages/sklearn/cluster/_kmeans.py:870: FutureWarning: The default value of `n_init` will change from 10 to 'auto' in 1.4. Set the value of `n_init` explicitly to suppress the warning\n",
      "/opt/conda/lib/python3.9/site-packages/sklearn/cluster/_kmeans.py:870: FutureWarning: The default value of `n_init` will change from 10 to 'auto' in 1.4. Set the value of `n_init` explicitly to suppress the warning\n",
      "/opt/conda/lib/python3.9/site-packages/sklearn/cluster/_kmeans.py:870: FutureWarning: The default value of `n_init` will change from 10 to 'auto' in 1.4. Set the value of `n_init` explicitly to suppress the warning\n",
      "/opt/conda/lib/python3.9/site-packages/sklearn/cluster/_kmeans.py:870: FutureWarning: The default value of `n_init` will change from 10 to 'auto' in 1.4. Set the value of `n_init` explicitly to suppress the warning\n",
      "/opt/conda/lib/python3.9/site-packages/sklearn/cluster/_kmeans.py:870: FutureWarning: The default value of `n_init` will change from 10 to 'auto' in 1.4. Set the value of `n_init` explicitly to suppress the warning\n",
      "/opt/conda/lib/python3.9/site-packages/sklearn/cluster/_kmeans.py:870: FutureWarning: The default value of `n_init` will change from 10 to 'auto' in 1.4. Set the value of `n_init` explicitly to suppress the warning\n",
      "/opt/conda/lib/python3.9/site-packages/sklearn/cluster/_kmeans.py:870: FutureWarning: The default value of `n_init` will change from 10 to 'auto' in 1.4. Set the value of `n_init` explicitly to suppress the warning\n",
      "/opt/conda/lib/python3.9/site-packages/sklearn/cluster/_kmeans.py:870: FutureWarning: The default value of `n_init` will change from 10 to 'auto' in 1.4. Set the value of `n_init` explicitly to suppress the warning\n",
      "/opt/conda/lib/python3.9/site-packages/sklearn/cluster/_kmeans.py:870: FutureWarning: The default value of `n_init` will change from 10 to 'auto' in 1.4. Set the value of `n_init` explicitly to suppress the warning\n",
      "/opt/conda/lib/python3.9/site-packages/sklearn/cluster/_kmeans.py:870: FutureWarning: The default value of `n_init` will change from 10 to 'auto' in 1.4. Set the value of `n_init` explicitly to suppress the warning\n",
      "/opt/conda/lib/python3.9/site-packages/sklearn/cluster/_kmeans.py:870: FutureWarning: The default value of `n_init` will change from 10 to 'auto' in 1.4. Set the value of `n_init` explicitly to suppress the warning\n",
      "/opt/conda/lib/python3.9/site-packages/sklearn/cluster/_kmeans.py:870: FutureWarning: The default value of `n_init` will change from 10 to 'auto' in 1.4. Set the value of `n_init` explicitly to suppress the warning\n",
      "/opt/conda/lib/python3.9/site-packages/sklearn/cluster/_kmeans.py:870: FutureWarning: The default value of `n_init` will change from 10 to 'auto' in 1.4. Set the value of `n_init` explicitly to suppress the warning\n"
     ]
    }
   ],
   "source": [
    "wcss4 = []\n",
    "for i in range(1, 16):\n",
    "    kmeans4 = KMeans(i)\n",
    "    kmeans4.fit(tokens_df4)\n",
    "    wcss_iter4 = kmeans4.inertia_\n",
    "    wcss4.append(wcss_iter4)"
   ]
  },
  {
   "cell_type": "code",
   "execution_count": 135,
   "id": "8421bd49-b1c2-463c-b73c-e2ff895d0b35",
   "metadata": {
    "execution": {
     "iopub.execute_input": "2022-12-15T19:27:53.579593Z",
     "iopub.status.busy": "2022-12-15T19:27:53.579330Z",
     "iopub.status.idle": "2022-12-15T19:27:53.694889Z",
     "shell.execute_reply": "2022-12-15T19:27:53.694234Z",
     "shell.execute_reply.started": "2022-12-15T19:27:53.579569Z"
    },
    "tags": []
   },
   "outputs": [
    {
     "data": {
      "text/plain": [
       "Text(0, 0.5, 'WCSS')"
      ]
     },
     "execution_count": 135,
     "metadata": {},
     "output_type": "execute_result"
    },
    {
     "data": {
      "image/png": "[encoded data removed]",
      "text/plain": [
       "<Figure size 640x480 with 1 Axes>"
      ]
     },
     "metadata": {},
     "output_type": "display_data"
    }
   ],
   "source": [
    "number_clusters4 = range(1, 16)\n",
    "plt.plot(number_clusters4, wcss4)\n",
    "plt.title('Sammmenhæng mellem WCSS og clusters')\n",
    "plt.xlabel('Antallet af klynger')\n",
    "plt.ylabel('WCSS')"
   ]
  },
  {
   "cell_type": "markdown",
   "id": "a5a16de6-72c3-46ac-af0e-0f1d8606b9d1",
   "metadata": {},
   "source": [
    "### Inspicer bigram fordeling på cluster model 4: Bigrams"
   ]
  },
  {
   "cell_type": "code",
   "execution_count": 53,
   "id": "680f7a82-ffe6-4577-9275-83abbd6132fc",
   "metadata": {
    "execution": {
     "iopub.execute_input": "2022-12-15T10:12:18.993343Z",
     "iopub.status.busy": "2022-12-15T10:12:18.992516Z",
     "iopub.status.idle": "2022-12-15T10:12:22.298445Z",
     "shell.execute_reply": "2022-12-15T10:12:22.296989Z",
     "shell.execute_reply.started": "2022-12-15T10:12:18.993287Z"
    },
    "tags": []
   },
   "outputs": [],
   "source": [
    "# foretager PCA-model\n",
    "\n",
    "pca = PCA(n_components=2, random_state= 666)\n",
    "\n",
    "pca_vecs = pca.fit_transform(tokens_df4)\n",
    "\n",
    "pca1 = pca_vecs[:, 0]\n",
    "pca2 = pca_vecs[:, 1]\n",
    "\n",
    "tweet_merged['pca1'] = pca1\n",
    "tweet_merged['pca2'] = pca2"
   ]
  },
  {
   "cell_type": "code",
   "execution_count": 138,
   "id": "4c466c2e-adec-4a6e-bb78-c55ba93d7291",
   "metadata": {
    "execution": {
     "iopub.execute_input": "2022-12-15T20:41:59.334222Z",
     "iopub.status.busy": "2022-12-15T20:41:59.333567Z",
     "iopub.status.idle": "2022-12-15T20:41:59.393551Z",
     "shell.execute_reply": "2022-12-15T20:41:59.392685Z",
     "shell.execute_reply.started": "2022-12-15T20:41:59.334151Z"
    },
    "tags": []
   },
   "outputs": [
    {
     "name": "stdout",
     "output_type": "stream",
     "text": [
      "\n",
      "Cluster 0\n",
      "hong kong,første gang,tak dkpol,dag dkpol,dkgre dkpol,Danmark dkpol,million krone,tusind tak,milliard krone,barn ung\n",
      "\n",
      "Cluster 1\n",
      "bred aftale,arbejde dkpol,regering dkpol,million krone,milliard krone,dag dkpol,tak dkpol,Danmark dkpol,grøn skattereform,dkpol dkgre\n",
      "\n",
      "Cluster 2\n",
      "blå parti,fri grøn,mette frederikse,milliard krone,lang tid,tak dkpol,Danmark dkpol,dag dkpol,regering dkpol,dkpol dkmedi\n",
      "\n",
      "Cluster 3\n",
      "første gang,blå blok,dansk økonomi,grøn omstilling,mette frederikse,dansk politik,dkpol ftliv,dkpol dkmedi,dkpol dkgre,Mette frederikse\n",
      "\n",
      "Cluster 4\n",
      "regering dkpol,Danmark dkpol,dkpol dkmedi,dkpol ftliv,bred aftale,dkgre dkpol,milliard krone,grøn skattereform,dkpol dkgre,grøn omstilling\n",
      "\n",
      "Cluster 5\n",
      "første gang,udsat barn,grøn omstilling,dkpol dkmedi,Danmark dkpol,dkpol dkgre,tak indsats,tak samarbejde,stor tak,stor tillykke\n",
      "\n",
      "Cluster 6\n",
      "stor tak,tak samarbejde,tak dkpol,bred flertal,Danmark dkpol,dag dkpol,arbejde dkpol,million krone,grøn omstilling,dkpol dktrp\n"
     ]
    }
   ],
   "source": [
    "#udtrækker top tokens i clusters\n",
    "def get_top_keywords(n_terms):\n",
    "    \"\"\"This function returns the keywords for each centroid of the KMeans\"\"\"\n",
    "    df = pd.DataFrame(transformed_documents4.todense()).groupby(identified_clusters4).mean() # groups the TF-IDF vector by cluster\n",
    "    terms = vectorizer4.get_feature_names_out() # access tf-idf terms\n",
    "    for i,r in df.iterrows():\n",
    "        print('\\nCluster {}'.format(i))\n",
    "        print(','.join([terms[t] for t in np.argsort(r)[-n_terms:]])) # for each row of the dataframe, find the n terms that have the highest tf idf score\n",
    "            \n",
    "get_top_keywords(10)"
   ]
  },
  {
   "cell_type": "code",
   "execution_count": 59,
   "id": "ce60481f-7fb2-48ec-a766-14ea991df2c4",
   "metadata": {
    "execution": {
     "iopub.execute_input": "2022-12-15T10:32:05.641301Z",
     "iopub.status.busy": "2022-12-15T10:32:05.640619Z",
     "iopub.status.idle": "2022-12-15T10:32:15.148450Z",
     "shell.execute_reply": "2022-12-15T10:32:15.147732Z",
     "shell.execute_reply.started": "2022-12-15T10:32:05.641248Z"
    },
    "tags": []
   },
   "outputs": [
    {
     "data": {
      "image/png": "[encoded data removed]",
      "text/plain": [
       "<Figure size 640x480 with 1 Axes>"
      ]
     },
     "metadata": {},
     "output_type": "display_data"
    },
    {
     "data": {
      "text/plain": [
       "<ggplot: (8766105350376)>"
      ]
     },
     "execution_count": 59,
     "metadata": {},
     "output_type": "execute_result"
    }
   ],
   "source": [
    "#visualisering\n",
    "(ggplot(data = tweet_merged, mapping = aes(x = 'pca1', y = 'pca2', shape = 'cluster_countvec4', colour = 'party')) \n",
    " + geom_point())"
   ]
  }
 ],
 "metadata": {
  "kernelspec": {
   "display_name": "Python 3 ",
   "language": "python",
   "name": "python3"
  },
  "language_info": {
   "codemirror_mode": {
    "name": "ipython",
    "version": 3
   },
   "file_extension": ".py",
   "mimetype": "text/x-python",
   "name": "python",
   "nbconvert_exporter": "python",
   "pygments_lexer": "ipython3",
   "version": "3.9.10"
  }
 },
 "nbformat": 4,
 "nbformat_minor": 5
}
